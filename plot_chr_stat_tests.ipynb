{
 "cells": [
  {
   "cell_type": "code",
   "execution_count": null,
   "metadata": {},
   "outputs": [],
   "source": [
    "import seaborn as sns\n",
    "import pandas as pd\n",
    "import matplotlib.pyplot as plt\n",
    "sns.set(context=\"notebook\", style=\"ticks\", font=\"Helvetica\")\n",
    "import numpy as np"
   ]
  },
  {
   "cell_type": "code",
   "execution_count": null,
   "metadata": {},
   "outputs": [],
   "source": [
    "datasets = sorted([\n",
    "    \"somatosensory_converted_into_tpm\",\n",
    "    \"Dopaminergic_TPM_clean\",\n",
    "    \"kakadarov_tpm\",\n",
    "    \"Cheng_ES_TPM\",\n",
    "    \"Gaublomme_GSE75109_TPM_clean\",\n",
    "    \"Gaublomme_GSE75110_TPM_clean\",\n",
    "    \"Gaublomme_GSE75111_TPM_clean\",\n",
    "    \"Rbp4_positive_cells\",\n",
    "    \"Alveolar_cells_Type_I_Merged_Batches\",\n",
    "    \"Alveolar_cells_Type_II_Merged_Batches\",\n",
    "#     \"Alveolar_cells_both_types\",\n",
    "    \"klein\",\n",
    "    \"hepat_TPM_yang_clean\",\n",
    "    \"Yu_First_wave_endocrine_cells\",\n",
    "])"
   ]
  },
  {
   "cell_type": "code",
   "execution_count": null,
   "metadata": {},
   "outputs": [],
   "source": [
    "cell_type_names = {\n",
    "    \"somatosensory_converted_into_tpm\": \"Somatosensory N\",\n",
    "    \"Dopaminergic_TPM_clean\": \"Dopaminergic N\",\n",
    "    \"kakadarov_tpm\": \"CD8+ T cell\",\n",
    "    \"Cheng_ES_TPM\": \"Isolated ESC\",\n",
    "    \"Gaublomme_GSE75109_TPM_clean\": \"Th17 A\",\n",
    "    \"Gaublomme_GSE75110_TPM_clean\": \"Th17 B\",\n",
    "    \"Gaublomme_GSE75111_TPM_clean\": \"Th17 C\",\n",
    "    \"Rbp4_positive_cells\": \"Corticostriatal N\",\n",
    "    \"Alveolar_cells_Type_I_Merged_Batches\": \"Lung ACI\",\n",
    "    \"Alveolar_cells_Type_II_Merged_Batches\": \"Lung ACII\",\n",
    "#     \"Alveolar_cells_both_types\",\n",
    "    \"klein\": \"Cultured ESC\",\n",
    "    \"hepat_TPM_yang_clean\": \"Liver HB/HC\",\n",
    "    \"Yu_First_wave_endocrine_cells\": \"Pancreatic EC\",\n",
    "}"
   ]
  },
  {
   "cell_type": "code",
   "execution_count": null,
   "metadata": {},
   "outputs": [],
   "source": [
    "def load_pvalues(stretch):\n",
    "    dfs = [pd.read_csv(\"{}/chr_stat_test_pvalues_{}.csv\".format(x, stretch)) for x in datasets] \n",
    "    for i, dataset in enumerate(datasets):\n",
    "        dfs[i].loc[:,\"dataset\"] = dataset\n",
    "    df = pd.concat(dfs)\n",
    "    return df"
   ]
  },
  {
   "cell_type": "code",
   "execution_count": null,
   "metadata": {},
   "outputs": [],
   "source": [
    "dfs = {x: load_pvalues(x) for x in [\"7\", \"14\", \"21\"]}"
   ]
  },
  {
   "cell_type": "code",
   "execution_count": null,
   "metadata": {},
   "outputs": [],
   "source": [
    "df = dfs[\"14\"]"
   ]
  },
  {
   "cell_type": "code",
   "execution_count": null,
   "metadata": {},
   "outputs": [],
   "source": [
    "df = df.replace(cell_type_names)"
   ]
  },
  {
   "cell_type": "code",
   "execution_count": null,
   "metadata": {},
   "outputs": [],
   "source": [
    "def transform(df):\n",
    "    orig = df.loc[:, [\"metric\", \"orig_value\"]]\n",
    "    shuf = df.loc[:, [\"metric\", \"shuffled_value\"]]\n",
    "    orig.columns = [\"metric\", \"value\"]\n",
    "    shuf.columns = [\"metric\", \"value\"]\n",
    "    orig.loc[:,\"Distribution\"] = \"Original\"\n",
    "    shuf.loc[:,\"Distribution\"] = \"Median Shuffled\"\n",
    "    \n",
    "    return pd.concat([orig, shuf])\n",
    "\n",
    "t_df = df.groupby(\"dataset\").apply(transform).reset_index()"
   ]
  },
  {
   "cell_type": "code",
   "execution_count": null,
   "metadata": {},
   "outputs": [],
   "source": [
    "df.loc[:,\"Difference\"] = (df.orig_value - df.shuffled_value)\n",
    "df.loc[:,\"-log2 p-value\"] = -np.log2(df.pvalue)\n",
    "df.loc[:,\"Cell Type\"] = df.dataset\n",
    "cutoff=-np.log2(0.025)\n",
    "cutoff"
   ]
  },
  {
   "cell_type": "code",
   "execution_count": null,
   "metadata": {},
   "outputs": [],
   "source": [
    "current_palette = sns.color_palette(\"Paired\", n_colors=7)\n",
    "new_palette = []\n",
    "for x in current_palette:\n",
    "    new_palette += [x,x]\n",
    "new_palette = new_palette[:13]\n",
    "\n",
    "def plot_volcano(_df, title, ax, legend=False):\n",
    "    sns.set(font_scale=1.5, style=\"ticks\", font=\"Arial\")\n",
    "    filled_markers = ['o', 'X']*7\n",
    "    sns.scatterplot(data=_df,x=\"Difference\",y=\"-log2 p-value\",hue=\"Cell Type\",style=\"Cell Type\",markers=filled_markers,legend=legend,s=75,alpha=0.9,palette=new_palette,ax=ax)\n",
    "    xlim = max(_df.Difference.max(),_df.Difference.min())*1.1\n",
    "    sns.lineplot([-xlim,xlim],[cutoff, cutoff],dashes=True,color=\"grey\", alpha=0.5,ax=ax)\n",
    "    sns.distplot([0], kde=False, hist=False, rug=True, rug_kws={\"height\": 1.0, \"linewidth\": 2, \"alpha\": 0.5, \"color\": \"grey\"},ax=ax)\n",
    "    ax.set_xlim([-xlim,xlim])\n",
    "    if legend:\n",
    "        ax.legend(bbox_to_anchor=(1.0, 1.0))\n",
    "    ax.set_title(title)\n",
    "\n",
    "_, axs = plt.subplots(3,1,figsize=(4,7))\n",
    "plt.subplots_adjust(hspace=1.1)\n",
    "plot_volcano(df.loc[df.metric == \"percentile_10\"], \"IC (1st Decile)\", axs[0], legend=\"full\")\n",
    "plot_volcano(df.loc[df.metric == \"percentile_90\"], \"IC (9th Decile)\", axs[1])\n",
    "plot_volcano(df.loc[df.metric == \"quantile_ratio\"], \"IC (Quantile Ratio)\", axs[2])\n",
    "plt.show()\n"
   ]
  },
  {
   "cell_type": "code",
   "execution_count": null,
   "metadata": {},
   "outputs": [],
   "source": [
    "df[df.metric == \"percentile_90\"].reset_index()"
   ]
  },
  {
   "cell_type": "code",
   "execution_count": null,
   "metadata": {},
   "outputs": [],
   "source": [
    "def draw_pvalues(ax, x, dataset, metric):\n",
    "    y = df.loc[(df.metric == metric) & (df.dataset == dataset), [\"orig_value\", \"shuffled_value\"]].max().max()\n",
    "    ax.text(x, y+0.05, \"{:.1E}\".format(df.loc[(df.metric == metric) & (df.dataset == dataset), \"pvalue\"].values[0]), horizontalalignment='center', fontsize=20)"
   ]
  },
  {
   "cell_type": "code",
   "execution_count": null,
   "metadata": {},
   "outputs": [],
   "source": [
    "sns.set(font_scale=1.8, style=\"ticks\", font=\"Arial\")\n",
    "_df = df.loc[df.metric == \"percentile_10\"]\n",
    "_df = _df.reset_index()\n",
    "_df = _df.loc[[11,2,12]]\n",
    "_datasets = _df.dataset\n",
    "_df = _df.groupby(\"dataset\").apply(transform).reset_index()\n",
    "g = sns.catplot(data=_df, x=\"dataset\", y=\"value\", hue=\"Distribution\", kind=\"bar\", sharey=False, aspect=1.1)\n",
    "plt.xticks(rotation = 30, ha=\"right\")\n",
    "plt.ylabel(\"1st Decile\")\n",
    "plt.xlabel(\"Cell Type\")\n",
    "for x, name in enumerate(_datasets):\n",
    "    draw_pvalues(g.ax, x, name, \"percentile_10\")"
   ]
  },
  {
   "cell_type": "code",
   "execution_count": null,
   "metadata": {},
   "outputs": [],
   "source": [
    "ks_dfs = [pd.read_csv(\"{}/chr_ks.csv\".format(x)) for x in datasets]"
   ]
  },
  {
   "cell_type": "code",
   "execution_count": null,
   "metadata": {},
   "outputs": [],
   "source": [
    "ks = pd.concat(ks_dfs)\n",
    "ks.index = datasets\n",
    "ks = ks.rename(cell_type_names, axis=0)"
   ]
  },
  {
   "cell_type": "code",
   "execution_count": null,
   "metadata": {},
   "outputs": [],
   "source": [
    "ks"
   ]
  },
  {
   "cell_type": "code",
   "execution_count": null,
   "metadata": {},
   "outputs": [],
   "source": [
    "# t_df[(t_df.dataset == \"Cheng_ES_TPM\") & (t_df.metric == \"median\")]\n",
    "# ks.to_csv(\"ks_summary.csv\",float_format=\"%.1E\")\n",
    "def get_row(dataset, stretch):\n",
    "    metrics = [\"percentile_10\", \"percentile_90\", \"percentile_97.5\", \"percentile_02.5\", \"quantile_ratio\", \"median\"]\n",
    "    _df = df.loc[df.metric.isin(metrics) & (df.dataset == dataset)]\n",
    "    row_values = [ks.loc[dataset, stretch]]\n",
    "    for metric in metrics:\n",
    "        values = _df.loc[_df.metric == metric, [\"orig_value\", \"shuffled_value\"]].values\n",
    "        row_values += list(np.reshape(values, (-1,))) + [_df.loc[_df.metric == metric, \"pvalue\"].values[0]]\n",
    "    index = pd.MultiIndex.from_product([metrics, [\"orig_value\", \"shuffled_value\", \"pvalue\"]])\n",
    "    index = pd.MultiIndex.from_frame(pd.DataFrame(np.vstack([[(\"ks\", \"pvalue\")],list(index.values)])))    \n",
    "    row = pd.Series(row_values, index=index, name=(dataset, stretch))\n",
    "    return row\n",
    "\n"
   ]
  },
  {
   "cell_type": "code",
   "execution_count": null,
   "metadata": {},
   "outputs": [],
   "source": [
    "m_index = pd.MultiIndex.from_product([cell_type_names.values(), [\"7\", \"14\", \"21\"]])\n",
    "summary = pd.DataFrame([get_row(*x) for x in m_index.values], index=m_index)"
   ]
  },
  {
   "cell_type": "code",
   "execution_count": null,
   "metadata": {},
   "outputs": [],
   "source": [
    "summary"
   ]
  },
  {
   "cell_type": "code",
   "execution_count": null,
   "metadata": {},
   "outputs": [],
   "source": [
    "summary.to_csv(\"chr_stats_test_summary.csv\")\n"
   ]
  }
 ],
 "metadata": {
  "kernelspec": {
   "display_name": "Python 3.7.4 64-bit ('stochastic': conda)",
   "language": "python",
   "name": "python37464bitstochasticcondad3c784986b534aaebb6b91784b827746"
  },
  "language_info": {
   "codemirror_mode": {
    "name": "ipython",
    "version": 3
   },
   "file_extension": ".py",
   "mimetype": "text/x-python",
   "name": "python",
   "nbconvert_exporter": "python",
   "pygments_lexer": "ipython3",
   "version": "3.7.6"
  }
 },
 "nbformat": 4,
 "nbformat_minor": 4
}
