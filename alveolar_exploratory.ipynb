{
 "cells": [
  {
   "cell_type": "code",
   "execution_count": null,
   "metadata": {},
   "outputs": [],
   "source": [
    "import pandas as pd\n",
    "import seaborn as sns\n",
    "import numpy as np\n",
    "import sys\n",
    "sys.path.insert(0,'./bin')\n",
    "from pipeline_utils.vrs_utils import get_vrs, grange\n",
    "from tqdm import tqdm_notebook\n",
    "from scipy.stats.mstats import gmean\n",
    "import matplotlib.pyplot as plt\n",
    "from sklearn.metrics import accuracy_score, f1_score, matthews_corrcoef"
   ]
  },
  {
   "cell_type": "code",
   "execution_count": null,
   "metadata": {},
   "outputs": [],
   "source": [
    "df1 = pd.read_csv(\"Alveolar_cells_Type_I_Merged_Batches.csv\", index_col=\"gene_id\")\n",
    "df2 = pd.read_csv(\"Alveolar_cells_Type_II_Merged_Batches.csv\", index_col=\"gene_id\")"
   ]
  },
  {
   "cell_type": "code",
   "execution_count": null,
   "metadata": {},
   "outputs": [],
   "source": [
    "(df1 > 0).sum(axis=1).hist(bins=50)"
   ]
  },
  {
   "cell_type": "code",
   "execution_count": null,
   "metadata": {},
   "outputs": [],
   "source": [
    "(df2 > 0).sum(axis=1).hist(bins=50)"
   ]
  },
  {
   "cell_type": "code",
   "execution_count": null,
   "metadata": {},
   "outputs": [],
   "source": [
    "def BI_kurtosis(df):\n",
    "    n = df.shape[0]\n",
    "    K = df.kurt()\n",
    "    skewness = df.skew()\n",
    "    return (skewness ** 2 + 1) / (K + (3 * (n-1) ** 2) / ((n-2) * (n-3)))\n",
    "\n",
    "def _get_vrs(toy):\n",
    "    threshold_range = grange(0.5, np.nanquantile(toy,0.975))\n",
    "#     threshold_range = grange(*np.nanquantile(toy,[0.025, 0.975]))\n",
    "    values = [get_vrs(toy, x) for x in (threshold_range)]\n",
    "    return threshold_range[np.nanargmin(values)]\n",
    "\n",
    "def plot(name, bins, ax, invert_labels=False):\n",
    "    toy = np.concatenate([df1.loc[name], df2.loc[name]])\n",
    "    \n",
    "#     print(\"Type I  BI: \", BI_kurtosis(df1.loc[name]))\n",
    "#     print(\"Type II BI: \", BI_kurtosis(df2.loc[name]))\n",
    "#     print(\"Combine BI: \", BI_kurtosis(pd.Series(toy)))\n",
    "    \n",
    "    true_labels = np.concatenate([\n",
    "        np.zeros(len(df1.loc[name])),\n",
    "        np.ones(len(df2.loc[name]))\n",
    "    ])\n",
    "    if invert_labels:\n",
    "        true_labels = 1 - true_labels\n",
    "    \n",
    "#     print(true_labels)\n",
    "    scores = []\n",
    "    \n",
    "    toy_0 = toy[toy > 0]\n",
    "    vrs_threshold = _get_vrs(toy)\n",
    "    vrs_labels = (toy >= vrs_threshold).astype(int)\n",
    "    scores += [accuracy_score(true_labels, vrs_labels), f1_score(true_labels, vrs_labels), matthews_corrcoef(true_labels, vrs_labels)]\n",
    "    \n",
    "    if len(toy_0) < 120:\n",
    "        upper = sorted(toy_0)[-3:]\n",
    "    else:\n",
    "        upper = np.quantile(toy_0, 0.975)\n",
    "    fm_threshold = upper / 10\n",
    "    fm_labels = (toy >= fm_threshold).astype(int)\n",
    "    scores += [accuracy_score(true_labels, fm_labels), f1_score(true_labels, fm_labels), matthews_corrcoef(true_labels, fm_labels)]\n",
    "        \n",
    "    if len(toy_0) < 120:\n",
    "        lower = sorted(toy_0)[:3]\n",
    "    else:\n",
    "        lower = np.quantile(toy_0, 0.025)\n",
    "    gtme_threshold = gmean([upper, lower])\n",
    "    gtme_labels = (toy >= gtme_threshold).astype(int)\n",
    "    scores += [accuracy_score(true_labels, gtme_labels), f1_score(true_labels, gtme_labels), matthews_corrcoef(true_labels, gtme_labels)]\n",
    "    \n",
    "    zero_labels = (toy >= 0.5).astype(int)\n",
    "    scores += [accuracy_score(true_labels, zero_labels), f1_score(true_labels, zero_labels), matthews_corrcoef(true_labels, zero_labels)]\n",
    "    \n",
    "    bottom, _ = np.histogram(df1.loc[name], range=(-0.5, bins-0.5), bins=bins)\n",
    "    sns.distplot(df1.loc[name], kde=False, hist_kws={\"range\": (-0.5, bins-0.5)}, bins=bins, ax=ax)\n",
    "    sns.distplot(df2.loc[name], kde=False, hist_kws={\"range\": (-0.5, bins-0.5), \"bottom\": bottom}, bins=bins, ax=ax)\n",
    "    sns.distplot([vrs_threshold], kde=False, hist=False, rug=True, rug_kws={\"height\": 0.95, \"linewidth\": 2}, label=\"VRS\", ax=ax)\n",
    "    sns.distplot([fm_threshold], kde=False, hist=False, rug=True, rug_kws={\"height\": 0.95, \"linewidth\": 2}, label=\"FM\", ax=ax)\n",
    "    sns.distplot([gtme_threshold], kde=False, hist=False, rug=True, rug_kws={\"height\": 0.95, \"linewidth\": 2}, label=\"GTME\", ax=ax)   \n",
    "    ax.legend()\n",
    "    ax.set_xlabel(\"UMI\")\n",
    "    ax.set_ylabel(\"Count\")\n",
    "    ax.set_title(name)\n",
    "    return scores"
   ]
  },
  {
   "cell_type": "code",
   "execution_count": null,
   "metadata": {},
   "outputs": [],
   "source": [
    "sns.set(font_scale=1.2, style=\"ticks\", font=\"Helvetica\")\n",
    "scores = []\n",
    "_, axs = plt.subplots(2,2, figsize=(12,8))\n",
    "plt.subplots_adjust(hspace=0.35)\n",
    "scores += [plot(\"Ager\", 30, axs[0,0], True)]\n",
    "scores += [plot(\"Hopx\", 12, axs[0,1], True)]\n",
    "scores += [plot(\"Sftpb\", 60, axs[1,0])]\n",
    "scores += [plot(\"Abca3\", 9, axs[1,1])]\n",
    "plt.show()"
   ]
  },
  {
   "cell_type": "code",
   "execution_count": null,
   "metadata": {},
   "outputs": [],
   "source": [
    "scores += [list(np.mean(scores, axis=0))]"
   ]
  },
  {
   "cell_type": "code",
   "execution_count": null,
   "metadata": {},
   "outputs": [],
   "source": [
    "pd.DataFrame(\n",
    "    scores,\n",
    "    index=[\"Ager\", \"Hopx\", \"Sftpb\", \"Abca3\", \"mean\"],\n",
    "    columns=pd.MultiIndex.from_product([[\"VRS\", \"FM\", \"GTME\", \"0.5\"], [\"Accuracy\", \"F1\", \"MCC\"]])\n",
    ")"
   ]
  },
  {
   "cell_type": "code",
   "execution_count": null,
   "metadata": {},
   "outputs": [],
   "source": [
    "pd.DataFrame(\n",
    "    scores,\n",
    "    index=[\"Ager\", \"Hopx\", \"Sftpb\", \"Abca3\", \"mean\"],\n",
    "    columns=pd.MultiIndex.from_product([[\"VRS\", \"FM\", \"GTME\", \"0.5\"], [\"Accuracy\", \"F1\", \"MCC\"]])\n",
    ").to_csv(\"umi_threshold_misclassification.csv\")"
   ]
  }
 ],
 "metadata": {
  "kernelspec": {
   "display_name": "Python 3.7.4 64-bit ('stochastic': conda)",
   "language": "python",
   "name": "python37464bitstochasticcondad3c784986b534aaebb6b91784b827746"
  },
  "language_info": {
   "codemirror_mode": {
    "name": "ipython",
    "version": 3
   },
   "file_extension": ".py",
   "mimetype": "text/x-python",
   "name": "python",
   "nbconvert_exporter": "python",
   "pygments_lexer": "ipython3",
   "version": "3.7.6"
  }
 },
 "nbformat": 4,
 "nbformat_minor": 4
}
