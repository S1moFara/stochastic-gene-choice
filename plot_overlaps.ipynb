{
 "cells": [
  {
   "cell_type": "code",
   "execution_count": null,
   "metadata": {},
   "outputs": [],
   "source": [
    "import pandas as pd\n",
    "import matplotlib.pyplot as plt\n",
    "import seaborn as sns\n",
    "\n",
    "import matplotlib.font_manager\n",
    "matplotlib.font_manager.findSystemFonts(fontpaths=None, fontext='ttf')"
   ]
  },
  {
   "cell_type": "code",
   "execution_count": null,
   "metadata": {},
   "outputs": [],
   "source": [
    "cell_type_names = {\n",
    "    \"somatosensory_converted_into_tpm\": \"Somatosensory N\",\n",
    "    \"Dopaminergic_TPM_clean\": \"Dopaminergic N\",\n",
    "    \"kakadarov_tpm\": \"CD8+ T cell\",\n",
    "    \"Cheng_ES_TPM\": \"Isolated ESC\",\n",
    "    \"Gaublomme_GSE75109_TPM_clean\": \"Th17 A\",\n",
    "    \"Gaublomme_GSE75110_TPM_clean\": \"Th17 B\",\n",
    "    \"Gaublomme_GSE75111_TPM_clean\": \"Th17 C\",\n",
    "    \"Rbp4_positive_cells\": \"Corticostriatal N\",\n",
    "    \"Alveolar_cells_Type_I_Merged_Batches\": \"Lung ACI\",\n",
    "    \"Alveolar_cells_Type_II_Merged_Batches\": \"Lung ACII\",\n",
    "#     \"Alveolar_cells_both_types\",\n",
    "    \"klein\": \"Cultured ESC\",\n",
    "    \"hepat_TPM_yang_clean\": \"Liver HB/HC\",\n",
    "    \"Yu_First_wave_endocrine_cells\": \"Pancreatic EC\",\n",
    "}"
   ]
  },
  {
   "cell_type": "code",
   "execution_count": null,
   "metadata": {},
   "outputs": [],
   "source": [
    "fam_df = pd.read_csv(\"lower_families_to_plot.csv\").replace(cell_type_names)"
   ]
  },
  {
   "cell_type": "code",
   "execution_count": null,
   "metadata": {},
   "outputs": [],
   "source": [
    "fam_df"
   ]
  },
  {
   "cell_type": "code",
   "execution_count": null,
   "metadata": {},
   "outputs": [],
   "source": [
    "m_fam_df = pd.DataFrame()"
   ]
  },
  {
   "cell_type": "code",
   "execution_count": null,
   "metadata": {},
   "outputs": [],
   "source": [
    "for i, row in fam_df.iterrows():\n",
    "    m_fam_df.loc[row.family_name, row.dataset_name] = row.ic\n",
    "#     print(row.family_name, row.dataset_name, row.ic)"
   ]
  },
  {
   "cell_type": "code",
   "execution_count": null,
   "metadata": {},
   "outputs": [],
   "source": [
    "m_fam_df"
   ]
  },
  {
   "cell_type": "code",
   "execution_count": null,
   "metadata": {},
   "outputs": [],
   "source": [
    "annot_fam_df = pd.DataFrame()\n",
    "for i, row in fam_df.iterrows():\n",
    "    annot_fam_df.loc[row.family_name, row.dataset_name] = \"{}\".format(\"*\" if row.ic_upper >= 1 else \"\")\n",
    "#     annot_fam_df.loc[row.family_name, row.dataset_name] = \"{:.2f}{}\".format(row.ic, \"*\" if row.ic_upper >= 1 else \"\")\n",
    "#     print(row.family_name, row.dataset_name, row.ic)\n",
    "annot_fam_df = annot_fam_df.fillna(\"\")"
   ]
  },
  {
   "cell_type": "code",
   "execution_count": null,
   "metadata": {},
   "outputs": [],
   "source": [
    "annot_fam_df.sort_index(axis=1)"
   ]
  },
  {
   "cell_type": "code",
   "execution_count": null,
   "metadata": {},
   "outputs": [],
   "source": [
    "sns.set(font_scale=1.4, style=\"ticks\", font=\"Arial\")\n",
    "plt.figure(figsize=(5,5))\n",
    "sns.heatmap(m_fam_df.sort_index(axis=1), cmap=\"YlOrRd_r\", center=0.8, square=True, annot=annot_fam_df.sort_index(axis=1), annot_kws={\"size\":22, \"va\": \"center_baseline\"}, fmt=\"\", xticklabels=True, yticklabels=True, linewidth=1, linecolor=\"grey\")\n",
    "plt.show()"
   ]
  },
  {
   "cell_type": "code",
   "execution_count": null,
   "metadata": {},
   "outputs": [],
   "source": [
    "chr_df = pd.read_csv(\"lower_chromosomes_to_plot.csv\").replace(cell_type_names)"
   ]
  },
  {
   "cell_type": "code",
   "execution_count": null,
   "metadata": {},
   "outputs": [],
   "source": [
    "chr_df"
   ]
  },
  {
   "cell_type": "code",
   "execution_count": null,
   "metadata": {},
   "outputs": [],
   "source": [
    "def get_combined_coordinates(x):\n",
    "    _chr = str(x.chromosome.iloc[0])\n",
    "#     _chr = \"0\"+_chr if len(_chr) == 1 and _chr != \"X\" else _chr\n",
    "    if x.name.startswith(\"#\"):\n",
    "        return pd.Series({\"Combined coordinates\": \"{}: {}-{}\".format(_chr,x.start_gene.min(),x.end_gene.max())})\n",
    "    else:\n",
    "        return pd.Series({\"Combined coordinates\": \"{}: {}-{} ({})\".format(_chr,x.start_gene.min(),x.end_gene.max(),x.name)})\n",
    "chr_df = chr_df.merge(chr_df.groupby([\"Combined name\"]).apply(get_combined_coordinates),left_on=\"Combined name\",right_index=True)"
   ]
  },
  {
   "cell_type": "code",
   "execution_count": null,
   "metadata": {},
   "outputs": [],
   "source": [
    "chr_df.loc[:,\"Combined coordinates\"].unique()"
   ]
  },
  {
   "cell_type": "code",
   "execution_count": null,
   "metadata": {},
   "outputs": [],
   "source": [
    "m_chr_df = pd.DataFrame(index=chr_df.loc[:,\"Combined coordinates\"].unique())\n",
    "for (i, ic) in chr_df.groupby([\"Combined coordinates\", \"dataset\"]).min().ic.iteritems():\n",
    "    m_chr_df.loc[i[0], i[1]] = ic"
   ]
  },
  {
   "cell_type": "code",
   "execution_count": null,
   "metadata": {},
   "outputs": [],
   "source": [
    "annot_chr_df = pd.DataFrame(index=chr_df.loc[:,\"Combined coordinates\"].unique())\n",
    "for i, row in chr_df.groupby([\"Combined coordinates\", \"dataset\"]).min().iterrows():\n",
    "#     annot_chr_df.loc[i[0], i[1]] = \"{:.2f}{}\".format(row.ic, (\"**\" if row.ic >= 1 else \"*\") if row.ic_upper >= 1 else \"\")\n",
    "    annot_chr_df.loc[i[0], i[1]] = \"{}\".format((\"**\" if row.ic >= 1 else \"*\") if row.ic_upper >= 1 else \"\")\n",
    "#     print(row.family_name, row.dataset_name, row.ic)\n",
    "annot_chr_df = annot_chr_df.fillna(\"\")"
   ]
  },
  {
   "cell_type": "code",
   "execution_count": null,
   "metadata": {},
   "outputs": [],
   "source": [
    "sns.set(font_scale=1.7, style=\"ticks\", font=\"Arial\")\n",
    "plt.figure(figsize=(7,10))\n",
    "sns.heatmap(m_chr_df.sort_index(axis=1), cmap=\"YlOrRd_r\", square=True, center=0.8, annot=annot_chr_df.sort_index(axis=1), annot_kws={\"size\":22, \"va\": \"center_baseline\"}, fmt=\"\", xticklabels=True, yticklabels=True, linewidth=1, linecolor=\"grey\")\n",
    "plt.show()"
   ]
  },
  {
   "cell_type": "code",
   "execution_count": null,
   "metadata": {},
   "outputs": [],
   "source": []
  }
 ],
 "metadata": {
  "kernelspec": {
   "display_name": "Python 3.7.4 64-bit ('stochastic': conda)",
   "language": "python",
   "name": "python37464bitstochasticcondad3c784986b534aaebb6b91784b827746"
  },
  "language_info": {
   "codemirror_mode": {
    "name": "ipython",
    "version": 3
   },
   "file_extension": ".py",
   "mimetype": "text/x-python",
   "name": "python",
   "nbconvert_exporter": "python",
   "pygments_lexer": "ipython3",
   "version": "3.7.6"
  }
 },
 "nbformat": 4,
 "nbformat_minor": 4
}
