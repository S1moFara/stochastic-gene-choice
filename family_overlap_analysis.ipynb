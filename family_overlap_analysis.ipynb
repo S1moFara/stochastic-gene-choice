{
 "cells": [
  {
   "cell_type": "code",
   "execution_count": null,
   "metadata": {},
   "outputs": [],
   "source": [
    "import pandas as pd\n",
    "import numpy as np\n",
    "import matplotlib.pyplot as plt\n",
    "from matplotlib.colors import LogNorm\n",
    "import seaborn as sns\n",
    "from bs4 import BeautifulSoup\n",
    "import requests\n",
    "import time\n",
    "from tqdm import tqdm_notebook"
   ]
  },
  {
   "cell_type": "code",
   "execution_count": null,
   "metadata": {},
   "outputs": [],
   "source": [
    "sns.set(context=\"notebook\", style=\"ticks\", font=\"Helvetica\")"
   ]
  },
  {
   "cell_type": "code",
   "execution_count": null,
   "metadata": {},
   "outputs": [],
   "source": [
    "overlaps = pd.read_csv(\"overlap_family_lower_raw.csv\", index_col=[0])"
   ]
  },
  {
   "cell_type": "code",
   "execution_count": null,
   "metadata": {},
   "outputs": [],
   "source": [
    "datasets = [\n",
    "    \"Gaublomme_GSE75109_TPM_clean\",\n",
    "    \"Gaublomme_GSE75110_TPM_clean\",\n",
    "    \"Gaublomme_GSE75111_TPM_clean\",\n",
    "    \"kakadarov_tpm\",\n",
    "    \"somatosensory_converted_into_tpm\",\n",
    "    \"Dopaminergic_TPM_clean\",\n",
    "    \"Rbp4_positive_cells\",\n",
    "    \"Cheng_ES_TPM\",\n",
    "    \"Alveolar_cells_Type_II_Merged_Batches\",\n",
    "    \"Alveolar_cells_Type_I_Merged_Batches\",\n",
    "    \"klein\",\n",
    "    \"hepat_TPM_yang_clean\",\n",
    "    \"Yu_First_wave_endocrine_cells\",\n",
    "]\n",
    "\n",
    "overlaps = overlaps.loc[datasets, datasets]"
   ]
  },
  {
   "cell_type": "code",
   "execution_count": null,
   "metadata": {},
   "outputs": [],
   "source": [
    "families = \"clean_panther4march\"\n",
    "\n",
    "dfs = {x: pd.read_csv(\"{}/{}/results/family_IC.csv\".format(x, families), index_col=\"family_id\") for x in datasets}"
   ]
  },
  {
   "cell_type": "code",
   "execution_count": null,
   "metadata": {},
   "outputs": [],
   "source": [
    "threshold_dfs = {x: pd.read_csv(\"{}/{}/intermediate/family_thresholds.csv\".format(x, families), index_col=\"family_id\") for x in datasets}"
   ]
  },
  {
   "cell_type": "code",
   "execution_count": null,
   "metadata": {},
   "outputs": [],
   "source": [
    "raw_dfs = {x: pd.read_csv(\"{}.csv\".format(x), index_col=\"gene_id\") for x in datasets}"
   ]
  },
  {
   "cell_type": "code",
   "execution_count": null,
   "metadata": {},
   "outputs": [],
   "source": [
    "family_df = pd.read_csv(\"{}.csv\".format(families))"
   ]
  },
  {
   "cell_type": "code",
   "execution_count": null,
   "metadata": {},
   "outputs": [],
   "source": [
    "panther_names = {}\n",
    "def get_panther_name(pantherid):\n",
    "    if pantherid in panther_names.keys():\n",
    "        return panther_names[pantherid];\n",
    "    else: \n",
    "        r = requests.get(\"http://pantherdb.org/panther/family.do?clsAccession={}\".format(pantherid))\n",
    "        soup = BeautifulSoup(r.text, 'html.parser')\n",
    "        family_name = soup.find(id=\"mainBody\").table.tr.find(\"td\",class_=\"mainText\").text.strip()\n",
    "        panther_names[pantherid] = family_name\n",
    "        time.sleep(1)\n",
    "        return family_name"
   ]
  },
  {
   "cell_type": "code",
   "execution_count": null,
   "metadata": {},
   "outputs": [],
   "source": [
    "family_map = {}\n",
    "\n",
    "for i, i_ds in enumerate(overlaps.index):\n",
    "    for j, j_ds in zip(range(i+1,len(overlaps.columns)),overlaps.columns[i+1:]):\n",
    "        x = overlaps.loc[i_ds, j_ds]\n",
    "        if x is np.nan:\n",
    "            continue\n",
    "        for family in x.split(\",\"):\n",
    "            if family in family_map:\n",
    "                family_map[family] += [i_ds, j_ds]\n",
    "            else:\n",
    "                family_map[family] = [i_ds, j_ds]"
   ]
  },
  {
   "cell_type": "code",
   "execution_count": null,
   "metadata": {},
   "outputs": [],
   "source": [
    "for k in family_map:\n",
    "    family_map[k] = set(family_map[k])"
   ]
  },
  {
   "cell_type": "code",
   "execution_count": null,
   "metadata": {},
   "outputs": [],
   "source": [
    "import sys\n",
    "sys.path.insert(0,'./bin')\n",
    "from pipeline_utils.ic_utils import bootstrap_IC\n",
    "def plot_heatmaps(k, k_name, v):\n",
    "#     fig, axs = plt.subplots(2,len(v), figsize=(5*len(v),10))\n",
    "#     fig_hist, axs_hist = plt.subplots(1,len(v), figsize=(5*len(v),5))\n",
    "    summary_rows = []\n",
    "    for i, dataset in enumerate(v):\n",
    "        row = {\n",
    "            \"family_name\": k_name,\n",
    "            \"dataset_name\": dataset,\n",
    "            \"unit\": \"UMI\" if (\"Alveolar\" in dataset or \"klein\" in dataset) else \"TPM\"\n",
    "        }\n",
    "        df = dfs[dataset]\n",
    "        thresholds = threshold_dfs[dataset]\n",
    "        raw_df = raw_dfs[dataset]\n",
    "        x = raw_df.loc[family_df[family_df.family_id == k].gene_symbol].dropna().copy()#.T.describe()\n",
    "        _raw_df = x.copy()\n",
    "        x[x == 0] = 0.000001\n",
    "#         sns.heatmap(x, norm=LogNorm(x.min().min(), x.max().max()), cbar_kws={\"ticks\": [0.5,1,10,100,1000]}, ax=axs[0,i])\n",
    "        print(dataset,\"Mean ON-cell TPM:\",x[x > thresholds.loc[k].threshold].mean().mean())\n",
    "        row[\"mean_on_cell_tpm\"] = x[x > thresholds.loc[k].threshold].mean().mean()\n",
    "        x[x <= thresholds.loc[k].threshold] = 0\n",
    "        x[x > 0] = 1\n",
    "        _dich_df = x.copy()\n",
    "        bootstrap = bootstrap_IC(x)\n",
    "#         sns.heatmap(x,ax=axs[1,i])\n",
    "        exp_per_cell = x.sum(axis=0)\n",
    "#         sns.distplot(exp_per_cell, kde=False, ax=axs_hist[i], hist_kws={\"range\": [exp_per_cell.min()-0.5, exp_per_cell.max()+0.5]}, bins=int(exp_per_cell.max() - exp_per_cell.min() + 1))\n",
    "        row[\"mean_gene_per_cell\"] = exp_per_cell.mean()\n",
    "        row[\"std_gene_per_cell\"] = exp_per_cell.std()\n",
    "        row[\"threshold\"] = thresholds.loc[k].threshold\n",
    "        row[\"ic\"] = df.loc[k].ic\n",
    "        row[\"ic_mean\"] = bootstrap.loc[\"mean\"]\n",
    "        row[\"ic_lower\"] = bootstrap.lower\n",
    "        row[\"ic_median\"] = bootstrap.loc[\"median\"]\n",
    "        row[\"ic_upper\"] = bootstrap.upper\n",
    "        row[\"no_genes_total\"] = family_df.loc[family_df.family_id == k].shape[0]\n",
    "        row[\"no_genes_measured\"] = df.loc[k].n_genes\n",
    "        row[\"non_zero_genes\"] = row[\"no_genes_measured\"]\n",
    "        row[\"genes\"] = \", \".join(x.index)\n",
    "        for i, gene in enumerate(_raw_df.index):\n",
    "#             \"gene_frequency\", \"gene_mean_on_cell\"\n",
    "            raw_x = _raw_df.loc[gene].dropna().copy()\n",
    "            dich_x = _dich_df.loc[gene].dropna().copy()\n",
    "            row[\"gene_name_{}\".format(i)] = gene\n",
    "            row[\"gene_frequency_{}\".format(i)] = dich_x.sum() / dich_x.shape[0]\n",
    "            if(row[\"gene_frequency_{}\".format(i)] == 0):\n",
    "                row[\"non_zero_genes\"] -= 1\n",
    "            row[\"gene_mean_on_cell_{}\".format(i)] = raw_x[dich_x == 1].mean()\n",
    "            \n",
    "#             row[0+3*i] = gene\n",
    "#             row[1+3*i] = dich_x.sum() / dich_x.shape[0]\n",
    "#             row[2+3*i] = raw_x[dich_x == 1].mean()\n",
    "            \n",
    "#         axs[0,i].title.set_text(\"{} (ic={:.2f})\".format(dataset, df.loc[k].ic))\n",
    "#         axs_hist[i].title.set_text(\"{} (ic={:.2f})\".format(dataset, df.loc[k].ic))\n",
    "        summary_rows += [row]\n",
    "        \n",
    "#     plt.show()\n",
    "    return summary_rows"
   ]
  },
  {
   "cell_type": "code",
   "execution_count": null,
   "metadata": {},
   "outputs": [],
   "source": [
    "family_df.loc[family_df.family_id == \"PTHR23268\"].shape[0]"
   ]
  },
  {
   "cell_type": "code",
   "execution_count": null,
   "metadata": {},
   "outputs": [],
   "source": [
    "summary_rows = []\n",
    "for k in tqdm_notebook(family_map):\n",
    "#     print(k)\n",
    "    print(get_panther_name(k))\n",
    "    summary_rows += plot_heatmaps(k, get_panther_name(k), family_map[k])"
   ]
  },
  {
   "cell_type": "code",
   "execution_count": null,
   "metadata": {},
   "outputs": [],
   "source": [
    "_df = pd.DataFrame(summary_rows)"
   ]
  },
  {
   "cell_type": "code",
   "execution_count": null,
   "metadata": {},
   "outputs": [],
   "source": [
    "_df"
   ]
  },
  {
   "cell_type": "code",
   "execution_count": null,
   "metadata": {},
   "outputs": [],
   "source": [
    "def filter_group(_df):\n",
    "    if(np.any(_df.ic_upper < 1.0) and _df.shape[0] > 1):\n",
    "        return _df\n",
    "    else:\n",
    "        return None\n",
    "\n",
    "writer = pd.ExcelWriter(\"overlap_family_lower_analysis.xlsx\")\n",
    "_df.to_excel(writer, \"unfiltered\", index=False)\n",
    "_df.groupby(\"family_name\").apply(filter_group).dropna(how=\"all\").to_excel(writer, \"SNP-configuration\", index=False)\n",
    "_df.loc[_df.ic < 1.0].groupby(\"family_name\").apply(filter_group).dropna(how=\"all\").to_excel(writer, \"SNN-configuration\", index=False)\n",
    "_df.loc[_df.ic_upper < 1.0].groupby(\"family_name\").apply(filter_group).dropna(how=\"all\").to_excel(writer, \"SSS-configuration\", index=False)\n",
    "writer.save()"
   ]
  }
 ],
 "metadata": {
  "kernelspec": {
   "display_name": "Python 3.7.4 64-bit ('stochastic': conda)",
   "language": "python",
   "name": "python37464bitstochasticcondad3c784986b534aaebb6b91784b827746"
  },
  "language_info": {
   "codemirror_mode": {
    "name": "ipython",
    "version": 3
   },
   "file_extension": ".py",
   "mimetype": "text/x-python",
   "name": "python",
   "nbconvert_exporter": "python",
   "pygments_lexer": "ipython3",
   "version": "3.7.6"
  }
 },
 "nbformat": 4,
 "nbformat_minor": 4
}
