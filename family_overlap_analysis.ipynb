{
 "cells": [
  {
   "cell_type": "code",
   "execution_count": 48,
   "metadata": {},
   "outputs": [],
   "source": [
    "import pandas as pd\n",
    "import numpy as np\n",
    "import matplotlib.pyplot as plt\n",
    "from matplotlib.colors import LogNorm\n",
    "import seaborn as sns\n",
    "from bs4 import BeautifulSoup\n",
    "import requests\n",
    "import time\n",
    "from tqdm import tqdm_notebook"
   ]
  },
  {
   "cell_type": "code",
   "execution_count": 49,
   "metadata": {},
   "outputs": [],
   "source": [
    "sns.set(context=\"notebook\", style=\"ticks\", font=\"Helvetica\")"
   ]
  },
  {
   "cell_type": "code",
   "execution_count": 50,
   "metadata": {},
   "outputs": [],
   "source": [
    "overlaps = pd.read_csv(\"overlap_family_lower_raw.csv\", index_col=[0])"
   ]
  },
  {
   "cell_type": "code",
   "execution_count": 51,
   "metadata": {},
   "outputs": [],
   "source": [
    "datasets = [\n",
    "    \"Gaublomme_GSE75109_TPM_clean\",\n",
    "    \"Gaublomme_GSE75110_TPM_clean\",\n",
    "    \"Gaublomme_GSE75111_TPM_clean\",\n",
    "    \"kakadarov_tpm\",\n",
    "    \"somatosensory_converted_into_tpm\",\n",
    "    \"Dopaminergic_TPM_clean\",\n",
    "    \"Rbp4_positive_cells\",\n",
    "    \"Cheng_ES_TPM\",\n",
    "    \"Alveolar_cells_Type_II_Merged_Batches\",\n",
    "    \"Alveolar_cells_Type_I_Merged_Batches\",\n",
    "    \"klein\",\n",
    "    \"hepat_TPM_yang_clean\",\n",
    "    \"Yu_First_wave_endocrine_cells\",\n",
    "]\n",
    "\n",
    "overlaps = overlaps.loc[datasets, datasets]"
   ]
  },
  {
   "cell_type": "code",
   "execution_count": 52,
   "metadata": {},
   "outputs": [],
   "source": [
    "families = \"clean_panther4march\"\n",
    "\n",
    "dfs = {x: pd.read_csv(\"{}/{}/results/family_IC.csv\".format(x, families), index_col=\"family_id\") for x in datasets}"
   ]
  },
  {
   "cell_type": "code",
   "execution_count": 53,
   "metadata": {},
   "outputs": [],
   "source": [
    "threshold_dfs = {x: pd.read_csv(\"{}/{}/intermediate/family_thresholds.csv\".format(x, families), index_col=\"family_id\") for x in datasets}"
   ]
  },
  {
   "cell_type": "code",
   "execution_count": 54,
   "metadata": {},
   "outputs": [],
   "source": [
    "raw_dfs = {x: pd.read_csv(\"{}.csv\".format(x), index_col=\"gene_id\") for x in datasets}"
   ]
  },
  {
   "cell_type": "code",
   "execution_count": 55,
   "metadata": {},
   "outputs": [],
   "source": [
    "family_df = pd.read_csv(\"{}.csv\".format(families))"
   ]
  },
  {
   "cell_type": "code",
   "execution_count": 56,
   "metadata": {},
   "outputs": [],
   "source": [
    "panther_names = {}\n",
    "def get_panther_name(pantherid):\n",
    "    if pantherid in panther_names.keys():\n",
    "        return panther_names[pantherid];\n",
    "    else: \n",
    "        r = requests.get(\"http://pantherdb.org/panther/family.do?clsAccession={}\".format(pantherid))\n",
    "        soup = BeautifulSoup(r.text, 'html.parser')\n",
    "        family_name = soup.find(id=\"mainBody\").table.tr.find(\"td\",class_=\"mainText\").text.strip()\n",
    "        panther_names[pantherid] = family_name\n",
    "        time.sleep(1)\n",
    "        return family_name"
   ]
  },
  {
   "cell_type": "code",
   "execution_count": 57,
   "metadata": {},
   "outputs": [],
   "source": [
    "family_map = {}\n",
    "\n",
    "for i, i_ds in enumerate(overlaps.index):\n",
    "    for j, j_ds in zip(range(i+1,len(overlaps.columns)),overlaps.columns[i+1:]):\n",
    "        x = overlaps.loc[i_ds, j_ds]\n",
    "        if x is np.nan:\n",
    "            continue\n",
    "        for family in x.split(\",\"):\n",
    "            if family in family_map:\n",
    "                family_map[family] += [i_ds, j_ds]\n",
    "            else:\n",
    "                family_map[family] = [i_ds, j_ds]"
   ]
  },
  {
   "cell_type": "code",
   "execution_count": 58,
   "metadata": {},
   "outputs": [],
   "source": [
    "for k in family_map:\n",
    "    family_map[k] = set(family_map[k])"
   ]
  },
  {
   "cell_type": "code",
   "execution_count": 60,
   "metadata": {},
   "outputs": [],
   "source": [
    "import sys\n",
    "sys.path.insert(0,'./bin')\n",
    "from pipeline_utils.ic_utils import bootstrap_IC\n",
    "def plot_heatmaps(k, k_name, v):\n",
    "#     fig, axs = plt.subplots(2,len(v), figsize=(5*len(v),10))\n",
    "#     fig_hist, axs_hist = plt.subplots(1,len(v), figsize=(5*len(v),5))\n",
    "    summary_rows = []\n",
    "    for i, dataset in enumerate(v):\n",
    "        row = {\n",
    "            \"family_name\": k_name,\n",
    "            \"dataset_name\": dataset,\n",
    "            \"unit\": \"UMI\" if (\"Alveolar\" in dataset or \"klein\" in dataset) else \"TPM\"\n",
    "        }\n",
    "        df = dfs[dataset]\n",
    "        thresholds = threshold_dfs[dataset]\n",
    "        raw_df = raw_dfs[dataset]\n",
    "        x = raw_df.loc[family_df[family_df.family_id == k].gene_symbol].dropna().copy()#.T.describe()\n",
    "        _raw_df = x.copy()\n",
    "        x[x == 0] = 0.000001\n",
    "#         sns.heatmap(x, norm=LogNorm(x.min().min(), x.max().max()), cbar_kws={\"ticks\": [0.5,1,10,100,1000]}, ax=axs[0,i])\n",
    "        print(dataset,\"Mean ON-cell TPM:\",x[x > thresholds.loc[k].threshold].mean().mean())\n",
    "        row[\"mean_on_cell_tpm\"] = x[x > thresholds.loc[k].threshold].mean().mean()\n",
    "        x[x <= thresholds.loc[k].threshold] = 0\n",
    "        x[x > 0] = 1\n",
    "        _dich_df = x.copy()\n",
    "        bootstrap = bootstrap_IC(x)\n",
    "#         sns.heatmap(x,ax=axs[1,i])\n",
    "        exp_per_cell = x.sum(axis=0)\n",
    "#         sns.distplot(exp_per_cell, kde=False, ax=axs_hist[i], hist_kws={\"range\": [exp_per_cell.min()-0.5, exp_per_cell.max()+0.5]}, bins=int(exp_per_cell.max() - exp_per_cell.min() + 1))\n",
    "        row[\"mean_gene_per_cell\"] = exp_per_cell.mean()\n",
    "        row[\"std_gene_per_cell\"] = exp_per_cell.std()\n",
    "        row[\"threshold\"] = thresholds.loc[k].threshold\n",
    "        row[\"ic\"] = df.loc[k].ic\n",
    "        row[\"ic_mean\"] = bootstrap.loc[\"mean\"]\n",
    "        row[\"ic_lower\"] = bootstrap.lower\n",
    "        row[\"ic_median\"] = bootstrap.loc[\"median\"]\n",
    "        row[\"ic_upper\"] = bootstrap.upper\n",
    "        row[\"no_genes_total\"] = family_df.loc[family_df.family_id == k].shape[0]\n",
    "        row[\"no_genes_measured\"] = df.loc[k].n_genes\n",
    "        row[\"non_zero_genes\"] = row[\"no_genes_measured\"]\n",
    "        row[\"genes\"] = \", \".join(x.index)\n",
    "        for i, gene in enumerate(_raw_df.index):\n",
    "#             \"gene_frequency\", \"gene_mean_on_cell\"\n",
    "            raw_x = _raw_df.loc[gene].dropna().copy()\n",
    "            dich_x = _dich_df.loc[gene].dropna().copy()\n",
    "            row[\"gene_name_{}\".format(i)] = gene\n",
    "            row[\"gene_frequency_{}\".format(i)] = dich_x.sum() / dich_x.shape[0]\n",
    "            if(row[\"gene_frequency_{}\".format(i)] == 0):\n",
    "                row[\"non_zero_genes\"] -= 1\n",
    "            row[\"gene_mean_on_cell_{}\".format(i)] = raw_x[dich_x == 1].mean()\n",
    "            \n",
    "#             row[0+3*i] = gene\n",
    "#             row[1+3*i] = dich_x.sum() / dich_x.shape[0]\n",
    "#             row[2+3*i] = raw_x[dich_x == 1].mean()\n",
    "            \n",
    "#         axs[0,i].title.set_text(\"{} (ic={:.2f})\".format(dataset, df.loc[k].ic))\n",
    "#         axs_hist[i].title.set_text(\"{} (ic={:.2f})\".format(dataset, df.loc[k].ic))\n",
    "        summary_rows += [row]\n",
    "        \n",
    "#     plt.show()\n",
    "    return summary_rows"
   ]
  },
  {
   "cell_type": "code",
   "execution_count": 61,
   "metadata": {},
   "outputs": [
    {
     "data": {
      "text/plain": [
       "21"
      ]
     },
     "execution_count": 61,
     "metadata": {},
     "output_type": "execute_result"
    }
   ],
   "source": [
    "family_df.loc[family_df.family_id == \"PTHR23268\"].shape[0]"
   ]
  },
  {
   "cell_type": "code",
   "execution_count": 62,
   "metadata": {
    "scrolled": true
   },
   "outputs": [
    {
     "name": "stderr",
     "output_type": "stream",
     "text": [
      "/home/iakovl0000/anaconda3/envs/stochastic/lib/python3.7/site-packages/ipykernel_launcher.py:2: TqdmDeprecationWarning: This function will be removed in tqdm==5.0.0\n",
      "Please use `tqdm.notebook.tqdm` instead of `tqdm.tqdm_notebook`\n",
      "  \n"
     ]
    },
    {
     "data": {
      "application/vnd.jupyter.widget-view+json": {
       "model_id": "f3f36147790c41bbb7a6f6a95e96ba30",
       "version_major": 2,
       "version_minor": 0
      },
      "text/plain": [
       "HBox(children=(FloatProgress(value=0.0, max=39.0), HTML(value='')))"
      ]
     },
     "metadata": {},
     "output_type": "display_data"
    },
    {
     "name": "stdout",
     "output_type": "stream",
     "text": [
      "T-CELL RECEPTOR BETA CHAIN (PTHR23268)\n",
      "Gaublomme_GSE75109_TPM_clean Mean ON-cell TPM: 454.6432965171525\n"
     ]
    },
    {
     "name": "stderr",
     "output_type": "stream",
     "text": [
      "/home/iakovl0000/anaconda3/envs/stochastic/lib/python3.7/site-packages/ipykernel_launcher.py:17: FutureWarning: \n",
      "Passing list-likes to .loc or [] with any missing label will raise\n",
      "KeyError in the future, you can use .reindex() as an alternative.\n",
      "\n",
      "See the documentation here:\n",
      "https://pandas.pydata.org/pandas-docs/stable/user_guide/indexing.html#deprecate-loc-reindex-listlike\n"
     ]
    },
    {
     "name": "stdout",
     "output_type": "stream",
     "text": [
      "Gaublomme_GSE75111_TPM_clean Mean ON-cell TPM: 504.0290908100494\n",
      "Gaublomme_GSE75110_TPM_clean Mean ON-cell TPM: 1121.8432320736922\n",
      "POU DOMAIN (PTHR11636)\n",
      "Gaublomme_GSE75109_TPM_clean Mean ON-cell TPM: 27.412746041659673\n",
      "Gaublomme_GSE75110_TPM_clean Mean ON-cell TPM: 12.456513076369095\n",
      "HEAT SHOCK PROTEIN 70KDA (PTHR19375)\n",
      "Gaublomme_GSE75109_TPM_clean Mean ON-cell TPM: 808.1473795503863\n"
     ]
    },
    {
     "name": "stderr",
     "output_type": "stream",
     "text": [
      "./bin/pipeline_utils/ic_utils.py:18: RuntimeWarning: invalid value encountered in true_divide\n",
      "  ics = obs_vars / pb_vars\n"
     ]
    },
    {
     "name": "stdout",
     "output_type": "stream",
     "text": [
      "somatosensory_converted_into_tpm Mean ON-cell TPM: 1878.1377069466207\n",
      "Gaublomme_GSE75111_TPM_clean Mean ON-cell TPM: 829.5480028933174\n",
      "SOLUTE CARRIER FAMILY 25 (PTHR24089)\n",
      "Gaublomme_GSE75109_TPM_clean Mean ON-cell TPM: 71.38420719667536\n",
      "Gaublomme_GSE75111_TPM_clean Mean ON-cell TPM: 86.29852995930051\n",
      "ANION EXCHANGE PROTEIN (PTHR11453)\n",
      "Gaublomme_GSE75109_TPM_clean Mean ON-cell TPM: 24.716871913943894\n",
      "kakadarov_tpm Mean ON-cell TPM: 4.707337639269974\n",
      "somatosensory_converted_into_tpm Mean ON-cell TPM: 30.026623893941526\n",
      "LAR INTERACTING PROTEIN  LIP -RELATED PROTEIN (PTHR12587)\n",
      "Gaublomme_GSE75109_TPM_clean Mean ON-cell TPM: 16.81462499492942\n",
      "kakadarov_tpm Mean ON-cell TPM: 6.370612878668776\n",
      "INTERCELLULAR ADHESION MOLECULE (PTHR13771)\n",
      "Gaublomme_GSE75109_TPM_clean Mean ON-cell TPM: 53.37552178507702\n",
      "klein Mean ON-cell TPM: 1.4227571539056458\n",
      "UNCHARACTERIZED (PTHR12570)\n",
      "hepat_TPM_yang_clean Mean ON-cell TPM: 29.110560560560565\n",
      "somatosensory_converted_into_tpm Mean ON-cell TPM: 29.69026829011539\n",
      "Gaublomme_GSE75111_TPM_clean Mean ON-cell TPM: 28.407759955563886\n",
      "Gaublomme_GSE75110_TPM_clean Mean ON-cell TPM: 21.05333533854193\n",
      "MYOSIN HEAVY CHAIN, NON-MUSCLE (PTHR45615)\n",
      "kakadarov_tpm Mean ON-cell TPM: 6.744426358330265\n"
     ]
    },
    {
     "name": "stderr",
     "output_type": "stream",
     "text": [
      "/home/iakovl0000/anaconda3/envs/stochastic/lib/python3.7/site-packages/ipykernel_launcher.py:17: FutureWarning: \n",
      "Passing list-likes to .loc or [] with any missing label will raise\n",
      "KeyError in the future, you can use .reindex() as an alternative.\n",
      "\n",
      "See the documentation here:\n",
      "https://pandas.pydata.org/pandas-docs/stable/user_guide/indexing.html#deprecate-loc-reindex-listlike\n"
     ]
    },
    {
     "name": "stdout",
     "output_type": "stream",
     "text": [
      "Cheng_ES_TPM Mean ON-cell TPM: 24.927657981082223\n",
      "Gaublomme_GSE75110_TPM_clean Mean ON-cell TPM: 50.43864462596574\n",
      "MAX DIMERIZATION, MAD (PTHR11969)\n",
      "Rbp4_positive_cells Mean ON-cell TPM: 41.81177944862156\n",
      "kakadarov_tpm Mean ON-cell TPM: 4.69348564843016\n",
      "Gaublomme_GSE75110_TPM_clean Mean ON-cell TPM: 21.10817019772289\n",
      "PROPROTEIN CONVERTASE SUBTILISIN/KEXIN-RELATED (PTHR42884)\n",
      "somatosensory_converted_into_tpm Mean ON-cell TPM: 53.31018810919375\n",
      "Gaublomme_GSE75110_TPM_clean Mean ON-cell TPM: 17.589024426514253\n",
      "E3 UBIQUITIN-PROTEIN LIGASE KCMF1 (PTHR12268)\n",
      "Alveolar_cells_Type_I_Merged_Batches Mean ON-cell TPM: 1.2\n",
      "Gaublomme_GSE75110_TPM_clean Mean ON-cell TPM: 13.484628103052225\n",
      "TROPOMODULIN (PTHR10901)\n",
      "Yu_First_wave_endocrine_cells Mean ON-cell TPM: 56.58085115864524\n",
      "Gaublomme_GSE75110_TPM_clean Mean ON-cell TPM: 18.446653330557126\n",
      "CARBONIC ANHYDRASE (PTHR18952)\n",
      "hepat_TPM_yang_clean Mean ON-cell TPM: 161.21630694037148\n",
      "somatosensory_converted_into_tpm Mean ON-cell TPM: 75.81905857813865\n",
      "Gaublomme_GSE75111_TPM_clean Mean ON-cell TPM: 25.885640129046052\n",
      "Cheng_ES_TPM Mean ON-cell TPM: 1133.1760172477577\n",
      "FAMILY NOT NAMED (PTHR25465)\n",
      "somatosensory_converted_into_tpm Mean ON-cell TPM: 29.284065218203416\n",
      "Gaublomme_GSE75111_TPM_clean Mean ON-cell TPM: 20.93637008682864\n",
      "RYANODINE RECEPTOR AND IP3 RECEPTOR (PTHR13715)\n",
      "Gaublomme_GSE75111_TPM_clean Mean ON-cell TPM: 23.43557233208191\n",
      "Alveolar_cells_Type_I_Merged_Batches Mean ON-cell TPM: 1.0333333333333334\n",
      "MEMBRANE-ASSOCIATED GUANYLATE KINASE  MAGUK (PTHR23122)\n",
      "hepat_TPM_yang_clean Mean ON-cell TPM: 33.224621428571425\n",
      "Gaublomme_GSE75111_TPM_clean Mean ON-cell TPM: 59.50866639564787\n",
      "Yu_First_wave_endocrine_cells Mean ON-cell TPM: 63.28822795414456\n",
      "SODIUM-BILE ACID COTRANSPORTER (PTHR10361)\n",
      "hepat_TPM_yang_clean Mean ON-cell TPM: 143.4626612903226\n",
      "Alveolar_cells_Type_II_Merged_Batches Mean ON-cell TPM: 1.135135135135135\n",
      "kakadarov_tpm Mean ON-cell TPM: 9.041859339537742\n",
      "ADENYLATE CYCLASE TYPE 1 (PTHR45627)\n",
      "kakadarov_tpm Mean ON-cell TPM: 5.824989673308829\n"
     ]
    },
    {
     "ename": "KeyboardInterrupt",
     "evalue": "",
     "output_type": "error",
     "traceback": [
      "\u001b[0;31m---------------------------------------------------------------------------\u001b[0m",
      "\u001b[0;31mKeyboardInterrupt\u001b[0m                         Traceback (most recent call last)",
      "\u001b[0;32m<ipython-input-62-83e106513295>\u001b[0m in \u001b[0;36m<module>\u001b[0;34m\u001b[0m\n\u001b[1;32m      3\u001b[0m \u001b[0;31m#     print(k)\u001b[0m\u001b[0;34m\u001b[0m\u001b[0;34m\u001b[0m\u001b[0;34m\u001b[0m\u001b[0m\n\u001b[1;32m      4\u001b[0m     \u001b[0mprint\u001b[0m\u001b[0;34m(\u001b[0m\u001b[0mget_panther_name\u001b[0m\u001b[0;34m(\u001b[0m\u001b[0mk\u001b[0m\u001b[0;34m)\u001b[0m\u001b[0;34m)\u001b[0m\u001b[0;34m\u001b[0m\u001b[0;34m\u001b[0m\u001b[0m\n\u001b[0;32m----> 5\u001b[0;31m     \u001b[0msummary_rows\u001b[0m \u001b[0;34m+=\u001b[0m \u001b[0mplot_heatmaps\u001b[0m\u001b[0;34m(\u001b[0m\u001b[0mk\u001b[0m\u001b[0;34m,\u001b[0m \u001b[0mget_panther_name\u001b[0m\u001b[0;34m(\u001b[0m\u001b[0mk\u001b[0m\u001b[0;34m)\u001b[0m\u001b[0;34m,\u001b[0m \u001b[0mfamily_map\u001b[0m\u001b[0;34m[\u001b[0m\u001b[0mk\u001b[0m\u001b[0;34m]\u001b[0m\u001b[0;34m)\u001b[0m\u001b[0;34m\u001b[0m\u001b[0;34m\u001b[0m\u001b[0m\n\u001b[0m\u001b[1;32m      6\u001b[0m     \u001b[0;32mif\u001b[0m\u001b[0;34m(\u001b[0m\u001b[0mlen\u001b[0m\u001b[0;34m(\u001b[0m\u001b[0msummary_rows\u001b[0m\u001b[0;34m)\u001b[0m \u001b[0;34m==\u001b[0m \u001b[0;36m2\u001b[0m\u001b[0;34m)\u001b[0m\u001b[0;34m:\u001b[0m\u001b[0;34m\u001b[0m\u001b[0;34m\u001b[0m\u001b[0m\n\u001b[1;32m      7\u001b[0m         \u001b[0;32mbreak\u001b[0m\u001b[0;34m\u001b[0m\u001b[0;34m\u001b[0m\u001b[0m\n",
      "\u001b[0;32m<ipython-input-60-3ca733f9e199>\u001b[0m in \u001b[0;36mplot_heatmaps\u001b[0;34m(k, k_name, v)\u001b[0m\n\u001b[1;32m     24\u001b[0m         \u001b[0mx\u001b[0m\u001b[0;34m[\u001b[0m\u001b[0mx\u001b[0m \u001b[0;34m>\u001b[0m \u001b[0;36m0\u001b[0m\u001b[0;34m]\u001b[0m \u001b[0;34m=\u001b[0m \u001b[0;36m1\u001b[0m\u001b[0;34m\u001b[0m\u001b[0;34m\u001b[0m\u001b[0m\n\u001b[1;32m     25\u001b[0m         \u001b[0m_dich_df\u001b[0m \u001b[0;34m=\u001b[0m \u001b[0mx\u001b[0m\u001b[0;34m.\u001b[0m\u001b[0mcopy\u001b[0m\u001b[0;34m(\u001b[0m\u001b[0;34m)\u001b[0m\u001b[0;34m\u001b[0m\u001b[0;34m\u001b[0m\u001b[0m\n\u001b[0;32m---> 26\u001b[0;31m         \u001b[0mbootstrap\u001b[0m \u001b[0;34m=\u001b[0m \u001b[0mbootstrap_IC\u001b[0m\u001b[0;34m(\u001b[0m\u001b[0mx\u001b[0m\u001b[0;34m)\u001b[0m\u001b[0;34m\u001b[0m\u001b[0;34m\u001b[0m\u001b[0m\n\u001b[0m\u001b[1;32m     27\u001b[0m \u001b[0;31m#         sns.heatmap(x,ax=axs[1,i])\u001b[0m\u001b[0;34m\u001b[0m\u001b[0;34m\u001b[0m\u001b[0;34m\u001b[0m\u001b[0m\n\u001b[1;32m     28\u001b[0m         \u001b[0mexp_per_cell\u001b[0m \u001b[0;34m=\u001b[0m \u001b[0mx\u001b[0m\u001b[0;34m.\u001b[0m\u001b[0msum\u001b[0m\u001b[0;34m(\u001b[0m\u001b[0maxis\u001b[0m\u001b[0;34m=\u001b[0m\u001b[0;36m0\u001b[0m\u001b[0;34m)\u001b[0m\u001b[0;34m\u001b[0m\u001b[0;34m\u001b[0m\u001b[0m\n",
      "\u001b[0;32m~/stochastic/bin/pipeline_utils/ic_utils.py\u001b[0m in \u001b[0;36mbootstrap_IC\u001b[0;34m(genes, bootstrap_n)\u001b[0m\n\u001b[1;32m     14\u001b[0m \u001b[0;32mdef\u001b[0m \u001b[0mbootstrap_IC\u001b[0m\u001b[0;34m(\u001b[0m\u001b[0mgenes\u001b[0m\u001b[0;34m,\u001b[0m \u001b[0mbootstrap_n\u001b[0m \u001b[0;34m=\u001b[0m \u001b[0;36m10000\u001b[0m\u001b[0;34m)\u001b[0m\u001b[0;34m:\u001b[0m\u001b[0;34m\u001b[0m\u001b[0;34m\u001b[0m\u001b[0m\n\u001b[1;32m     15\u001b[0m     \u001b[0mbootstrap_populations\u001b[0m \u001b[0;34m=\u001b[0m \u001b[0;34m[\u001b[0m\u001b[0mgenes\u001b[0m\u001b[0;34m.\u001b[0m\u001b[0msample\u001b[0m\u001b[0;34m(\u001b[0m\u001b[0mfrac\u001b[0m\u001b[0;34m=\u001b[0m\u001b[0;36m1.0\u001b[0m\u001b[0;34m,\u001b[0m \u001b[0mreplace\u001b[0m\u001b[0;34m=\u001b[0m\u001b[0;32mTrue\u001b[0m\u001b[0;34m,\u001b[0m \u001b[0maxis\u001b[0m\u001b[0;34m=\u001b[0m\u001b[0;36m1\u001b[0m\u001b[0;34m)\u001b[0m \u001b[0;32mfor\u001b[0m \u001b[0m_\u001b[0m \u001b[0;32min\u001b[0m \u001b[0mrange\u001b[0m\u001b[0;34m(\u001b[0m\u001b[0mbootstrap_n\u001b[0m\u001b[0;34m)\u001b[0m\u001b[0;34m]\u001b[0m\u001b[0;34m\u001b[0m\u001b[0;34m\u001b[0m\u001b[0m\n\u001b[0;32m---> 16\u001b[0;31m     \u001b[0mpb_vars\u001b[0m \u001b[0;34m=\u001b[0m \u001b[0mnp\u001b[0m\u001b[0;34m.\u001b[0m\u001b[0marray\u001b[0m\u001b[0;34m(\u001b[0m\u001b[0;34m[\u001b[0m\u001b[0mget_pb_variance\u001b[0m\u001b[0;34m(\u001b[0m\u001b[0mx\u001b[0m\u001b[0;34m)\u001b[0m \u001b[0;32mfor\u001b[0m \u001b[0mx\u001b[0m \u001b[0;32min\u001b[0m \u001b[0mbootstrap_populations\u001b[0m\u001b[0;34m]\u001b[0m\u001b[0;34m)\u001b[0m\u001b[0;34m\u001b[0m\u001b[0;34m\u001b[0m\u001b[0m\n\u001b[0m\u001b[1;32m     17\u001b[0m     \u001b[0mobs_vars\u001b[0m \u001b[0;34m=\u001b[0m \u001b[0mnp\u001b[0m\u001b[0;34m.\u001b[0m\u001b[0marray\u001b[0m\u001b[0;34m(\u001b[0m\u001b[0;34m[\u001b[0m\u001b[0mget_observed_variance\u001b[0m\u001b[0;34m(\u001b[0m\u001b[0mx\u001b[0m\u001b[0;34m)\u001b[0m \u001b[0;32mfor\u001b[0m \u001b[0mx\u001b[0m \u001b[0;32min\u001b[0m \u001b[0mbootstrap_populations\u001b[0m\u001b[0;34m]\u001b[0m\u001b[0;34m)\u001b[0m\u001b[0;34m\u001b[0m\u001b[0;34m\u001b[0m\u001b[0m\n\u001b[1;32m     18\u001b[0m     \u001b[0mics\u001b[0m \u001b[0;34m=\u001b[0m \u001b[0mobs_vars\u001b[0m \u001b[0;34m/\u001b[0m \u001b[0mpb_vars\u001b[0m\u001b[0;34m\u001b[0m\u001b[0;34m\u001b[0m\u001b[0m\n",
      "\u001b[0;32m~/stochastic/bin/pipeline_utils/ic_utils.py\u001b[0m in \u001b[0;36m<listcomp>\u001b[0;34m(.0)\u001b[0m\n\u001b[1;32m     14\u001b[0m \u001b[0;32mdef\u001b[0m \u001b[0mbootstrap_IC\u001b[0m\u001b[0;34m(\u001b[0m\u001b[0mgenes\u001b[0m\u001b[0;34m,\u001b[0m \u001b[0mbootstrap_n\u001b[0m \u001b[0;34m=\u001b[0m \u001b[0;36m10000\u001b[0m\u001b[0;34m)\u001b[0m\u001b[0;34m:\u001b[0m\u001b[0;34m\u001b[0m\u001b[0;34m\u001b[0m\u001b[0m\n\u001b[1;32m     15\u001b[0m     \u001b[0mbootstrap_populations\u001b[0m \u001b[0;34m=\u001b[0m \u001b[0;34m[\u001b[0m\u001b[0mgenes\u001b[0m\u001b[0;34m.\u001b[0m\u001b[0msample\u001b[0m\u001b[0;34m(\u001b[0m\u001b[0mfrac\u001b[0m\u001b[0;34m=\u001b[0m\u001b[0;36m1.0\u001b[0m\u001b[0;34m,\u001b[0m \u001b[0mreplace\u001b[0m\u001b[0;34m=\u001b[0m\u001b[0;32mTrue\u001b[0m\u001b[0;34m,\u001b[0m \u001b[0maxis\u001b[0m\u001b[0;34m=\u001b[0m\u001b[0;36m1\u001b[0m\u001b[0;34m)\u001b[0m \u001b[0;32mfor\u001b[0m \u001b[0m_\u001b[0m \u001b[0;32min\u001b[0m \u001b[0mrange\u001b[0m\u001b[0;34m(\u001b[0m\u001b[0mbootstrap_n\u001b[0m\u001b[0;34m)\u001b[0m\u001b[0;34m]\u001b[0m\u001b[0;34m\u001b[0m\u001b[0;34m\u001b[0m\u001b[0m\n\u001b[0;32m---> 16\u001b[0;31m     \u001b[0mpb_vars\u001b[0m \u001b[0;34m=\u001b[0m \u001b[0mnp\u001b[0m\u001b[0;34m.\u001b[0m\u001b[0marray\u001b[0m\u001b[0;34m(\u001b[0m\u001b[0;34m[\u001b[0m\u001b[0mget_pb_variance\u001b[0m\u001b[0;34m(\u001b[0m\u001b[0mx\u001b[0m\u001b[0;34m)\u001b[0m \u001b[0;32mfor\u001b[0m \u001b[0mx\u001b[0m \u001b[0;32min\u001b[0m \u001b[0mbootstrap_populations\u001b[0m\u001b[0;34m]\u001b[0m\u001b[0;34m)\u001b[0m\u001b[0;34m\u001b[0m\u001b[0;34m\u001b[0m\u001b[0m\n\u001b[0m\u001b[1;32m     17\u001b[0m     \u001b[0mobs_vars\u001b[0m \u001b[0;34m=\u001b[0m \u001b[0mnp\u001b[0m\u001b[0;34m.\u001b[0m\u001b[0marray\u001b[0m\u001b[0;34m(\u001b[0m\u001b[0;34m[\u001b[0m\u001b[0mget_observed_variance\u001b[0m\u001b[0;34m(\u001b[0m\u001b[0mx\u001b[0m\u001b[0;34m)\u001b[0m \u001b[0;32mfor\u001b[0m \u001b[0mx\u001b[0m \u001b[0;32min\u001b[0m \u001b[0mbootstrap_populations\u001b[0m\u001b[0;34m]\u001b[0m\u001b[0;34m)\u001b[0m\u001b[0;34m\u001b[0m\u001b[0;34m\u001b[0m\u001b[0m\n\u001b[1;32m     18\u001b[0m     \u001b[0mics\u001b[0m \u001b[0;34m=\u001b[0m \u001b[0mobs_vars\u001b[0m \u001b[0;34m/\u001b[0m \u001b[0mpb_vars\u001b[0m\u001b[0;34m\u001b[0m\u001b[0;34m\u001b[0m\u001b[0m\n",
      "\u001b[0;32m~/stochastic/bin/pipeline_utils/ic_utils.py\u001b[0m in \u001b[0;36mget_pb_variance\u001b[0;34m(genes)\u001b[0m\n\u001b[1;32m      6\u001b[0m \u001b[0;34m\u001b[0m\u001b[0m\n\u001b[1;32m      7\u001b[0m \u001b[0;32mdef\u001b[0m \u001b[0mget_pb_variance\u001b[0m\u001b[0;34m(\u001b[0m\u001b[0mgenes\u001b[0m\u001b[0;34m)\u001b[0m\u001b[0;34m:\u001b[0m\u001b[0;34m\u001b[0m\u001b[0;34m\u001b[0m\u001b[0m\n\u001b[0;32m----> 8\u001b[0;31m     \u001b[0mfx\u001b[0m \u001b[0;34m=\u001b[0m \u001b[0mgenes\u001b[0m\u001b[0;34m.\u001b[0m\u001b[0msum\u001b[0m\u001b[0;34m(\u001b[0m\u001b[0maxis\u001b[0m\u001b[0;34m=\u001b[0m\u001b[0;36m1\u001b[0m\u001b[0;34m)\u001b[0m \u001b[0;34m/\u001b[0m \u001b[0mgenes\u001b[0m\u001b[0;34m.\u001b[0m\u001b[0mshape\u001b[0m\u001b[0;34m[\u001b[0m\u001b[0;36m1\u001b[0m\u001b[0;34m]\u001b[0m\u001b[0;34m\u001b[0m\u001b[0;34m\u001b[0m\u001b[0m\n\u001b[0m\u001b[1;32m      9\u001b[0m     \u001b[0;32mreturn\u001b[0m \u001b[0mnp\u001b[0m\u001b[0;34m.\u001b[0m\u001b[0msum\u001b[0m\u001b[0;34m(\u001b[0m\u001b[0;34m[\u001b[0m\u001b[0;34m(\u001b[0m\u001b[0;36m1\u001b[0m\u001b[0;34m-\u001b[0m\u001b[0mp\u001b[0m\u001b[0;34m)\u001b[0m\u001b[0;34m*\u001b[0m\u001b[0mp\u001b[0m \u001b[0;32mfor\u001b[0m \u001b[0mp\u001b[0m \u001b[0;32min\u001b[0m \u001b[0mfx\u001b[0m\u001b[0;34m]\u001b[0m\u001b[0;34m)\u001b[0m\u001b[0;34m\u001b[0m\u001b[0;34m\u001b[0m\u001b[0m\n\u001b[1;32m     10\u001b[0m \u001b[0;34m\u001b[0m\u001b[0m\n",
      "\u001b[0;32m~/anaconda3/envs/stochastic/lib/python3.7/site-packages/pandas/core/ops/__init__.py\u001b[0m in \u001b[0;36mwrapper\u001b[0;34m(left, right)\u001b[0m\n\u001b[1;32m   1046\u001b[0m \u001b[0;34m\u001b[0m\u001b[0m\n\u001b[1;32m   1047\u001b[0m         \u001b[0;32mwith\u001b[0m \u001b[0mnp\u001b[0m\u001b[0;34m.\u001b[0m\u001b[0merrstate\u001b[0m\u001b[0;34m(\u001b[0m\u001b[0mall\u001b[0m\u001b[0;34m=\u001b[0m\u001b[0;34m\"ignore\"\u001b[0m\u001b[0;34m)\u001b[0m\u001b[0;34m:\u001b[0m\u001b[0;34m\u001b[0m\u001b[0;34m\u001b[0m\u001b[0m\n\u001b[0;32m-> 1048\u001b[0;31m             \u001b[0mresult\u001b[0m \u001b[0;34m=\u001b[0m \u001b[0mna_op\u001b[0m\u001b[0;34m(\u001b[0m\u001b[0mlvalues\u001b[0m\u001b[0;34m,\u001b[0m \u001b[0mrvalues\u001b[0m\u001b[0;34m)\u001b[0m\u001b[0;34m\u001b[0m\u001b[0;34m\u001b[0m\u001b[0m\n\u001b[0m\u001b[1;32m   1049\u001b[0m         return construct_result(\n\u001b[1;32m   1050\u001b[0m             \u001b[0mleft\u001b[0m\u001b[0;34m,\u001b[0m \u001b[0mresult\u001b[0m\u001b[0;34m,\u001b[0m \u001b[0mindex\u001b[0m\u001b[0;34m=\u001b[0m\u001b[0mleft\u001b[0m\u001b[0;34m.\u001b[0m\u001b[0mindex\u001b[0m\u001b[0;34m,\u001b[0m \u001b[0mname\u001b[0m\u001b[0;34m=\u001b[0m\u001b[0mres_name\u001b[0m\u001b[0;34m,\u001b[0m \u001b[0mdtype\u001b[0m\u001b[0;34m=\u001b[0m\u001b[0;32mNone\u001b[0m\u001b[0;34m\u001b[0m\u001b[0;34m\u001b[0m\u001b[0m\n",
      "\u001b[0;32m~/anaconda3/envs/stochastic/lib/python3.7/site-packages/pandas/core/ops/__init__.py\u001b[0m in \u001b[0;36mna_op\u001b[0;34m(x, y)\u001b[0m\n\u001b[1;32m    963\u001b[0m         \u001b[0mTypeError\u001b[0m \u001b[0;34m:\u001b[0m \u001b[0minvalid\u001b[0m \u001b[0moperation\u001b[0m\u001b[0;34m\u001b[0m\u001b[0;34m\u001b[0m\u001b[0m\n\u001b[1;32m    964\u001b[0m         \"\"\"\n\u001b[0;32m--> 965\u001b[0;31m         \u001b[0;32mimport\u001b[0m \u001b[0mpandas\u001b[0m\u001b[0;34m.\u001b[0m\u001b[0mcore\u001b[0m\u001b[0;34m.\u001b[0m\u001b[0mcomputation\u001b[0m\u001b[0;34m.\u001b[0m\u001b[0mexpressions\u001b[0m \u001b[0;32mas\u001b[0m \u001b[0mexpressions\u001b[0m\u001b[0;34m\u001b[0m\u001b[0;34m\u001b[0m\u001b[0m\n\u001b[0m\u001b[1;32m    966\u001b[0m \u001b[0;34m\u001b[0m\u001b[0m\n\u001b[1;32m    967\u001b[0m         \u001b[0;32mtry\u001b[0m\u001b[0;34m:\u001b[0m\u001b[0;34m\u001b[0m\u001b[0;34m\u001b[0m\u001b[0m\n",
      "\u001b[0;31mKeyboardInterrupt\u001b[0m: "
     ]
    }
   ],
   "source": [
    "summary_rows = []\n",
    "for k in tqdm_notebook(family_map):\n",
    "#     print(k)\n",
    "    print(get_panther_name(k))\n",
    "    summary_rows += plot_heatmaps(k, get_panther_name(k), family_map[k])"
   ]
  },
  {
   "cell_type": "code",
   "execution_count": null,
   "metadata": {},
   "outputs": [],
   "source": [
    "_df = pd.DataFrame(summary_rows)"
   ]
  },
  {
   "cell_type": "code",
   "execution_count": null,
   "metadata": {},
   "outputs": [],
   "source": [
    "_df"
   ]
  },
  {
   "cell_type": "code",
   "execution_count": null,
   "metadata": {},
   "outputs": [],
   "source": [
    "def filter_group(_df):\n",
    "    if(np.any(_df.ic_upper < 1.0) and _df.shape[0] > 1):\n",
    "        return _df\n",
    "    else:\n",
    "        return None\n",
    "\n",
    "writer = pd.ExcelWriter(\"overlap_family_lower_analysis.xlsx\")\n",
    "_df.to_excel(writer, \"unfiltered\", index=False)\n",
    "_df.groupby(\"family_name\").apply(filter_group).dropna(how=\"all\").to_excel(writer, \"SNP-configuration\", index=False)\n",
    "_df.loc[_df.ic < 1.0].groupby(\"family_name\").apply(filter_group).dropna(how=\"all\").to_excel(writer, \"SNN-configuration\", index=False)\n",
    "_df.loc[_df.ic_upper < 1.0].groupby(\"family_name\").apply(filter_group).dropna(how=\"all\").to_excel(writer, \"SSS-configuration\", index=False)\n",
    "writer.save()"
   ]
  }
 ],
 "metadata": {
  "kernelspec": {
   "display_name": "Python 3.7.4 64-bit ('stochastic': conda)",
   "language": "python",
   "name": "python37464bitstochasticcondad3c784986b534aaebb6b91784b827746"
  },
  "language_info": {
   "codemirror_mode": {
    "name": "ipython",
    "version": 3
   },
   "file_extension": ".py",
   "mimetype": "text/x-python",
   "name": "python",
   "nbconvert_exporter": "python",
   "pygments_lexer": "ipython3",
   "version": "3.7.6"
  }
 },
 "nbformat": 4,
 "nbformat_minor": 4
}
