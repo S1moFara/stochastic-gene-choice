{
 "cells": [
  {
   "cell_type": "code",
   "execution_count": null,
   "metadata": {},
   "outputs": [],
   "source": [
    "import pandas as pd\n",
    "import numpy as np\n",
    "import matplotlib.pyplot as plt\n",
    "from matplotlib.colors import LogNorm\n",
    "import seaborn as sns\n",
    "from bs4 import BeautifulSoup\n",
    "import requests\n",
    "import time\n",
    "from tqdm import tqdm_notebook\n",
    "tqdm_notebook().pandas()\n",
    "import pickle"
   ]
  },
  {
   "cell_type": "code",
   "execution_count": null,
   "metadata": {},
   "outputs": [],
   "source": [
    "sns.set(context=\"notebook\", style=\"ticks\", font=\"Helvetica\")"
   ]
  },
  {
   "cell_type": "code",
   "execution_count": null,
   "metadata": {},
   "outputs": [],
   "source": [
    "with open(\"overlap_chromosome_lower_raw.pickle\", \"rb\") as f:\n",
    "    overlaps = pickle.load(f)"
   ]
  },
  {
   "cell_type": "code",
   "execution_count": null,
   "metadata": {},
   "outputs": [],
   "source": [
    "datasets = [\n",
    "    \"Gaublomme_GSE75109_TPM_clean\",\n",
    "    \"Gaublomme_GSE75110_TPM_clean\",\n",
    "    \"Gaublomme_GSE75111_TPM_clean\",\n",
    "    \"kakadarov_tpm\",\n",
    "    \"somatosensory_converted_into_tpm\",\n",
    "    \"Dopaminergic_TPM_clean\",\n",
    "    \"Rbp4_positive_cells\",\n",
    "    \"Cheng_ES_TPM\",\n",
    "    \"Alveolar_cells_Type_II_Merged_Batches\",\n",
    "    \"Alveolar_cells_Type_I_Merged_Batches\",\n",
    "#     \"Alveolar_cells_both_types\",\n",
    "    \"klein\",\n",
    "    \"hepat_TPM_yang_clean\",\n",
    "    \"Yu_First_wave_endocrine_cells\",\n",
    "]\n",
    "\n",
    "overlaps = overlaps.loc[datasets, datasets]"
   ]
  },
  {
   "cell_type": "code",
   "execution_count": null,
   "metadata": {},
   "outputs": [],
   "source": [
    "dich_methods = [\"3max\" if (\"Alveolar\" in x or \"klein\" in x) else \"geomean\" for x in datasets]"
   ]
  },
  {
   "cell_type": "code",
   "execution_count": null,
   "metadata": {},
   "outputs": [],
   "source": [
    "chromosome_map = []\n",
    "for i in range(len(datasets)):\n",
    "    for j in range(i+1, len(datasets)):\n",
    "            x = overlaps.iloc[i,j]\n",
    "            if x is None:\n",
    "                continue\n",
    "            for stretch in x:\n",
    "                chromosome_map += [list(stretch) + [datasets[i]]]            \n",
    "                chromosome_map += [list(stretch) + [datasets[j]]]\n",
    "                "
   ]
  },
  {
   "cell_type": "code",
   "execution_count": null,
   "metadata": {},
   "outputs": [],
   "source": [
    "chromosome_report = pd.DataFrame(chromosome_map, columns=[\"start_gene\", \"end_gene\", \"chromosome\", \"dataset\"]).drop_duplicates()"
   ]
  },
  {
   "cell_type": "code",
   "execution_count": null,
   "metadata": {},
   "outputs": [],
   "source": [
    "def get_unit(x):\n",
    "    return \"UMI\" if (\"Alveolar\" in x.dataset or \"klein\" in x.dataset) else \"TPM\"\n",
    "\n",
    "chromosome_report.loc[:,\"units\"] = chromosome_report.apply(get_unit,axis=1)"
   ]
  },
  {
   "cell_type": "code",
   "execution_count": null,
   "metadata": {},
   "outputs": [],
   "source": [
    "chr_names = list(range(1,20)) + [\"X\", \"Y\"]\n",
    "chrs = {x: pd.read_csv(\"somatosensory_converted_into_tpm/intermediate/chr{}_filtered.csv\".format(x)) for x in chr_names}"
   ]
  },
  {
   "cell_type": "code",
   "execution_count": null,
   "metadata": {},
   "outputs": [],
   "source": [
    "def get_genes(start, end, chromosome):\n",
    "    return chrs[chromosome].loc[start:end-1, \"Name\"].values\n",
    "\n",
    "chromosome_report.loc[:,\"all_genes\"] = chromosome_report.apply(lambda x: get_genes(x.start_gene, x.end_gene, x.chromosome),axis=1)"
   ]
  },
  {
   "cell_type": "code",
   "execution_count": null,
   "metadata": {},
   "outputs": [],
   "source": [
    "chromosome_report.loc[:, \"stretch_size\"] = chromosome_report.apply(lambda x: x.end_gene - x.start_gene, axis=1)"
   ]
  },
  {
   "cell_type": "code",
   "execution_count": null,
   "metadata": {},
   "outputs": [],
   "source": [
    "raw_dfs = {x: pd.read_csv(\"{}.csv\".format(x)) for x in datasets}"
   ]
  },
  {
   "cell_type": "code",
   "execution_count": null,
   "metadata": {},
   "outputs": [],
   "source": [
    "dich_dfs = {x: pd.read_csv(\"{}/intermediate/{}/dichotomised_genes.csv\".format(x, y)).set_index(\"gene_id\") for x, y in zip(datasets, dich_methods)}"
   ]
  },
  {
   "cell_type": "code",
   "execution_count": null,
   "metadata": {},
   "outputs": [],
   "source": [
    "def get_present_genes(dataset, genes):\n",
    "    return list(set(raw_dfs[dataset].gene_id) & set(genes))\n",
    "\n",
    "chromosome_report.loc[:, \"recorded_genes\"] = chromosome_report.apply(lambda x: get_present_genes(x.dataset, x.all_genes), axis=1)"
   ]
  },
  {
   "cell_type": "code",
   "execution_count": null,
   "metadata": {},
   "outputs": [],
   "source": [
    "chromosome_report.loc[:, \"n_genes\"] = chromosome_report.apply(lambda x: len(x.recorded_genes), axis=1)"
   ]
  },
  {
   "cell_type": "code",
   "execution_count": null,
   "metadata": {},
   "outputs": [],
   "source": [
    "def load_chromosome_wise(dataset, dich_type):\n",
    "#     dich_type = \"geomean\"\n",
    "    chr_names = list(range(1,20)) + [\"X\", \"Y\"]\n",
    "    ic_dfs = [pd.read_csv(\"{}/results/{}/stage1_chr{}_IC.csv\".format(dataset,dich_type,x)) for x in chr_names]\n",
    "    chrs = {x: pd.read_csv(\"{}/intermediate/chr{}_filtered.csv\".format(dataset, x)) for x in chr_names}\n",
    "    filtered_genes = pd.read_csv(\"{}/intermediate/{}/filtered_dichotomised_genes.csv\".format(dataset, dich_type))\n",
    "    for i, name in zip(range(len(ic_dfs)), chr_names):\n",
    "        ic_dfs[i].loc[:,\"chromosome\"] = name\n",
    "\n",
    "    ic_df = pd.concat(ic_dfs, sort=False).reset_index(drop=True)\n",
    "    return ic_df[ic_df.n_genes >= ic_df.stretch * 6 / 7]\n",
    "\n",
    "dfs = {x: load_chromosome_wise(x,y) for x, y in zip(datasets,dich_methods)}"
   ]
  },
  {
   "cell_type": "code",
   "execution_count": null,
   "metadata": {},
   "outputs": [],
   "source": [
    "dfs = {x: dfs[x].set_index([\"start\", \"end\", \"chromosome\"]) for x in dfs.keys()}"
   ]
  },
  {
   "cell_type": "code",
   "execution_count": null,
   "metadata": {},
   "outputs": [],
   "source": [
    "chromosome_report.loc[:, \"ic\"] = chromosome_report.apply(lambda x: dfs[x.dataset].loc[(x.start_gene, x.end_gene, x.chromosome), \"ic\"], axis=1)"
   ]
  },
  {
   "cell_type": "code",
   "execution_count": null,
   "metadata": {},
   "outputs": [],
   "source": [
    "def get_aux_stats(dataset, genes):\n",
    "    row = {}\n",
    "    raw_df = raw_dfs[dataset].set_index(\"gene_id\")\n",
    "    raw_x = raw_df.loc[genes].dropna().copy()\n",
    "    dich_df = dich_dfs[dataset]\n",
    "    dich_x = dich_df.loc[genes].dropna().copy()\n",
    "    row[\"mean_on_cell_tpm\"] = raw_x[dich_x == 1].mean().mean()\n",
    "    exp_per_cell = dich_x.sum(axis=0)\n",
    "    row[\"mean_gene_per_cell\"] = exp_per_cell.mean()\n",
    "    row[\"std_gene_per_cell\"] = exp_per_cell.std()\n",
    "#     summary_rows += [row]\n",
    "    return pd.Series(row)"
   ]
  },
  {
   "cell_type": "code",
   "execution_count": null,
   "metadata": {},
   "outputs": [],
   "source": [
    "aux = chromosome_report.progress_apply(lambda x: get_aux_stats(x.dataset, x.recorded_genes), axis=1)"
   ]
  },
  {
   "cell_type": "code",
   "execution_count": null,
   "metadata": {},
   "outputs": [],
   "source": [
    "chromosome_report = chromosome_report.merge(aux, left_index=True, right_index=True)"
   ]
  },
  {
   "cell_type": "code",
   "execution_count": null,
   "metadata": {},
   "outputs": [],
   "source": [
    "def get_aux_per_gene(dataset, genes):\n",
    "    names = [\"gene_name\", \"gene_frequency\", \"gene_mean_on_cell\"] * 21\n",
    "    row = [None] * (21*3)\n",
    "    raw_df = raw_dfs[dataset].set_index(\"gene_id\")\n",
    "    dich_df = dich_dfs[dataset]\n",
    "    for i, gene in enumerate(genes):\n",
    "        raw_x = raw_df.loc[gene].dropna().copy()\n",
    "        dich_x = dich_df.loc[gene].dropna().copy()\n",
    "        row[0+3*i] = gene\n",
    "        row[1+3*i] = dich_x.sum() / dich_x.shape[0]\n",
    "        row[2+3*i] = raw_x[dich_x == 1].mean()\n",
    "    return pd.Series(row, index=names)\n",
    "    "
   ]
  },
  {
   "cell_type": "code",
   "execution_count": null,
   "metadata": {},
   "outputs": [],
   "source": [
    "aux = chromosome_report.progress_apply(lambda x: get_aux_per_gene(x.dataset, x.recorded_genes), axis=1)"
   ]
  },
  {
   "cell_type": "code",
   "execution_count": null,
   "metadata": {},
   "outputs": [],
   "source": [
    "aux = pd.DataFrame((aux.gene_frequency == 0).sum(axis=1),columns=[\"zero_genes\"]).merge(aux, left_index=True, right_index=True)"
   ]
  },
  {
   "cell_type": "code",
   "execution_count": null,
   "metadata": {},
   "outputs": [],
   "source": [
    "import sys\n",
    "sys.path.insert(0,'./bin')\n",
    "from pipeline_utils.ic_utils import bootstrap_IC\n",
    "def get_bootstrapping(x):\n",
    "    _dataset = x.dataset\n",
    "    _genes = x.recorded_genes\n",
    "    _to_bootstrap = dich_dfs[_dataset].loc[_genes]\n",
    "    return bootstrap_IC(_to_bootstrap)\n",
    "\n",
    "bootstraps = chromosome_report.progress_apply(get_bootstrapping, axis=1)"
   ]
  },
  {
   "cell_type": "code",
   "execution_count": null,
   "metadata": {},
   "outputs": [],
   "source": [
    "bootstraps.columns = [\"ic_\" + x for x in bootstraps.columns]"
   ]
  },
  {
   "cell_type": "code",
   "execution_count": null,
   "metadata": {},
   "outputs": [],
   "source": [
    "chromosome_report = chromosome_report.merge(bootstraps, left_index=True, right_index=True)"
   ]
  },
  {
   "cell_type": "code",
   "execution_count": null,
   "metadata": {},
   "outputs": [],
   "source": [
    "chromosome_report.loc[:, \"coordinates\"] = chromosome_report.apply(lambda x: \"[{} {} {}]\".format(x.chromosome, x.start_gene, x.end_gene), axis=1)"
   ]
  },
  {
   "cell_type": "code",
   "execution_count": null,
   "metadata": {},
   "outputs": [],
   "source": [
    "chromosome_report = chromosome_report.loc[:,['start_gene', 'end_gene', 'chromosome', 'coordinates', 'dataset', 'units', 'mean_on_cell_tpm', 'mean_gene_per_cell', 'std_gene_per_cell', 'ic', 'ic_lower', 'ic_upper', 'stretch_size', 'n_genes', 'recorded_genes']]"
   ]
  },
  {
   "cell_type": "code",
   "execution_count": null,
   "metadata": {},
   "outputs": [],
   "source": [
    "chromosome_report.recorded_genes = chromosome_report.recorded_genes.apply(lambda x: \", \".join(x))"
   ]
  },
  {
   "cell_type": "code",
   "execution_count": null,
   "metadata": {},
   "outputs": [],
   "source": [
    "chromosome_report = chromosome_report.merge(aux, left_index=True, right_index=True)"
   ]
  },
  {
   "cell_type": "code",
   "execution_count": null,
   "metadata": {},
   "outputs": [],
   "source": [
    "chromosome_report.zero_genes = chromosome_report.n_genes - chromosome_report.zero_genes"
   ]
  },
  {
   "cell_type": "code",
   "execution_count": null,
   "metadata": {},
   "outputs": [],
   "source": [
    "chromosome_report = chromosome_report.rename({\"zero_genes\": \"non_zero_genes\"}, axis=1)"
   ]
  },
  {
   "cell_type": "code",
   "execution_count": null,
   "metadata": {},
   "outputs": [],
   "source": [
    "chromosome_report.to_csv(\"overlap_chromosome_lower_analysis_unfiltered.csv\", index=False)"
   ]
  },
  {
   "cell_type": "code",
   "execution_count": null,
   "metadata": {},
   "outputs": [],
   "source": [
    "def filter_group(_df):\n",
    "    if(np.any(_df.ic_upper < 1.0) and _df.shape[0] > 1):\n",
    "        return _df\n",
    "    else:\n",
    "        return None\n",
    "\n",
    "writer = pd.ExcelWriter(\"overlap_chromosome_lower_analysis.xlsx\")\n",
    "chromosome_report.to_excel(writer, \"unfiltered\", index=False)\n",
    "chromosome_report.groupby(\"coordinates\").apply(filter_group).dropna(how=\"all\").to_excel(writer, \"SNP-configuration\", index=False)\n",
    "chromosome_report.loc[chromosome_report.ic < 1.0].groupby(\"coordinates\").apply(filter_group).dropna(how=\"all\").to_excel(writer, \"SNN-configuration\", index=False)\n",
    "chromosome_report.loc[chromosome_report.ic_upper < 1.0].groupby(\"coordinates\").apply(filter_group).dropna(how=\"all\").to_excel(writer, \"SSS-configuration\", index=False)\n",
    "writer.save()"
   ]
  },
  {
   "cell_type": "code",
   "execution_count": null,
   "metadata": {},
   "outputs": [],
   "source": [
    "chromosome_report.loc[chromosome_report.ic_upper < 1.0].groupby(\"coordinates\").apply(filter_group).dropna(how=\"all\")"
   ]
  },
  {
   "cell_type": "code",
   "execution_count": null,
   "metadata": {},
   "outputs": [],
   "source": [
    "coord_counts = chromosome_report.loc[chromosome_report.ic_upper < 1.0].coordinates.value_counts()"
   ]
  },
  {
   "cell_type": "code",
   "execution_count": null,
   "metadata": {},
   "outputs": [],
   "source": [
    "coords = coord_counts[coord_counts > 1].index.values"
   ]
  },
  {
   "cell_type": "code",
   "execution_count": null,
   "metadata": {},
   "outputs": [],
   "source": [
    "chromosome_report.loc[chromosome_report.coordinates.isin(coords) & (chromosome_report.ic_upper < 1)]"
   ]
  },
  {
   "cell_type": "code",
   "execution_count": null,
   "metadata": {},
   "outputs": [],
   "source": [
    "chromosome_report.loc[chromosome_report.coordinates.isin(coords) & (chromosome_report.ic_upper < 1)].to_csv(\"overlap_chromosome_lower_analysis.csv\", index=False)"
   ]
  },
  {
   "cell_type": "code",
   "execution_count": null,
   "metadata": {},
   "outputs": [],
   "source": []
  }
 ],
 "metadata": {
  "kernelspec": {
   "display_name": "Python 3.7.4 64-bit ('stochastic': conda)",
   "language": "python",
   "name": "python37464bitstochasticcondad3c784986b534aaebb6b91784b827746"
  },
  "language_info": {
   "codemirror_mode": {
    "name": "ipython",
    "version": 3
   },
   "file_extension": ".py",
   "mimetype": "text/x-python",
   "name": "python",
   "nbconvert_exporter": "python",
   "pygments_lexer": "ipython3",
   "version": "3.7.6"
  }
 },
 "nbformat": 4,
 "nbformat_minor": 4
}
