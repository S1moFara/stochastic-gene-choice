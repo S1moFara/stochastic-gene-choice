{
 "cells": [
  {
   "cell_type": "code",
   "execution_count": null,
   "metadata": {},
   "outputs": [],
   "source": [
    "import pandas as pd\n",
    "import seaborn as sns\n",
    "import matplotlib.pyplot as plt\n",
    "import numpy as np\n",
    "from pomegranate import GeneralMixtureModel, NormalDistribution\n",
    "import scipy.integrate as integrate\n",
    "import sys\n",
    "sys.path.insert(0,'./bin')\n",
    "from pipeline_utils.pomegranate_parser import to_pomegranate"
   ]
  },
  {
   "cell_type": "code",
   "execution_count": null,
   "metadata": {},
   "outputs": [],
   "source": [
    "dataset = \"somatosensory_converted_into_tpm\"\n",
    "dich_types = [\"vrs\", \"3max\", \"geomean\"]"
   ]
  },
  {
   "cell_type": "code",
   "execution_count": null,
   "metadata": {},
   "outputs": [],
   "source": [
    "df = pd.read_csv(\"{}.csv\".format(dataset),index_col=\"gene_id\")\n",
    "thresholds = {x: pd.read_csv(\"{}/intermediate/{}/optimal_thresholds.csv\".format(dataset, x), index_col=\"gene_id\") for x in dich_types}\n",
    "fitted_thresholds = pd.read_csv(\"{}/mathematica/fitted_distributions_thresholds.csv\".format(dataset), index_col=\"gene_id\")\n",
    "fitted_distributions = pd.read_csv(\"{}/mathematica/mathematica_results.csv\".format(dataset), index_col=\"gene_id\")"
   ]
  },
  {
   "cell_type": "code",
   "execution_count": null,
   "metadata": {},
   "outputs": [],
   "source": [
    "def get_norm(arr):\n",
    "    return {\n",
    "        \"weights\": np.ones(len(arr)) / len(arr)\n",
    "    }"
   ]
  },
  {
   "cell_type": "code",
   "execution_count": null,
   "metadata": {},
   "outputs": [],
   "source": [
    "fitted_distributions.loc[fitted_distributions.index.str.startswith(\"Pcdha\")]"
   ]
  },
  {
   "cell_type": "code",
   "execution_count": null,
   "metadata": {},
   "outputs": [],
   "source": [
    "gene_id = \"Piezo2\""
   ]
  },
  {
   "cell_type": "code",
   "execution_count": null,
   "metadata": {},
   "outputs": [],
   "source": [
    "model = to_pomegranate(fitted_distributions.loc[gene_id,\"distribution\"])\n",
    "model"
   ]
  },
  {
   "cell_type": "code",
   "execution_count": null,
   "metadata": {},
   "outputs": [],
   "source": [
    "def get_proba_for_range(model, a, b):\n",
    "    return integrate.quad(lambda x: model.probability([x]), a, b)[0]\n",
    "\n",
    "def get_proba_for_range_log(model, a, b):\n",
    "    return integrate.quad(lambda x: model.probability([np.power(2,x)]), a, b)[0]"
   ]
  },
  {
   "cell_type": "code",
   "execution_count": null,
   "metadata": {},
   "outputs": [],
   "source": [
    "plt.figure(figsize=(3,2))\n",
    "rug_kws = {\"height\": 0.95, \"linewidth\": 1.5}\n",
    "sns.set(context=\"notebook\", font_scale=1.2, style=\"ticks\", font=\"Arial\")\n",
    "gene = df.loc[gene_id]\n",
    "print(gene.quantile(0.975)/10)\n",
    "(bins, edges) = np.histogram(gene, bins = 30)\n",
    "p = sns.distplot(gene, kde=False, norm_hist=False, hist_kws=get_norm(gene), bins=edges, color=\"grey\")\n",
    "height = p.get_ylim()[1]\n",
    "width = p.get_xlim()[1]\n",
    "print((gene == 0).sum())\n",
    "for x, label in zip(dich_types, [\"VRS\", \"FM\", \"GTME\"]):\n",
    "    threshold = thresholds[x].loc[gene.name, \"threshold\"]\n",
    "    print(label, \"ratio on:\", (gene >= threshold).sum() / len(gene))\n",
    "    print(label, threshold)\n",
    "    sns.distplot([threshold], kde=False, hist=False, rug=True, rug_kws=rug_kws, label=label)\n",
    "try:\n",
    "    threshold = fitted_thresholds.loc[gene.name, \"threshold\"]\n",
    "    sns.distplot([threshold], kde=False, hist=False, rug=True, rug_kws=rug_kws, label=\"from distribution\")\n",
    "    print(\"antimode\", threshold)\n",
    "except:\n",
    "    print(\"no fitted\")\n",
    "try:\n",
    "    x = np.arange(0,width,0.1)\n",
    "    # pdf = model.probability(x)\n",
    "    y = [get_proba_for_range(model, a, b) for a, b in zip(edges[:-1], edges[1:])]\n",
    "    plt.plot((edges[:-1] + edges[1:]) / 2, y, label=\"PDF (integration)\",alpha=1.0)\n",
    "    # plt.xlim([-1, 42])\n",
    "except:\n",
    "    print(\"no model\")\n",
    "\n",
    "# plt.legend(bbox_to_anchor=(0.80,-0.25))\n",
    "# plt.legend()\n",
    "plt.xlabel(\"TPM\")\n",
    "plt.show()\n",
    "\n"
   ]
  },
  {
   "cell_type": "code",
   "execution_count": null,
   "metadata": {},
   "outputs": [],
   "source": [
    "gene = df.loc[gene_id]\n",
    "plt.figure(figsize=(8,5))\n",
    "gene = np.log2(gene[gene > 0])\n",
    "(bins, edges) = np.histogram(gene, bins = 30)\n",
    "y = [get_proba_for_range(model, np.power(2,a), np.power(2,b)) for a, b in zip(edges[:-1], edges[1:])]\n",
    "display(sum(y))\n",
    "p = sns.distplot(gene, kde=False, hist_kws=get_norm(gene), bins = edges, color=\"grey\")\n",
    "height = p.get_ylim()[1]\n",
    "xlim = p.get_xlim()\n",
    "for x, label in zip(dich_types, [\"VRS\", \"FM\", \"GTME\"]):\n",
    "    threshold = np.log2(thresholds[x].loc[gene.name, \"threshold\"])\n",
    "#     plt.plot([threshold, threshold], [0, height], label=x)\n",
    "    sns.distplot([threshold], kde=False, hist=False, rug=True, rug_kws=rug_kws, label=label)\n",
    "try:\n",
    "    threshold = np.log2(fitted_thresholds.loc[gene.name, \"threshold\"])\n",
    "    # plt.plot([threshold, threshold], [0, height], label=\"from distribution\")\n",
    "    sns.distplot([threshold], kde=False, hist=False, rug=True, rug_kws=rug_kws, label=\"Fit. Distr.\")\n",
    "except:\n",
    "    print(\"no fitted\")\n",
    "    \n",
    "try:\n",
    "    x = np.logspace(*xlim, base=2)\n",
    "    # x = np.arange(2**-6,width,0.1)\n",
    "    # print(x)\n",
    "    pdf = model.probability(x)\n",
    "    # print(pdf)\n",
    "    # sns.lineplot(np.log2(x), pdf, label=\"PDF (unscaled)\",alpha=0.5)\n",
    "    # sns.lineplot(np.log2(x), pdf * height, label=\"PDF (scaled, as on slides)\",alpha=0.5)\n",
    "\n",
    "    sns.lineplot((edges[:-1] + edges[1:]) / 2, y, label=\"PDF (integration)\", alpha=1.0, markers=True)\n",
    "    # plt.ylim([0, height])\n",
    "except:\n",
    "    print(\"no model\")\n",
    "\n",
    "# plt.legend(bbox_to_anchor=(0.80,-0.25))\n",
    "plt.legend()\n",
    "plt.xlabel(\"log2(TPM)\")\n",
    "plt.ylabel(\"Frequency\")\n",
    "plt.show()"
   ]
  },
  {
   "cell_type": "code",
   "execution_count": null,
   "metadata": {},
   "outputs": [],
   "source": [
    "y = integrate.quad(lambda x: model.probability([np.power(2,x)]), edges[0], edges[1])"
   ]
  },
  {
   "cell_type": "code",
   "execution_count": null,
   "metadata": {},
   "outputs": [],
   "source": [
    "model.probability([np.power(2,-5.)])"
   ]
  },
  {
   "cell_type": "code",
   "execution_count": null,
   "metadata": {},
   "outputs": [],
   "source": [
    "#%% Code so the same scripts can be used as notebooks and as part of a pipeline\n",
    "try:\n",
    "    if __IPYTHON__:\n",
    "        import sys\n",
    "        sys.path.insert(0,'./bin')\n",
    "except:\n",
    "    pass\n",
    "\n",
    "from pipeline_utils.vrs_utils import get_vrs, grange\n",
    "from scipy.stats.mstats import gmean\n"
   ]
  },
  {
   "cell_type": "code",
   "execution_count": null,
   "metadata": {},
   "outputs": [],
   "source": [
    "def _get_vrs(toy):\n",
    "    threshold_range = grange(*np.nanquantile(toy,[0.025, 0.975]))\n",
    "    values = [get_vrs(toy, x) for x in threshold_range]\n",
    "    return threshold_range[np.nanargmin(values)]\n",
    "    \n",
    "def plot_toy(toy, canon=\"vrs\", xlim=None):\n",
    "    rug_kws = {\"height\": 0.95, \"linewidth\": 1.5}\n",
    "    hist, bins = np.histogram(toy, bins=50) \n",
    "    \n",
    "    vrs_threshold = _get_vrs(toy)\n",
    "    if canon == \"vrs\":\n",
    "        canonical_threshold = vrs_threshold\n",
    "        \n",
    "    upper = np.quantile(toy, 0.975)\n",
    "    fm_threshold = upper / 10\n",
    "    if canon == \"fm\":\n",
    "        canonical_threshold = fm_threshold\n",
    "        \n",
    "    lower = np.quantile(toy, 0.025)\n",
    "    gtme_threshold = gmean([upper, lower])\n",
    "    if canon == \"gtme\":\n",
    "        canonical_threshold = gtme_threshold\n",
    "    \n",
    "    left_bins = bins[:sum(bins < canonical_threshold)]\n",
    "    right_bins = bins[-1-sum(bins > canonical_threshold):]\n",
    "    sns.distplot(toy, bins=left_bins, kde=False)\n",
    "    sns.distplot(toy, bins=right_bins, kde=False)\n",
    "    sns.distplot([vrs_threshold], rug=True, kde=False, hist=False, rug_kws=rug_kws, label=\"VRS\")\n",
    "    sns.distplot([fm_threshold], rug=True, kde=False, hist=False, rug_kws=rug_kws, label=\"FM\")\n",
    "    sns.distplot([gtme_threshold], rug=True, kde=False, hist=False, rug_kws=rug_kws, label=\"GTME\")\n",
    "    sns.distplot([upper], rug=True, kde=False, hist=False, rug_kws=rug_kws, label=\"97.5th Percentile\", color=\"black\")\n",
    "    sns.distplot([lower], rug=True, kde=False, hist=False, rug_kws=rug_kws, label=\"2.5th Percentile\", color=\"grey\")\n",
    "    plt.legend()\n",
    "    plt.xlim(xlim)\n",
    "    plt.show()"
   ]
  },
  {
   "cell_type": "code",
   "execution_count": null,
   "metadata": {},
   "outputs": [],
   "source": [
    "toy_left = np.random.normal(3.5,1.2,10000)\n",
    "toy_right = np.random.normal(11,5,5000)\n",
    "toy = np.concatenate([toy_left, toy_right])\n",
    "toy = toy[(toy > 0)]\n",
    "plot_toy(toy,\"vrs\",[-1,24])"
   ]
  },
  {
   "cell_type": "code",
   "execution_count": null,
   "metadata": {},
   "outputs": [],
   "source": [
    "toy_left = np.random.normal(2,2.0,10000)\n",
    "toy_right = np.random.normal(38,22,7000)\n",
    "toy = np.concatenate([toy_left, toy_right])\n",
    "toy = toy[(toy > 0)]\n",
    "plot_toy(toy,\"fm\",[-2,90])"
   ]
  },
  {
   "cell_type": "code",
   "execution_count": null,
   "metadata": {},
   "outputs": [],
   "source": [
    "toy_left = np.random.normal(3,1.0,3000)\n",
    "toy_right = np.random.normal(17,11,7000)\n",
    "toy = np.concatenate([toy_left, toy_right])\n",
    "toy = toy[(toy >= 0) & (toy < 60)]\n",
    "plot_toy(toy,\"gtme\",[-2,45])"
   ]
  },
  {
   "cell_type": "code",
   "execution_count": null,
   "metadata": {},
   "outputs": [],
   "source": [
    "sns.distplot(toy, kde=False, bins=50)\n",
    "top_three = np.quantile(toy[toy > 0], 0.975)#sorted(toy)[-3:]\n",
    "display(top_three)\n",
    "# for i, x in enumerate(top_three):\n",
    "#     plt.plot([x,x],[0,1000],label=(\"Three Max\" if i == 0 else None), color=\"red\")\n",
    "sns.distplot([top_three], kde=False, hist=False, rug=True, rug_kws=rug_kws, label=\"Upper Percentile\")\n",
    "sns.distplot([top_three / 10], kde=False, hist=False, rug=True, rug_kws=rug_kws, label=\"FM Threshold\")\n",
    "    \n",
    "\n",
    "plt.xlim([-1,65])\n",
    "# plt.legend(bbox_to_anchor=(0.75,-0.15))\n",
    "plt.legend()\n",
    "plt.xlabel(\"TPM\")\n",
    "plt.show()"
   ]
  },
  {
   "cell_type": "code",
   "execution_count": null,
   "metadata": {},
   "outputs": [],
   "source": [
    "toy_left = np.random.normal(1.0,0.6,3000)\n",
    "toy_right = np.random.normal(17,11,7000)\n",
    "toy = np.concatenate([toy_left, toy_right])\n",
    "toy = toy[(toy >= 0) & (toy < 60)]\n",
    "top = 2200"
   ]
  },
  {
   "cell_type": "code",
   "execution_count": null,
   "metadata": {},
   "outputs": [],
   "source": [
    "sns.distplot((toy), kde=False, bins=50)\n",
    "top_three = np.quantile(toy[toy > 0], 0.975)\n",
    "bottom_three = np.quantile(toy[toy > 0], 0.025)\n",
    "sns.distplot([top_three], kde=False, hist=False, rug=True, rug_kws=rug_kws, label=\"Upper Percentile\")\n",
    "sns.distplot([bottom_three], kde=False, hist=False, rug=True, rug_kws=rug_kws, label=\"Lower Percentile\")\n",
    "    \n",
    "threshold = gmean([(bottom_three), (top_three)])\n",
    "display(threshold)\n",
    "sns.distplot([threshold], kde=False, hist=False, rug=True, rug_kws=rug_kws, label=\"GTME Threshold\")\n",
    "\n",
    "plt.xlim([-1,45])\n",
    "# plt.legend(bbox_to_anchor=(0.75,-0.15))\n",
    "plt.legend()\n",
    "plt.xlabel(\"TPM\")\n",
    "plt.show()"
   ]
  },
  {
   "cell_type": "code",
   "execution_count": null,
   "metadata": {},
   "outputs": [],
   "source": [
    "plt.figure(figsize=(4,2.5))\n",
    "sns.heatmap(pd.DataFrame(\n",
    "    [[1,1,1,1],\n",
    "     [0,0,0,0],\n",
    "     [0,0,0,0],\n",
    "     [0,1,0,0],\n",
    "     [0,1,0,1]],\n",
    "    columns=[\"Gene {}\".format(x) for x in range(1,5)],\n",
    "    index=[\"Cell {}\".format(x) for x in range(1,6)]\n",
    "),linewidths=3.0,linecolor=\"grey\", cbar=False, cmap=\"Reds\", vmax=1.5, vmin=0)\n",
    "plt.title(\"Co-occurrence\")\n",
    "plt.show()\n",
    "\n",
    "\n",
    "plt.figure(figsize=(4,2.5))\n",
    "sns.heatmap(pd.DataFrame(\n",
    "    [[1,1,0,0],\n",
    "     [0,1,1,0],\n",
    "     [0,0,0,0],\n",
    "     [0,0,0,1],\n",
    "     [0,1,0,1]],\n",
    "    columns=[\"Gene {}\".format(x) for x in range(1,5)],\n",
    "    index=[\"Cell {}\".format(x) for x in range(1,6)]\n",
    "),linewidths=3.0,linecolor=\"grey\", cbar=False, cmap=\"Greens\", vmax=1.5, vmin=0)\n",
    "plt.title(\"Independance\")\n",
    "plt.show()\n",
    "\n",
    "\n",
    "\n",
    "plt.figure(figsize=(4,2.5))\n",
    "sns.heatmap(pd.DataFrame(\n",
    "    [[1,1,0,0],\n",
    "     [0,1,0,0],\n",
    "     [0,0,1,0],\n",
    "     [0,0,0,1],\n",
    "     [0,1,0,1]],\n",
    "    columns=[\"Gene {}\".format(x) for x in range(1,5)],\n",
    "    index=[\"Cell {}\".format(x) for x in range(1,6)]\n",
    "),linewidths=3.0,linecolor=\"grey\", cbar=False, cmap=\"Blues\", vmax=1.5, vmin=0)\n",
    "plt.title(\"Exclusivity\")\n",
    "plt.show()\n"
   ]
  },
  {
   "cell_type": "code",
   "execution_count": null,
   "metadata": {},
   "outputs": [],
   "source": [
    "toy_ic = np.random.normal(0,1,10000)\n",
    "\n",
    "sns.distplot(toy_ic, kde=False)\n",
    "plt.plot([-4,-4],[0,400],label=\"Outside\")\n",
    "plt.plot([-1,-1],[0,400],label=\"Inside\")\n",
    "plt.legend()\n",
    "plt.xlabel(\"IC\")\n",
    "plt.ylabel(\"Frequency\")\n",
    "plt.show()"
   ]
  }
 ],
 "metadata": {
  "kernelspec": {
   "display_name": "Python 3.7.4 64-bit ('stochastic': conda)",
   "language": "python",
   "name": "python37464bitstochasticcondad3c784986b534aaebb6b91784b827746"
  },
  "language_info": {
   "codemirror_mode": {
    "name": "ipython",
    "version": 3
   },
   "file_extension": ".py",
   "mimetype": "text/x-python",
   "name": "python",
   "nbconvert_exporter": "python",
   "pygments_lexer": "ipython3",
   "version": "3.7.6"
  }
 },
 "nbformat": 4,
 "nbformat_minor": 2
}
