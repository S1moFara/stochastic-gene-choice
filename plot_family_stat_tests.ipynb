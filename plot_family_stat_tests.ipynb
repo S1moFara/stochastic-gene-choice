{
 "cells": [
  {
   "cell_type": "code",
   "execution_count": null,
   "metadata": {},
   "outputs": [],
   "source": [
    "import seaborn as sns\n",
    "import pandas as pd\n",
    "import matplotlib.pyplot as plt\n",
    "sns.set(context=\"notebook\", style=\"ticks\", font=\"Helvetica\")\n",
    "import numpy as np"
   ]
  },
  {
   "cell_type": "code",
   "execution_count": null,
   "metadata": {},
   "outputs": [],
   "source": [
    "datasets = sorted([\n",
    "    \"somatosensory_converted_into_tpm\",\n",
    "    \"Dopaminergic_TPM_clean\",\n",
    "    \"kakadarov_tpm\",\n",
    "    \"Cheng_ES_TPM\",\n",
    "    \"Gaublomme_GSE75109_TPM_clean\",\n",
    "    \"Gaublomme_GSE75110_TPM_clean\",\n",
    "    \"Gaublomme_GSE75111_TPM_clean\",\n",
    "    \"Rbp4_positive_cells\",\n",
    "    \"Alveolar_cells_Type_I_Merged_Batches\",\n",
    "    \"Alveolar_cells_Type_II_Merged_Batches\",\n",
    "    \"klein\",\n",
    "    \"hepat_TPM_yang_clean\",\n",
    "    \"Yu_First_wave_endocrine_cells\",\n",
    "])"
   ]
  },
  {
   "cell_type": "code",
   "execution_count": null,
   "metadata": {},
   "outputs": [],
   "source": [
    "cell_type_names = {\n",
    "    \"somatosensory_converted_into_tpm\": \"Somatosensory N\",\n",
    "    \"Dopaminergic_TPM_clean\": \"Dopaminergic N\",\n",
    "    \"kakadarov_tpm\": \"CD8+ T cell\",\n",
    "    \"Cheng_ES_TPM\": \"Isolated ESC\",\n",
    "    \"Gaublomme_GSE75109_TPM_clean\": \"Th17 A\",\n",
    "    \"Gaublomme_GSE75110_TPM_clean\": \"Th17 B\",\n",
    "    \"Gaublomme_GSE75111_TPM_clean\": \"Th17 C\",\n",
    "    \"Rbp4_positive_cells\": \"Corticostriatal N\",\n",
    "    \"Alveolar_cells_Type_I_Merged_Batches\": \"Lung ACI\",\n",
    "    \"Alveolar_cells_Type_II_Merged_Batches\": \"Lung ACII\",\n",
    "#     \"Alveolar_cells_both_types\",\n",
    "    \"klein\": \"Cultured ESC\",\n",
    "    \"hepat_TPM_yang_clean\": \"Liver HB/HC\",\n",
    "    \"Yu_First_wave_endocrine_cells\": \"Pancreatic EC\",\n",
    "}"
   ]
  },
  {
   "cell_type": "code",
   "execution_count": null,
   "metadata": {},
   "outputs": [],
   "source": [
    "def load_pvalues():\n",
    "    dfs = [pd.read_csv(\"{}/family_stat_test_pvalues.csv\".format(x), header=[0,1], index_col=[0]) for x in datasets] \n",
    "    for i, dataset in enumerate(datasets):\n",
    "        dfs[i].loc[:,\"dataset\"] = dataset\n",
    "    df = pd.concat(dfs)\n",
    "    return df.rename({\"Unnamed: 1_level_0\": \"\", \"Unnamed: 2_level_0\": \"\"}, axis=1)"
   ]
  },
  {
   "cell_type": "code",
   "execution_count": null,
   "metadata": {},
   "outputs": [],
   "source": [
    "df = load_pvalues()\n",
    "df.set_index(\"dataset\").to_csv(\"family_stats_test_summary.csv\")"
   ]
  },
  {
   "cell_type": "code",
   "execution_count": null,
   "metadata": {},
   "outputs": [],
   "source": [
    "df = df.loc[df.iloc[:,0] == 7].replace(cell_type_names)"
   ]
  },
  {
   "cell_type": "code",
   "execution_count": null,
   "metadata": {},
   "outputs": [],
   "source": [
    "cutoff=-np.log2(0.025)\n",
    "cutoff"
   ]
  },
  {
   "cell_type": "code",
   "execution_count": null,
   "metadata": {},
   "outputs": [],
   "source": [
    "current_palette = sns.color_palette(\"Paired\", n_colors=7)\n",
    "new_palette = []\n",
    "for x in current_palette:\n",
    "    new_palette += [x,x]\n",
    "new_palette = new_palette[:13]\n",
    "\n",
    "def plot_volcano(metric, title, ax, legend=False):\n",
    "    sns.set(font_scale=1.3, style=\"ticks\", font=\"Arial\")\n",
    "    _df = df.set_index(\"dataset\").loc[:,metric].reset_index().rename({\"dataset\": \"Cell Type\"}, axis=1)\n",
    "    _df.loc[:,\"Difference\"] = (_df.Original - _df.Shuffled)\n",
    "    _df.loc[:,\"-log2 p-value\"] = -np.log2(_df.loc[:,\"P-value\"])\n",
    "    sns.set(font_scale=1.3, style=\"ticks\", font=\"Helvetica\")\n",
    "    filled_markers = ['o', 'X']*7\n",
    "    sns.scatterplot(data=_df,x=\"Difference\",y=\"-log2 p-value\",hue=\"Cell Type\",style=\"Cell Type\",markers=filled_markers,palette=new_palette,legend=legend,s=50,ax=ax)\n",
    "    xlim = max(_df.Difference.max(),_df.Difference.min())*1.1\n",
    "    sns.lineplot([-xlim,xlim],[cutoff, cutoff],dashes=True,color=\"grey\", alpha=0.5,ax=ax)\n",
    "    sns.distplot([0], kde=False, hist=False, rug=True, rug_kws={\"height\": 1.0, \"linewidth\": 2, \"alpha\": 0.5, \"color\": \"grey\"},ax=ax)\n",
    "    ax.set_xlim([-xlim,xlim])\n",
    "    if legend:\n",
    "        ax.legend(bbox_to_anchor=(1.0, 1.0))\n",
    "    ax.set_title(title)\n",
    "    \n",
    "_, axs = plt.subplots(3,1,figsize=(4,7))\n",
    "plt.subplots_adjust(hspace=1.1)\n",
    "plot_volcano(\"10%\", \"IC (1st Decile)\", axs[0], legend=\"full\")\n",
    "plot_volcano(\"90%\", \"IC (9th Decile)\", axs[1])\n",
    "plot_volcano(\"Quantile Ratio\", \"IC (Quantile Ratio)\", axs[2])\n",
    "plt.show()\n"
   ]
  },
  {
   "cell_type": "code",
   "execution_count": null,
   "metadata": {},
   "outputs": [],
   "source": [
    "def transform(df):\n",
    "    orig = pd.DataFrame([[df.Original.iloc[0]]], columns=[\"value\"])\n",
    "    shuf = pd.DataFrame([[df.Shuffled.iloc[0]]], columns=[\"value\"])\n",
    "#     orig.columns = [\"metric\", \"value\"]\n",
    "#     shuf.columns = [\"metric\", \"value\"]\n",
    "    orig.loc[:,\"Distribution\"] = \"Original\"\n",
    "    shuf.loc[:,\"Distribution\"] = \"Median Shuffled\"\n",
    "    \n",
    "    return pd.concat([orig, shuf])\n",
    "\n",
    "def draw_pvalues(ax, x, dataset, metric):\n",
    "    _df = df.set_index(\"dataset\").loc[:,metric]\n",
    "    y = _df.loc[dataset,[\"Original\", \"Shuffled\"]].max()\n",
    "    pvalue = _df.loc[dataset,\"P-value\"]\n",
    "    ax.text(x, y+0.05, \"{:.1E}\".format(pvalue), horizontalalignment='center')\n",
    "\n",
    "sns.set(font_scale=1.3, style=\"ticks\", font=\"Arial\")\n",
    "_df = df.set_index(\"dataset\").loc[:,\"10%\"].reset_index().rename({\"dataset\": \"Cell Type\"}, axis=1)\n",
    "_df.loc[:,\"Difference\"] = _df.Original - _df.Shuffled\n",
    "_datasets = _df.loc[[7,8,12],\"Cell Type\"]\n",
    "_df = _df.iloc[[7,8,12]].groupby(\"Cell Type\").apply(transform).reset_index()\n",
    "g = sns.catplot(data=_df, x=\"Cell Type\", y=\"value\", hue=\"Distribution\", kind=\"bar\", sharey=False, aspect=0.8)\n",
    "plt.xticks(rotation = 90)\n",
    "plt.ylabel(\"10th Percentile\")\n",
    "plt.xlabel(\"Cell Type\")\n",
    "for x, name in enumerate(_datasets):\n",
    "    draw_pvalues(g.ax, x, name, \"10%\")\n",
    "_datasets"
   ]
  },
  {
   "cell_type": "code",
   "execution_count": null,
   "metadata": {},
   "outputs": [],
   "source": []
  },
  {
   "cell_type": "code",
   "execution_count": null,
   "metadata": {},
   "outputs": [],
   "source": []
  }
 ],
 "metadata": {
  "kernelspec": {
   "display_name": "Python 3.7.4 64-bit ('stochastic': conda)",
   "language": "python",
   "name": "python37464bitstochasticcondad3c784986b534aaebb6b91784b827746"
  },
  "language_info": {
   "codemirror_mode": {
    "name": "ipython",
    "version": 3
   },
   "file_extension": ".py",
   "mimetype": "text/x-python",
   "name": "python",
   "nbconvert_exporter": "python",
   "pygments_lexer": "ipython3",
   "version": "3.7.6"
  }
 },
 "nbformat": 4,
 "nbformat_minor": 4
}
