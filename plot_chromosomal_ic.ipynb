{
 "cells": [
  {
   "cell_type": "code",
   "execution_count": null,
   "metadata": {},
   "outputs": [],
   "source": [
    "import pandas as pd\n",
    "import seaborn as sns\n",
    "import matplotlib.pyplot as plt"
   ]
  },
  {
   "cell_type": "markdown",
   "metadata": {},
   "source": [
    "## Pcdh"
   ]
  },
  {
   "cell_type": "code",
   "execution_count": null,
   "metadata": {},
   "outputs": [],
   "source": [
    "datasets = [\n",
    "    \"somatosensory_converted_into_tpm\",\n",
    "    \"Dopaminergic_TPM_clean\",\n",
    "    \"Rbp4_positive_cells\"\n",
    "]"
   ]
  },
  {
   "cell_type": "code",
   "execution_count": null,
   "metadata": {},
   "outputs": [],
   "source": [
    "ic_dfs = {x: pd.read_csv(\"{}/results/geomean/stage1_chr18_IC.csv\".format(x)) for x in datasets}\n",
    "chr18 = pd.read_csv(\"somatosensory_converted_into_tpm/intermediate/chr18_filtered.csv\")"
   ]
  },
  {
   "cell_type": "code",
   "execution_count": null,
   "metadata": {},
   "outputs": [],
   "source": [
    "for k in datasets:\n",
    "    ic_dfs[k].loc[:, \"start_bp\"] = chr18.loc[ic_dfs[k].start].reset_index().start"
   ]
  },
  {
   "cell_type": "code",
   "execution_count": null,
   "metadata": {},
   "outputs": [],
   "source": [
    "for x in datasets:\n",
    "    ic_df = ic_dfs[x]\n",
    "    ic_df = ic_df.loc[(ic_df.start >= 190) & (ic_df.start <= 250)]\n",
    "\n",
    "    name = 18\n",
    "    sns.set(context=\"notebook\", style=\"ticks\", font=\"Helvetica\")\n",
    "    start = ic_df.start_bp.min()\n",
    "    end = ic_df.start_bp.max()\n",
    "    stretch = 14\n",
    "    sns.lineplot(data=ic_df[((ic_df.stretch - ic_df.n_genes) <= (2 / 7 * ic_df.stretch)) & (ic_df.stretch == stretch)], x='start_bp', y='ic', alpha=0.6, markers=True)#, label=\"Stretch 21\")\n",
    "    sns.scatterplot(data=ic_df[(ic_df.stretch == stretch) & (ic_df.start == 200)], x='start_bp', y='ic', label=\"Pcdha\")\n",
    "    sns.scatterplot(data=ic_df[(ic_df.stretch == stretch) & (ic_df.start == 216)], x='start_bp', y='ic', label=\"Pcdhb\")\n",
    "    sns.scatterplot(data=ic_df[(ic_df.stretch == stretch) & (ic_df.start == 240)], x='start_bp', y='ic', label=\"Pcdhg\")\n",
    "sns.lineplot([start,end],[1,1],color=\"grey\")\n",
    "plt.yscale(\"log\", basey=2)\n",
    "plt.ylabel(\"IC\")\n",
    "plt.xlabel(\"position (bp)\")\n",
    "plt.show()"
   ]
  },
  {
   "cell_type": "code",
   "execution_count": null,
   "metadata": {},
   "outputs": [],
   "source": []
  }
 ],
 "metadata": {
  "kernelspec": {
   "display_name": "Python 3.7.4 64-bit ('stochastic': conda)",
   "language": "python",
   "name": "python37464bitstochasticcondad3c784986b534aaebb6b91784b827746"
  },
  "language_info": {
   "codemirror_mode": {
    "name": "ipython",
    "version": 3
   },
   "file_extension": ".py",
   "mimetype": "text/x-python",
   "name": "python",
   "nbconvert_exporter": "python",
   "pygments_lexer": "ipython3",
   "version": "3.7.6"
  }
 },
 "nbformat": 4,
 "nbformat_minor": 4
}
