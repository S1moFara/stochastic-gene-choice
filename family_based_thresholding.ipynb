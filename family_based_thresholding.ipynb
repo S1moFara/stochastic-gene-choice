{
 "cells": [
  {
   "cell_type": "code",
   "execution_count": null,
   "metadata": {},
   "outputs": [],
   "source": [
    "import pandas as pd\n",
    "import numpy as np\n",
    "from scipy.stats.mstats import gmean\n",
    "from tqdm import tqdm_notebook\n",
    "tqdm_notebook().pandas()\n",
    "import matplotlib.pyplot as plt\n",
    "import seaborn as sns\n",
    "\n",
    "#%% Code so the same scripts can be used as notebooks and as part of a pipeline\n",
    "try:\n",
    "    if __IPYTHON__:\n",
    "        import sys\n",
    "        sys.path.insert(0,'./bin')\n",
    "except:\n",
    "    pass\n",
    "\n",
    "from pipeline_utils.ic_utils import get_IC, get_observed_variance, get_pb_variance\n",
    "from pipeline_utils.vrs_utils import get_vrs, get_cvrs"
   ]
  },
  {
   "cell_type": "code",
   "execution_count": null,
   "metadata": {},
   "outputs": [],
   "source": [
    "dataset = \"somatosensory_rpkm_suppl\"\n",
    "prefix = \"Pcdh\""
   ]
  },
  {
   "cell_type": "code",
   "execution_count": null,
   "metadata": {},
   "outputs": [],
   "source": [
    "data_df = pd.read_csv(dataset+\".csv\", index_col=\"gene_id\")"
   ]
  },
  {
   "cell_type": "code",
   "execution_count": null,
   "metadata": {},
   "outputs": [],
   "source": [
    "thresholds_df = {x: pd.read_csv(\"{}/intermediate/{}/optimal_thresholds.csv\".format(dataset,x), index_col=\"gene_id\") for x in [\"vrs\", \"3max\", \"geomean\"]}"
   ]
  },
  {
   "cell_type": "code",
   "execution_count": null,
   "metadata": {},
   "outputs": [],
   "source": [
    "if dataset != \"olfactory_dataset\":\n",
    "    thresholds_df[\"fitted\"] = pd.read_csv(\"{}/mathematica/fitted_distributions_thresholds.csv\".format(dataset), index_col=\"gene_id\")"
   ]
  },
  {
   "cell_type": "code",
   "execution_count": null,
   "metadata": {},
   "outputs": [],
   "source": [
    "def get_np_func(name):\n",
    "    if (name == \"min\"):\n",
    "        return np.nanmin\n",
    "    elif (name == \"max\"):\n",
    "        return np.nanmax\n",
    "    elif (name == \"median\"):\n",
    "        return np.nanmedian\n",
    "\n",
    "def get_threshold(genes, take_n=3, cutoff=0.0, bottom_func=\"min\", top_func=\"max\"):\n",
    "    bottom = [row[row > cutoff].sort_values()[:take_n].mean() for _, row in genes.iterrows()]\n",
    "    top = [row[row > cutoff].sort_values()[-take_n:].mean() for _, row in genes.iterrows()]\n",
    "    return gmean([get_np_func(bottom_func)(bottom), get_np_func(top_func)(top)])\n",
    "\n",
    "def get_max_min_ratios(genes, take_n=3, cutoff=0.0):\n",
    "    bottom = np.array([row[row > cutoff].sort_values()[:take_n].mean() for _, row in genes.iterrows()])\n",
    "    top = np.array([row[row > cutoff].sort_values()[-take_n:].mean() for _, row in genes.iterrows()])\n",
    "    return pd.Series(top / bottom, index=genes.index)\n",
    "\n",
    "def dichotomise(df, threshold):\n",
    "    if(isinstance(threshold, pd.Series)):\n",
    "        for gene_id, row in df.iterrows():\n",
    "            row = dichotomise(row, threshold.loc[gene_id])\n",
    "    else:\n",
    "        df[df < threshold] = 0\n",
    "        df[df >= threshold] = 1\n",
    "    return df"
   ]
  },
  {
   "cell_type": "code",
   "execution_count": null,
   "metadata": {},
   "outputs": [],
   "source": [
    "def pipeline(kwargs, genes_df, threshold=None):\n",
    "    if threshold is None:\n",
    "        threshold = get_threshold(genes_df, **kwargs)\n",
    "    if(not isinstance(threshold, pd.Series)):\n",
    "        kwargs[\"uncorrected_threshold\"] = threshold\n",
    "        threshold = max(0.5,threshold)\n",
    "        kwargs[\"threshold\"] = threshold\n",
    "    dichotomised_df = dichotomise(genes_df.copy(), threshold)\n",
    "    kwargs[\"obs_var\"] = obs_var = get_observed_variance(dichotomised_df)\n",
    "    kwargs[\"pb_var\"] = pb_var = get_pb_variance(dichotomised_df)\n",
    "    kwargs[\"ic\"] = ic = get_IC(obs_var, pb_var)\n",
    "    kwargs[\"expression_mean\"] = expression_mean = dichotomised_df.sum(axis=0).mean()\n",
    "    return kwargs, dichotomised_df\n",
    "\n",
    "def heatmap_pipline(kwargs, genes_df):\n",
    "    output, dichotomised_df = pipeline(kwargs, genes_df)\n",
    "    plt.figure(figsize=(16,10))\n",
    "    sns.heatmap(\n",
    "        dichotomised_df.loc[dichotomised_df.sum(axis=1) > 0],\n",
    "        linewidths=.5,linecolor=\"grey\"\n",
    "    )\n",
    "    display(output)"
   ]
  },
  {
   "cell_type": "code",
   "execution_count": null,
   "metadata": {},
   "outputs": [],
   "source": [
    "if(prefix == \"Pcdha\" or prefix == \"Pcdh\"):\n",
    "    genes_df = data_df.loc[data_df.index.str.startswith(prefix)].drop_duplicates().drop(\"Pcdha4-g\")\n",
    "if(prefix == \"clustered_pcdh\"):\n",
    "    genes_df = data_df.loc[data_df.index.str.startswith(\"Pcdha\") | data_df.index.str.startswith(\"Pcdhb\") | data_df.index.str.startswith(\"Pcdhg\")].drop_duplicates().drop(\"Pcdha4-g\")\n",
    "else:\n",
    "    genes_df = data_df.loc[data_df.index.str.startswith(prefix)].drop_duplicates()\n",
    "    \n",
    "genes_df"
   ]
  },
  {
   "cell_type": "code",
   "execution_count": null,
   "metadata": {},
   "outputs": [],
   "source": [
    "for x in [\"vrs\", \"3max\", \"geomean\", \"fitted\"] if dataset != \"olfactory_dataset\" else [\"vrs\", \"3max\", \"geomean\"]:\n",
    "    print(x)\n",
    "    selected_thresholds = thresholds_df[x].loc[genes_df.index]\n",
    "    x = np.arange(np.nanmin(selected_thresholds), np.nanmax(selected_thresholds), 0.5)\n",
    "    cvrs = [get_cvrs(selected_thresholds[~selected_thresholds.uncorrected_threshold.isna()].uncorrected_threshold, _x) * 2 for _x in x]\n",
    "    vrs = [get_vrs(selected_thresholds[~selected_thresholds.uncorrected_threshold.isna()].uncorrected_threshold, _x) * 2 for _x in x]\n",
    "\n",
    "    # np.log(selected_thresholds[~selected_thresholds.uncorrected_threshold.isna()].uncorrected_threshold).hist(bins=50)\n",
    "    # plt.show()\n",
    "    (selected_thresholds[~selected_thresholds.uncorrected_threshold.isna()].uncorrected_threshold).hist(bins=50)\n",
    "    plt.plot(x, vrs, label=\"VRS\")\n",
    "    print(\"VRS: \",x[np.argmin(vrs)])\n",
    "    # plt.plot(x, cvrs, label=\"CVRS\")\n",
    "    # print(\"CVRS: \",x[np.nanargmin(cvrs)])\n",
    "    plt.show()"
   ]
  },
  {
   "cell_type": "code",
   "execution_count": null,
   "metadata": {},
   "outputs": [],
   "source": [
    "output = {\n",
    "    \"minmax_00\": pipeline({\n",
    "        \"take_n\": 3,\n",
    "        \"cutoff\": 0,\n",
    "        \"bottom_func\": \"min\",\n",
    "        \"top_func\": \"max\"\n",
    "    }, genes_df)[0],\n",
    "    \"minmax_05\": pipeline({\n",
    "        \"take_n\": 3,\n",
    "        \"cutoff\": 0.4999,\n",
    "        \"bottom_func\": \"min\",\n",
    "        \"top_func\": \"max\"\n",
    "    }, genes_df)[0],\n",
    "    \"median_00\": pipeline({\n",
    "        \"take_n\": 3,\n",
    "        \"cutoff\": 0,\n",
    "        \"bottom_func\": \"median\",\n",
    "        \"top_func\": \"median\"\n",
    "    }, genes_df)[0],\n",
    "    \"median_05\": pipeline({\n",
    "        \"take_n\": 3,\n",
    "        \"cutoff\": 0.4999,\n",
    "        \"bottom_func\": \"median\",\n",
    "        \"top_func\": \"median\"\n",
    "    }, genes_df)[0],\n",
    "    \"mean_vrs\": pipeline(\n",
    "        {},\n",
    "        genes_df,\n",
    "        threshold=thresholds_df[\"vrs\"].loc[genes_df.index].uncorrected_threshold.mean()\n",
    "    )[0],\n",
    "    \"median_vrs\": pipeline(\n",
    "        {},\n",
    "        genes_df,\n",
    "        threshold=thresholds_df[\"vrs\"].loc[genes_df.index].uncorrected_threshold.median()\n",
    "    )[0],\n",
    "    \"mean_3max\": pipeline(\n",
    "        {},\n",
    "        genes_df,\n",
    "        threshold=thresholds_df[\"3max\"].loc[genes_df.index].uncorrected_threshold.mean()\n",
    "    )[0],\n",
    "    \"median_3max\": pipeline(\n",
    "        {},\n",
    "        genes_df,\n",
    "        threshold=thresholds_df[\"3max\"].loc[genes_df.index].uncorrected_threshold.median()\n",
    "    )[0],\n",
    "    \"mean_geomean\": pipeline(\n",
    "        {},\n",
    "        genes_df,\n",
    "        threshold=thresholds_df[\"geomean\"].loc[genes_df.index].uncorrected_threshold.mean()\n",
    "    )[0],\n",
    "    \"median_geomean\": pipeline(\n",
    "        {},\n",
    "        genes_df,\n",
    "        threshold=thresholds_df[\"geomean\"].loc[genes_df.index].uncorrected_threshold.median()\n",
    "    )[0]\n",
    "}\n",
    "\n",
    "if(dataset != \"olfactory_dataset\"):\n",
    "    output[\"mean_fitted\"] = pipeline(\n",
    "        {},\n",
    "        genes_df,\n",
    "        threshold=thresholds_df[\"fitted\"].loc[genes_df.index].uncorrected_threshold.mean()\n",
    "    )[0]\n",
    "    output[\"median_fitted\"] = pipeline(\n",
    "        {},\n",
    "        genes_df,\n",
    "        threshold=thresholds_df[\"fitted\"].loc[genes_df.index].uncorrected_threshold.median()\n",
    "    )[0]\n",
    "\n",
    "uniform_output_df = pd.DataFrame(output).iloc[4:].T"
   ]
  },
  {
   "cell_type": "code",
   "execution_count": null,
   "metadata": {},
   "outputs": [],
   "source": [
    "vals = genes_df[genes_df >= 0.5].values.flatten()\n",
    "vals = sorted(vals[~np.isnan(vals)])"
   ]
  },
  {
   "cell_type": "code",
   "execution_count": null,
   "metadata": {},
   "outputs": [],
   "source": [
    "ics = pd.DataFrame([pipeline({}, genes_df, threshold=x)[0] for x in tqdm_notebook(vals)])"
   ]
  },
  {
   "cell_type": "code",
   "execution_count": null,
   "metadata": {},
   "outputs": [],
   "source": [
    "sns.lineplot(vals, ics.pb_var, label=\"PB\")\n",
    "sns.lineplot(vals, ics.obs_var, label=\"Observed\")\n",
    "plt.yscale(\"log\")\n",
    "plt.xscale(\"log\")\n",
    "plt.show()\n",
    "\n",
    "# sns.lineplot(vals, ics.obs_var-ics.pb_var, label=\"Difference\")\n",
    "# sns.lineplot(vals, np.zeros(len(vals)), label=\"Difference\")\n",
    "# plt.xscale(\"log\")\n",
    "# plt.show()\n",
    "\n",
    "sns.lineplot(vals, ics.ic)\n",
    "sns.lineplot(vals, np.ones(len(vals)))\n",
    "# plt.yscale(\"log\")\n",
    "plt.xscale(\"log\")\n",
    "plt.show()\n",
    "\n",
    "sns.lineplot(vals, ics.expression_mean)\n",
    "sns.lineplot(vals, np.ones(len(vals)))\n",
    "# plt.yscale(\"log\")\n",
    "plt.xscale(\"log\")\n",
    "plt.show()\n",
    "\n"
   ]
  },
  {
   "cell_type": "code",
   "execution_count": null,
   "metadata": {},
   "outputs": [],
   "source": [
    "ics"
   ]
  },
  {
   "cell_type": "code",
   "execution_count": null,
   "metadata": {},
   "outputs": [],
   "source": [
    "uniform_df = dichotomise(genes_df.copy(), max(0.5, get_threshold(genes_df)))"
   ]
  },
  {
   "cell_type": "code",
   "execution_count": null,
   "metadata": {},
   "outputs": [],
   "source": [
    "isinstance(thresholds_df[\"vrs\"].loc[genes_df.index].threshold, pd.Series)"
   ]
  },
  {
   "cell_type": "code",
   "execution_count": null,
   "metadata": {},
   "outputs": [],
   "source": [
    "separate = {x: pipeline({}, genes_df.copy(), threshold=thresholds_df[x].threshold)[0] for x in [\"vrs\", \"3max\", \"geomean\"]}\n",
    "ic_summary = pd.concat([uniform_output_df, pd.DataFrame(separate).T], sort=False)\n",
    "display(ic_summary)\n",
    "print(ic_summary.fillna(0).to_latex(float_format=\"%.2f\"))"
   ]
  },
  {
   "cell_type": "code",
   "execution_count": null,
   "metadata": {},
   "outputs": [],
   "source": [
    "if dataset == \"olfactory_dataset\":\n",
    "    threshold_summary = pd.DataFrame([thresholds_df[x].loc[genes_df.index].uncorrected_threshold for x in [\"vrs\", \"3max\", \"geomean\"]], index=[\"vrs\", \"3max\", \"geomean\"]).T.describe()\n",
    "else:\n",
    "    threshold_summary = pd.DataFrame([thresholds_df[x].loc[genes_df.index].uncorrected_threshold for x in [\"vrs\", \"3max\", \"geomean\", \"fitted\"]], index=[\"vrs\", \"3max\", \"geomean\", \"fitted\"]).T.describe()\n",
    "display(threshold_summary)\n",
    "print(threshold_summary.fillna(0).to_latex(float_format=\"%.2f\"))"
   ]
  }
 ],
 "metadata": {
  "kernelspec": {
   "display_name": "Python 3.7.4 64-bit ('stochastic': conda)",
   "language": "python",
   "name": "python37464bitstochasticcondad3c784986b534aaebb6b91784b827746"
  },
  "language_info": {
   "codemirror_mode": {
    "name": "ipython",
    "version": 3
   },
   "file_extension": ".py",
   "mimetype": "text/x-python",
   "name": "python",
   "nbconvert_exporter": "python",
   "pygments_lexer": "ipython3",
   "version": "3.7.6"
  }
 },
 "nbformat": 4,
 "nbformat_minor": 2
}
