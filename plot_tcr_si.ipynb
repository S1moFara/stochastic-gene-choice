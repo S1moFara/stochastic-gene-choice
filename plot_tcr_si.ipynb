{
 "cells": [
  {
   "cell_type": "code",
   "execution_count": null,
   "metadata": {},
   "outputs": [],
   "source": [
    "import pandas as pd\n",
    "import seaborn as sns\n",
    "import matplotlib.pyplot as plt\n",
    "import numpy as np"
   ]
  },
  {
   "cell_type": "code",
   "execution_count": null,
   "metadata": {},
   "outputs": [],
   "source": [
    "df = pd.read_csv(\"Gaublomme_GSE75109_TPM_clean.csv\", index_col=\"gene_id\")"
   ]
  },
  {
   "cell_type": "code",
   "execution_count": null,
   "metadata": {},
   "outputs": [],
   "source": [
    "fm_thresholds = pd.read_csv(\"Gaublomme_GSE75109_TPM_clean/intermediate/3max/optimal_thresholds.csv\", index_col=\"gene_id\")\n",
    "gtme_thresholds = pd.read_csv(\"Gaublomme_GSE75109_TPM_clean/intermediate/geomean/optimal_thresholds.csv\", index_col=\"gene_id\")\n",
    "vrs_thresholds = pd.read_csv(\"Gaublomme_GSE75109_TPM_clean/intermediate/vrs/optimal_thresholds.csv\", index_col=\"gene_id\")"
   ]
  },
  {
   "cell_type": "code",
   "execution_count": null,
   "metadata": {},
   "outputs": [],
   "source": [
    "trbv = df.loc[df.index.str.startswith(\"Trbv\")]"
   ]
  },
  {
   "cell_type": "code",
   "execution_count": null,
   "metadata": {},
   "outputs": [],
   "source": [
    "for i, row in trbv.iterrows():\n",
    "    sns.distplot(row, kde=False,bins=50)\n",
    "    plt.show()"
   ]
  },
  {
   "cell_type": "code",
   "execution_count": null,
   "metadata": {},
   "outputs": [],
   "source": [
    "vrs_thresholds.loc[\"Trbv26\"]"
   ]
  },
  {
   "cell_type": "code",
   "execution_count": null,
   "metadata": {},
   "outputs": [],
   "source": [
    "def BI_kurtosis(x):\n",
    "    n= len(x)\n",
    "    K = x.kurt()\n",
    "    skewness = x.skew()\n",
    "    return (skewness ** 2 + 1) / (K + (3 * (n-1) ** 2) / ((n-2) * (n-3)))\n",
    "\n",
    "def get_norm(arr):\n",
    "    return {\n",
    "        \"weights\": np.ones(len(arr)) / len(arr)\n",
    "    }\n",
    "\n",
    "SMALL_SIZE = 18\n",
    "MEDIUM_SIZE = 20\n",
    "BIGGER_SIZE = 22\n",
    "\n",
    "plt.rc('font', size=SMALL_SIZE)          # controls default text sizes\n",
    "plt.rc('axes', titlesize=SMALL_SIZE)     # fontsize of the axes title\n",
    "plt.rc('axes', labelsize=MEDIUM_SIZE)    # fontsize of the x and y labels\n",
    "plt.rc('xtick', labelsize=SMALL_SIZE)    # fontsize of the tick labels\n",
    "plt.rc('ytick', labelsize=SMALL_SIZE)    # fontsize of the tick labels\n",
    "plt.rc('legend', fontsize=SMALL_SIZE)    # legend fontsize\n",
    "plt.rc('figure', titlesize=BIGGER_SIZE)  # fontsize of the figure title\n",
    "\n",
    "# sns.set_context()\n",
    "gene_id = \"Trbv26\"\n",
    "gene = trbv.loc[gene_id]\n",
    "rug_kws = {\"height\": 0.95, \"linewidth\": 1.5}\n",
    "display(np.histogram(gene, bins=50))\n",
    "sns.distplot(gene, hist_kws=get_norm(gene), kde=False,bins=50, rug=False, color=\"grey\")\n",
    "sns.distplot([vrs_thresholds.loc[gene_id].threshold], kde=False, hist=False, rug=True, rug_kws=rug_kws, label=\"VRS\")\n",
    "sns.distplot([fm_thresholds.loc[gene_id].threshold], kde=False, hist=False, rug=True, rug_kws=rug_kws, label=\"FM\")\n",
    "sns.distplot([gtme_thresholds.loc[gene_id].threshold], kde=False, hist=False, rug=True, rug_kws=rug_kws, label=\"GTME\")\n",
    "\n",
    "plt.legend()\n",
    "plt.xlabel(\"TPM\")\n",
    "plt.yscale(\"log\",basey=10)\n",
    "plt.ylabel(\"Frequency\")\n",
    "plt.title(gene_id)\n",
    "# plt.ylim([0,140])\n",
    "plt.show()\n",
    "print(\"BI\",BI_kurtosis(gene))"
   ]
  },
  {
   "cell_type": "code",
   "execution_count": null,
   "metadata": {},
   "outputs": [],
   "source": []
  }
 ],
 "metadata": {
  "kernelspec": {
   "display_name": "Python 3.7.4 64-bit ('stochastic': conda)",
   "language": "python",
   "name": "python37464bitstochasticcondad3c784986b534aaebb6b91784b827746"
  },
  "language_info": {
   "codemirror_mode": {
    "name": "ipython",
    "version": 3
   },
   "file_extension": ".py",
   "mimetype": "text/x-python",
   "name": "python",
   "nbconvert_exporter": "python",
   "pygments_lexer": "ipython3",
   "version": "3.7.6"
  }
 },
 "nbformat": 4,
 "nbformat_minor": 4
}
