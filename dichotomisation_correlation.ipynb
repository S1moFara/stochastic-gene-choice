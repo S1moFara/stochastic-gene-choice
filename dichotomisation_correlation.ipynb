{
 "cells": [
  {
   "cell_type": "code",
   "execution_count": null,
   "metadata": {},
   "outputs": [],
   "source": [
    "import pandas as pd\n",
    "import seaborn as sns\n",
    "import matplotlib.pyplot as plt\n",
    "import numpy as np\n",
    "from scipy.stats import spearmanr"
   ]
  },
  {
   "cell_type": "code",
   "execution_count": null,
   "metadata": {},
   "outputs": [],
   "source": [
    "dataset = \"Dopaminergic_TPM_clean\"\n",
    "sns.set_context(\"paper\")"
   ]
  },
  {
   "cell_type": "code",
   "execution_count": null,
   "metadata": {},
   "outputs": [],
   "source": [
    "# Set-up matplotlib\n",
    "from matplotlib import rcParams\n",
    "rcParams['font.family'] = 'sans-serif'\n",
    "rcParams['font.sans-serif'] = ['Helvetica']"
   ]
  },
  {
   "cell_type": "markdown",
   "metadata": {},
   "source": [
    "# All genes (no fitted distributions)\n",
    "## Thresholds"
   ]
  },
  {
   "cell_type": "code",
   "execution_count": null,
   "metadata": {},
   "outputs": [],
   "source": [
    "vrs = pd.read_csv(\"{}/intermediate/vrs/optimal_thresholds.csv\".format(dataset))\n",
    "three_max = pd.read_csv(\"{}/intermediate/3max/optimal_thresholds.csv\".format(dataset))\n",
    "geomean = pd.read_csv(\"{}/intermediate/geomean/optimal_thresholds.csv\".format(dataset))\n",
    "thresholds = pd.DataFrame(\n",
    "    [vrs.threshold,three_max.threshold,geomean.threshold], \n",
    "    index=[\"VRS\", \"three_max\", \"geo_mean\"]\n",
    ").T "
   ]
  },
  {
   "cell_type": "code",
   "execution_count": null,
   "metadata": {},
   "outputs": [],
   "source": [
    "three_max.uncorrected_threshold[three_max.uncorrected_threshold < 0]"
   ]
  },
  {
   "cell_type": "code",
   "execution_count": null,
   "metadata": {},
   "outputs": [],
   "source": [
    "display(\"Pearson\")\n",
    "display(thresholds.corr(method=\"pearson\"))\n",
    "display(\"Kendall\")\n",
    "display(thresholds.corr(method=\"kendall\"))\n",
    "display(\"Spearman\")\n",
    "display(thresholds.corr(method=\"spearman\"))"
   ]
  },
  {
   "cell_type": "code",
   "execution_count": null,
   "metadata": {},
   "outputs": [],
   "source": [
    "sns.pairplot(np.log2(thresholds), height=3, aspect=1.0)\n",
    "plt.show()"
   ]
  },
  {
   "cell_type": "markdown",
   "metadata": {},
   "source": [
    "## Expression frequency"
   ]
  },
  {
   "cell_type": "code",
   "execution_count": null,
   "metadata": {},
   "outputs": [],
   "source": [
    "vrs = pd.read_csv(\"{}/intermediate/vrs/dichotomised_genes.csv\".format(dataset),index_col=\"gene_id\").mean(axis=1)\n",
    "three_max = pd.read_csv(\"{}/intermediate/3max/dichotomised_genes.csv\".format(dataset), index_col=\"gene_id\").mean(axis=1)\n",
    "geo_mean = pd.read_csv(\"{}/intermediate/geomean/dichotomised_genes.csv\".format(dataset), index_col=\"gene_id\").mean(axis=1)\n",
    "frequencies = pd.DataFrame(\n",
    "    [vrs, three_max, geo_mean], \n",
    "    index=[\"VRS\", \"three_max\", \"geo_mean\"]\n",
    ").T"
   ]
  },
  {
   "cell_type": "code",
   "execution_count": null,
   "metadata": {},
   "outputs": [],
   "source": [
    "display(\"Pearson\")\n",
    "display(frequencies.corr(method=\"pearson\"))\n",
    "display(\"Kendall\")\n",
    "display(frequencies.corr(method=\"kendall\"))\n",
    "display(\"Spearman\")\n",
    "display(frequencies.corr(method=\"spearman\"))"
   ]
  },
  {
   "cell_type": "code",
   "execution_count": null,
   "metadata": {},
   "outputs": [],
   "source": [
    "sns.pairplot(frequencies, height=3, aspect=1.0)\n",
    "plt.show()"
   ]
  },
  {
   "cell_type": "markdown",
   "metadata": {},
   "source": [
    "# Genes with idenified antimode\n",
    "## Thresholds"
   ]
  },
  {
   "cell_type": "code",
   "execution_count": null,
   "metadata": {},
   "outputs": [],
   "source": [
    "dist = pd.read_csv(\"{}/mathematica/fitted_distributions_thresholds.csv\".format(dataset),index_col=\"gene_id\")\n",
    "vrs = pd.read_csv(\"{}/intermediate/vrs/optimal_thresholds.csv\".format(dataset),index_col=\"gene_id\").loc[dist.index]\n",
    "three_max = pd.read_csv(\"{}/intermediate/3max/optimal_thresholds.csv\".format(dataset),index_col=\"gene_id\").loc[dist.index]\n",
    "geomean = pd.read_csv(\"{}/intermediate/geomean/optimal_thresholds.csv\".format(dataset),index_col=\"gene_id\").loc[dist.index]\n",
    "thresholds = pd.DataFrame(\n",
    "    [vrs.threshold,three_max.threshold,geomean.threshold,dist.threshold], \n",
    "    index=[\"VRS\", \"three_max\", \"geo_mean\",\"fitted_distribution\"]\n",
    ").T "
   ]
  },
  {
   "cell_type": "code",
   "execution_count": null,
   "metadata": {},
   "outputs": [],
   "source": [
    "three_max"
   ]
  },
  {
   "cell_type": "code",
   "execution_count": null,
   "metadata": {},
   "outputs": [],
   "source": [
    "display(\"Pearson\")\n",
    "display(thresholds.corr(method=\"pearson\"))\n",
    "display(\"Kendall\")\n",
    "display(thresholds.corr(method=\"kendall\"))\n",
    "display(\"Spearman\")\n",
    "display(thresholds.corr(method=\"spearman\"))"
   ]
  },
  {
   "cell_type": "code",
   "execution_count": null,
   "metadata": {},
   "outputs": [],
   "source": [
    "sns.pairplot(thresholds, height=3, aspect=1.0)\n",
    "plt.show()"
   ]
  },
  {
   "cell_type": "markdown",
   "metadata": {},
   "source": [
    "## Expression frequency"
   ]
  },
  {
   "cell_type": "code",
   "execution_count": null,
   "metadata": {},
   "outputs": [],
   "source": [
    "dist = pd.read_csv(\"{}/mathematica/fitted_distributions_dichotomised.csv\".format(dataset),index_col=\"gene_id\").mean(axis=1)\n",
    "vrs = pd.read_csv(\"{}/intermediate/vrs/dichotomised_genes.csv\".format(dataset),index_col=\"gene_id\").mean(axis=1).loc[dist.index]\n",
    "three_max = pd.read_csv(\"{}/intermediate/3max/dichotomised_genes.csv\".format(dataset),index_col=\"gene_id\").mean(axis=1).loc[dist.index]\n",
    "geomean = pd.read_csv(\"{}/intermediate/geomean/dichotomised_genes.csv\".format(dataset),index_col=\"gene_id\").mean(axis=1).loc[dist.index]\n",
    "frequencies = pd.DataFrame(\n",
    "    [vrs, three_max, geomean, dist], \n",
    "    index=[\"VRS\", \"FM\", \"GTME\", \"Fit. Distr.\"]\n",
    ").T"
   ]
  },
  {
   "cell_type": "code",
   "execution_count": null,
   "metadata": {},
   "outputs": [],
   "source": [
    "frequencies.shape"
   ]
  },
  {
   "cell_type": "code",
   "execution_count": null,
   "metadata": {},
   "outputs": [],
   "source": [
    "# display(\"Pearson\")\n",
    "# display(frequencies.corr(method=\"pearson\"))\n",
    "# display(\"Kendall\")\n",
    "# display(frequencies.corr(method=\"kendall\"))\n",
    "# display(\"Spearman\")\n",
    "# display(frequencies.corr(method=\"spearman\"))\n",
    "# frequencies.columns = [\"VRS\", \"FM\", \"GTME\", \"Fit. Distr.\"]\n",
    "# print(frequencies.corr(method=\"spearman\").to_latex(float_format=\"%.2f\"))\n",
    "\n",
    "# sns.heatmap(frequencies.corr(method=\"spearman\"), annot=True, cbar=False, cmap=\"Reds\", square=True)\n",
    "# plt.show()\n",
    "sns.set(context=\"notebook\", style=\"ticks\", font=\"Arial\")\n",
    "sns.heatmap(frequencies.corr(method=\"spearman\"), annot=True, cbar=False, cmap=\"Blues\", square=True)\n",
    "plt.yticks(rotation = 0)\n",
    "plt.xticks(rotation = 90)\n",
    "plt.show()\n",
    "# sns.heatmap(frequencies.corr(method=\"spearman\"), center=0, annot=True, cbar=False, square=True)\n",
    "# plt.show()"
   ]
  },
  {
   "cell_type": "code",
   "execution_count": null,
   "metadata": {},
   "outputs": [],
   "source": [
    "# sns.set(font_scale=1)\n",
    "# sns.set()\n",
    "# sns.set_context(\"notebook\")\n",
    "sns.set(font_scale=2.2, style=\"ticks\", font=\"Arial\")\n",
    "sns.pairplot(frequencies, plot_kws={\"s\": 12})\n",
    "plt.show()"
   ]
  },
  {
   "cell_type": "code",
   "execution_count": null,
   "metadata": {},
   "outputs": [],
   "source": [
    "import matplotlib\n",
    "matplotlib.rcParams['font.family']\n",
    "from matplotlib.font_manager import findfont, FontProperties\n",
    "font = findfont(FontProperties(family=['sans-serif']))\n",
    "font"
   ]
  },
  {
   "cell_type": "code",
   "execution_count": null,
   "metadata": {},
   "outputs": [],
   "source": [
    "findfont(FontProperties(family=\"Arial\"))"
   ]
  },
  {
   "cell_type": "markdown",
   "metadata": {},
   "source": [
    "# Manual correlation calculation"
   ]
  },
  {
   "cell_type": "code",
   "execution_count": null,
   "metadata": {},
   "outputs": [],
   "source": [
    "frequencies"
   ]
  },
  {
   "cell_type": "code",
   "execution_count": null,
   "metadata": {},
   "outputs": [],
   "source": [
    "from scipy.stats import rankdata\n",
    "geo_mean_ranks = rankdata(frequencies.geo_mean)\n",
    "fitted_distributions_ranks = rankdata(frequencies.fitted_distribution)"
   ]
  },
  {
   "cell_type": "code",
   "execution_count": null,
   "metadata": {},
   "outputs": [],
   "source": [
    "from scipy.stats import pearsonr\n",
    "pearsonr(geo_mean_ranks, fitted_distributions_ranks)"
   ]
  },
  {
   "cell_type": "code",
   "execution_count": null,
   "metadata": {},
   "outputs": [],
   "source": [
    "n = len(geo_mean_ranks)\n",
    "1 - (((geo_mean_ranks - fitted_distributions_ranks) ** 2).sum() * 6) / (n * (n ** 2 - 1)) "
   ]
  }
 ],
 "metadata": {
  "kernelspec": {
   "display_name": "Python 3.7.4 64-bit ('stochastic': conda)",
   "language": "python",
   "name": "python37464bitstochasticcondad3c784986b534aaebb6b91784b827746"
  },
  "language_info": {
   "codemirror_mode": {
    "name": "ipython",
    "version": 3
   },
   "file_extension": ".py",
   "mimetype": "text/x-python",
   "name": "python",
   "nbconvert_exporter": "python",
   "pygments_lexer": "ipython3",
   "version": "3.7.6"
  }
 },
 "nbformat": 4,
 "nbformat_minor": 2
}
