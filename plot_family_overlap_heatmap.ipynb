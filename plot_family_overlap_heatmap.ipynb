{
 "cells": [
  {
   "cell_type": "code",
   "execution_count": null,
   "metadata": {},
   "outputs": [],
   "source": [
    "import pandas as pd\n",
    "import numpy as np\n",
    "import matplotlib.pyplot as plt\n",
    "import seaborn as sns\n",
    "from matplotlib.colors import LogNorm"
   ]
  },
  {
   "cell_type": "code",
   "execution_count": null,
   "metadata": {},
   "outputs": [],
   "source": [
    "datasets = [\n",
    "    \"Gaublomme_GSE75109_TPM_clean\",\n",
    "    \"Gaublomme_GSE75110_TPM_clean\",\n",
    "    \"Gaublomme_GSE75111_TPM_clean\",\n",
    "    \"kakadarov_tpm\",\n",
    "    \"somatosensory_converted_into_tpm\",\n",
    "    \"Dopaminergic_TPM_clean\",\n",
    "    \"Rbp4_positive_cells\",\n",
    "    \"Cheng_ES_TPM\",\n",
    "    \"Alveolar_cells_Type_II_Merged_Batches\",\n",
    "    \"Alveolar_cells_Type_I_Merged_Batches\",\n",
    "#     \"Alveolar_cells_both_types\",\n",
    "    \"klein\",\n",
    "    \"hepat_TPM_yang_clean\",\n",
    "    \"Yu_First_wave_endocrine_cells\",\n",
    "]\n",
    "\n",
    "families = \"clean_panther4march\"\n",
    "\n",
    "dfs = {x: pd.read_csv(\"{}/{}/results/family_IC.csv\".format(x, families), index_col=\"family_id\") for x in datasets}\n",
    "dichotomised_dfs = {x: pd.read_csv(\"{}/{}/intermediate/dichotomised_genes.csv\".format(x, families), index_col=\"gene_id\") for x in datasets}"
   ]
  },
  {
   "cell_type": "code",
   "execution_count": null,
   "metadata": {},
   "outputs": [],
   "source": [
    "cell_type_names = {\n",
    "    \"somatosensory_converted_into_tpm\": \"Somatosensory N\",\n",
    "    \"Dopaminergic_TPM_clean\": \"Dopaminergic N\",\n",
    "    \"kakadarov_tpm\": \"CD8+ T cell\",\n",
    "    \"Cheng_ES_TPM\": \"Isolated ESC\",\n",
    "    \"Gaublomme_GSE75109_TPM_clean\": \"Th17 A\",\n",
    "    \"Gaublomme_GSE75110_TPM_clean\": \"Th17 B\",\n",
    "    \"Gaublomme_GSE75111_TPM_clean\": \"Th17 C\",\n",
    "    \"Rbp4_positive_cells\": \"Corticostriatal N\",\n",
    "    \"Alveolar_cells_Type_I_Merged_Batches\": \"Lung ACI\",\n",
    "    \"Alveolar_cells_Type_II_Merged_Batches\": \"Lung ACII\",\n",
    "#     \"Alveolar_cells_both_types\",\n",
    "    \"klein\": \"Cultured ESC\",\n",
    "    \"hepat_TPM_yang_clean\": \"Liver HB/HC\",\n",
    "    \"Yu_First_wave_endocrine_cells\": \"Pancreatic EC\",\n",
    "}"
   ]
  },
  {
   "cell_type": "code",
   "execution_count": null,
   "metadata": {},
   "outputs": [],
   "source": [
    "family_df = pd.read_csv(\"{}.csv\".format(families))"
   ]
  },
  {
   "cell_type": "code",
   "execution_count": null,
   "metadata": {},
   "outputs": [],
   "source": [
    "df = dfs[\"Gaublomme_GSE75109_TPM_clean\"]\n",
    "df.loc[\"PTHR23430\"]"
   ]
  },
  {
   "cell_type": "code",
   "execution_count": null,
   "metadata": {},
   "outputs": [],
   "source": [
    "_x = None\n",
    "def plot_heatmaps(k, k_name, v, font_scale=1.4):\n",
    "    sns.set(font_scale=font_scale, style=\"ticks\", font=\"Arial\")\n",
    "    base = 5.2\n",
    "    basey = 0.22\n",
    "    def get_L(dataset):\n",
    "        dichotomised_df = dichotomised_dfs[dataset]\n",
    "        x = dichotomised_df.loc[family_df[family_df.family_id == k].gene_symbol].dropna().copy()#.T.describe()\n",
    "        x = x[x.sum(axis=1) > 0]\n",
    "        return x.shape[0]\n",
    "    print([get_L(x) for x in v], max([get_L(x) for x in v]))\n",
    "    l_y = basey * max([get_L(x) for x in v])\n",
    "    \n",
    "    l = base*len(v) if len(v) > 1 else base * 0.9\n",
    "    fig, axs = plt.subplots(1,len(v), figsize=(l,l_y))\n",
    "    fig_hist, axs_hist = plt.subplots(1,len(v), figsize=(l,base))\n",
    "    if len(v) == 1:\n",
    "        axs = [axs]\n",
    "        axs_hist = [axs_hist]\n",
    "    for i, dataset in enumerate(v):\n",
    "        df = dfs[dataset]\n",
    "        dichotomised_df = dichotomised_dfs[dataset]\n",
    "        x = dichotomised_df.loc[family_df[family_df.family_id == k].gene_symbol].dropna().copy()#.T.describe()\n",
    "        x = x[x.sum(axis=1) > 0]\n",
    "        \n",
    "        print(dataset,\"Mean ON-cell TPM:\",x.mean().mean())\n",
    "        exp_per_cell = x.sum(axis=0)\n",
    "        \n",
    "        x = x.loc[:, x.sum(axis=0).sort_values().index]\n",
    "        def get_first_index(row):\n",
    "            for i in range(len(row)):\n",
    "                if row.iloc[i] == 1.0:\n",
    "                    return i\n",
    "            return len(row)\n",
    "\n",
    "        x = x.loc[x.apply(get_first_index, axis=1).sort_values().index, :]\n",
    "        sns.heatmap(x,ax=axs[i],xticklabels=False,yticklabels=True, cbar=False, cmap=\"gray_r\", vmin=-0.03, vmax=1.0)#, linewidth=0.1, linecolor=\"grey\")\n",
    "#         sns.heatmap(x.loc[x.sum(axis=1).sort_values().index, x.sum(axis=0).sort_values().index],ax=axs[1,i])\n",
    "        sns.distplot(exp_per_cell, kde=False, ax=axs_hist[i], hist_kws={\"range\": [exp_per_cell.min()-0.5, exp_per_cell.max()+0.5]}, bins=int(exp_per_cell.max() - exp_per_cell.min() + 1), color=\"grey\")\n",
    "        axs[i].title.set_text(\"{} (IC={:.2f})\".format(cell_type_names[dataset], df.loc[k].ic))\n",
    "#         axs[i].set_yticklabels(axs[i].get_yticklabels(), rotation=45)\n",
    "        axs[i].set_ylabel(\"\")\n",
    "        axs_hist[i].set_xlabel(\"Number of ON genes\")\n",
    "        axs_hist[i].title.set_text(\"{} (IC={:.2f})\".format(cell_type_names[dataset], df.loc[k].ic))\n",
    "    fig.subplots_adjust(wspace=0.4)\n",
    "    return x\n",
    "#     plt.show()\n",
    "#     return summary_rows"
   ]
  },
  {
   "cell_type": "code",
   "execution_count": null,
   "metadata": {},
   "outputs": [],
   "source": [
    "def get_genes(k, dataset):\n",
    "    dichotomised_df = dichotomised_dfs[dataset]\n",
    "    x = dichotomised_df.loc[family_df[family_df.family_id == k].gene_symbol].dropna().copy()#.T.describe()\n",
    "    x = x[x.sum(axis=1) > 0]\n",
    "    \n",
    "    x = x.loc[:, x.sum(axis=0).sort_values().index]\n",
    "    def get_first_index(row):\n",
    "        for i in range(len(row)):\n",
    "            if row.iloc[i] == 1.0:\n",
    "                return i\n",
    "        return len(row)\n",
    "\n",
    "    x = x.loc[x.apply(get_first_index, axis=1).sort_values().index, :]\n",
    "    \n",
    "    return x"
   ]
  },
  {
   "cell_type": "code",
   "execution_count": null,
   "metadata": {},
   "outputs": [],
   "source": [
    "x = get_genes(\"PTHR23268\", \"Gaublomme_GSE75111_TPM_clean\")\n",
    "\n",
    "sns.set(font_scale=1.2, style=\"ticks\", font=\"Arial\")\n",
    "plt.figure(figsize=(4.2*0.9, x.shape[0]*0.19))\n",
    "sns.heatmap(x, xticklabels=False,yticklabels=True, cbar=False, cmap=\"gray_r\", vmin=-0.03, vmax=1.0)#, linewidth=0.1, linecolor=\"grey\")\n",
    "ic = dfs[\"Gaublomme_GSE75111_TPM_clean\"].loc[\"PTHR23268\"].ic\n",
    "plt.title(\"{} (IC={:.2f})\".format(cell_type_names[\"Gaublomme_GSE75111_TPM_clean\"], ic))\n",
    "plt.ylabel(\"\")\n",
    "plt.show()\n",
    "\n",
    "sns.set(font_scale=1.4, style=\"ticks\", font=\"Arial\")\n",
    "plt.figure(figsize=(1.2, x.shape[0]*0.19))\n",
    "exp_per_cell = x.sum(axis=0)\n",
    "sns.distplot(exp_per_cell, kde=False, hist_kws={\"range\": [exp_per_cell.min()-0.5, exp_per_cell.max()+0.5]}, bins=int(exp_per_cell.max() - exp_per_cell.min() + 1), color=\"grey\")\n",
    "plt.xlabel(\"Number of ON genes\")\n",
    "plt.xticks(list(range(0,4)))\n",
    "plt.show()"
   ]
  },
  {
   "cell_type": "code",
   "execution_count": null,
   "metadata": {},
   "outputs": [],
   "source": [
    "x = plot_heatmaps(\"PTHR23430\", \"HISTONE H2A (PTHR23430)\", [\"Gaublomme_GSE75111_TPM_clean\", \"hepat_TPM_yang_clean\"])"
   ]
  },
  {
   "cell_type": "code",
   "execution_count": null,
   "metadata": {},
   "outputs": [],
   "source": [
    "x = plot_heatmaps(\"PTHR23268\", \"T-CELL RECEPTOR BETA CHAIN (PTHR23268)\", [\"Gaublomme_GSE75111_TPM_clean\"])"
   ]
  },
  {
   "cell_type": "code",
   "execution_count": null,
   "metadata": {},
   "outputs": [],
   "source": [
    "x = plot_heatmaps(\"PTHR18952\", \"CARBONIC ANHYDRASE (PTHR18952)\", [\"Gaublomme_GSE75111_TPM_clean\", \"somatosensory_converted_into_tpm\", \"hepat_TPM_yang_clean\"], 2.1)"
   ]
  },
  {
   "cell_type": "code",
   "execution_count": null,
   "metadata": {},
   "outputs": [],
   "source": [
    "def get_first_index(row):\n",
    "    for i in range(len(row)):\n",
    "        if row.iloc[i] == 1.0:\n",
    "            return i\n",
    "    return len(row)\n",
    "\n",
    "x.apply(get_first_index, axis=1)"
   ]
  },
  {
   "cell_type": "code",
   "execution_count": null,
   "metadata": {},
   "outputs": [],
   "source": [
    "plot_heatmaps(\"PTHR19443\", \"HEXOKINASE (PTHR19443)\", [\"Cheng_ES_TPM\", \"Yu_First_wave_endocrine_cells\"])"
   ]
  },
  {
   "cell_type": "code",
   "execution_count": null,
   "metadata": {},
   "outputs": [],
   "source": []
  }
 ],
 "metadata": {
  "kernelspec": {
   "display_name": "Python 3.7.4 64-bit ('stochastic': conda)",
   "language": "python",
   "name": "python37464bitstochasticcondad3c784986b534aaebb6b91784b827746"
  },
  "language_info": {
   "codemirror_mode": {
    "name": "ipython",
    "version": 3
   },
   "file_extension": ".py",
   "mimetype": "text/x-python",
   "name": "python",
   "nbconvert_exporter": "python",
   "pygments_lexer": "ipython3",
   "version": "3.7.6"
  }
 },
 "nbformat": 4,
 "nbformat_minor": 4
}
