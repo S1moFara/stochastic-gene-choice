{
 "cells": [
  {
   "cell_type": "code",
   "execution_count": null,
   "metadata": {},
   "outputs": [],
   "source": [
    "import pandas as pd\n",
    "import numpy as np\n",
    "from tqdm import tqdm_notebook\n",
    "tqdm_notebook().pandas()"
   ]
  },
  {
   "cell_type": "code",
   "execution_count": null,
   "metadata": {},
   "outputs": [],
   "source": [
    "from bs4 import BeautifulSoup\n",
    "import requests\n",
    "import time"
   ]
  },
  {
   "cell_type": "code",
   "execution_count": null,
   "metadata": {},
   "outputs": [],
   "source": [
    "panther_names = {}"
   ]
  },
  {
   "cell_type": "code",
   "execution_count": null,
   "metadata": {},
   "outputs": [],
   "source": [
    "def get_panther_name(pantherid):\n",
    "    if pantherid in panther_names.keys():\n",
    "        return panther_names[pantherid];\n",
    "    else: \n",
    "        r = requests.get(\"http://pantherdb.org/panther/family.do?clsAccession={}\".format(pantherid))\n",
    "        soup = BeautifulSoup(r.text, 'html.parser')\n",
    "        family_name = soup.find(id=\"mainBody\").table.tr.find(\"td\",class_=\"mainText\").text.strip()\n",
    "        panther_names[pantherid] = family_name\n",
    "        time.sleep(1)\n",
    "        return family_name"
   ]
  },
  {
   "cell_type": "code",
   "execution_count": null,
   "metadata": {},
   "outputs": [],
   "source": [
    "panther_names"
   ]
  },
  {
   "cell_type": "code",
   "execution_count": null,
   "metadata": {},
   "outputs": [],
   "source": [
    "datasets = [\n",
    "    (\"Gaublomme_GSE75109_TPM_clean\", \"clean_panther4march\",\"geomean\"),\n",
    "    (\"Gaublomme_GSE75110_TPM_clean\",\"clean_panther4march\",\"geomean\"),\n",
    "    (\"Gaublomme_GSE75111_TPM_clean\",\"clean_panther4march\",\"geomean\"),\n",
    "#     \"somatosensory_rpkm_suppl\",\n",
    "    (\"kakadarov_tpm\",\"clean_panther4march\",\"geomean\"),\n",
    "    (\"somatosensory_converted_into_tpm\",\"clean_panther4march\",\"geomean\"),\n",
    "    (\"Dopaminergic_TPM_clean\",\"clean_panther4march\",\"geomean\"),\n",
    "    (\"Rbp4_positive_cells\",\"clean_panther4march\",\"geomean\"),\n",
    "    (\"Cheng_ES_TPM\",\"clean_panther4march\",\"geomean\"),\n",
    "    (\"Alveolar_cells_Type_II_Merged_Batches\",\"clean_panther4march\",\"3max\"),\n",
    "    (\"Alveolar_cells_Type_I_Merged_Batches\",\"clean_panther4march\",\"3max\"),\n",
    "#     (\"Alveolar_cells_both_types\",\"clean_panther4march\",\"3max\"),\n",
    "    (\"klein\",\"clean_panther4march\",\"3max\"),\n",
    "    (\"hepat_TPM_yang_clean\",\"clean_panther4march\",\"geomean\"),\n",
    "    (\"Yu_First_wave_endocrine_cells\",\"clean_panther4march\",\"geomean\"),\n",
    "#     (\"lcl_european\",\"HGNC_families\"),\n",
    "#     (\"lcl_african\",\"HGNC_families\"),\n",
    "#     (\"cd4_zheng\",\"HGNC_families\"),\n",
    "]\n",
    "\n",
    "\n",
    "\n",
    "family_to_gene = pd.concat([\n",
    "    pd.read_csv(\"clean_panther4march.csv\", index_col=\"family_id\"),\n",
    "    pd.read_csv(\"HGNC_families.csv\", index_col=\"family_id\")\n",
    "], sort=False)"
   ]
  },
  {
   "cell_type": "code",
   "execution_count": null,
   "metadata": {},
   "outputs": [],
   "source": [
    "# family_to_gene.loc[1492.0]"
   ]
  },
  {
   "cell_type": "code",
   "execution_count": null,
   "metadata": {},
   "outputs": [],
   "source": [
    "# pd.options.display.max_colwidth = 1000\n",
    "pd.options.display.max_seq_items = 25"
   ]
  },
  {
   "cell_type": "markdown",
   "metadata": {},
   "source": [
    "# Family-wise\n",
    "\n",
    "* T-cell receptor beta-chain is present in all three Gaublomme sets (exclusive)\n",
    "* Multiple histone families are conserved in all three Gaublomme sets (co-occurrent)\n",
    "* Pcdh-clustered family is not shown as conserved (it is not exclusive in somatosensory and dopaminergic)\n",
    "* A lot of Zinc finger proteins are conserved between all datasets (co-occurrent)"
   ]
  },
  {
   "cell_type": "code",
   "execution_count": null,
   "metadata": {},
   "outputs": [],
   "source": [
    "family_dfs = {x: pd.read_csv(\"{}/{}/results/family_IC.csv\".format(x,y), index_col=\"family_id\").dropna() for x, y, _ in datasets}"
   ]
  },
  {
   "cell_type": "code",
   "execution_count": null,
   "metadata": {},
   "outputs": [],
   "source": [
    "def get_lower(df):\n",
    "    return df[df.ic <= df.ic.quantile(0.025)].index.values\n",
    "\n",
    "def get_upper(df):\n",
    "    return df[df.ic >= df.ic.quantile(0.975)].index.values\n",
    "\n",
    "def get_intersection(l1, l2):\n",
    "    return set(l1).intersection(l2)"
   ]
  },
  {
   "cell_type": "code",
   "execution_count": null,
   "metadata": {},
   "outputs": [],
   "source": [
    "dataset_names = [x[0] for x in datasets]"
   ]
  },
  {
   "cell_type": "code",
   "execution_count": null,
   "metadata": {},
   "outputs": [],
   "source": [
    "# Overlap display formaters\n",
    "def format_family_names(x):\n",
    "    if x is None or len(x) == 0:\n",
    "        return \"\"\n",
    "    _x = list(x.copy())\n",
    "    s = \"\\n\".join(_x[:10])\n",
    "    if(len(_x) > 10):\n",
    "        s += \"\\n+{} families\".format(len(_x)-10)\n",
    "    return s\n",
    "\n",
    "def format_gene_names(x):\n",
    "    if x is None or len(x) == 0:\n",
    "        return \"\"\n",
    "    \n",
    "    s = \"\"\n",
    "    for genes in x[:5]:\n",
    "        genes_s = \",\".join(genes[:5])\n",
    "        if (len(genes) > 5):\n",
    "            genes_s += \" +{} genes\".format(len(genes)-5)\n",
    "        s += genes_s + \"\\n\"\n",
    "    if(len(x) > 5):\n",
    "        s += \"+{} families\".format(len(x)-5)\n",
    "    return s.strip()\n",
    "    "
   ]
  },
  {
   "cell_type": "code",
   "execution_count": null,
   "metadata": {},
   "outputs": [],
   "source": [
    "family_overlap_lower = pd.DataFrame([[None if x == y else get_intersection(get_lower(family_dfs[x]),get_lower(family_dfs[y])) for y, _, _ in datasets] for x, _, _ in datasets], index=dataset_names, columns=dataset_names)"
   ]
  },
  {
   "cell_type": "code",
   "execution_count": null,
   "metadata": {},
   "outputs": [],
   "source": [
    "pd.options.display.max_colwidth = 1000\n",
    "pd.options.display.max_seq_items = 5\n",
    "writer = pd.ExcelWriter(\"overlap_family_lower.xlsx\")\n",
    "# display(family_overlap_lower.applymap(lambda x: \"\" if x is None else \",\".join(list(x))))\n",
    "family_overlap_lower.applymap(lambda x: \"\" if x is None else \",\".join(list(x))).to_csv(\"overlap_family_lower_raw.csv\")\n",
    "display(family_overlap_lower.applymap(format_family_names))\n",
    "display(family_overlap_lower.progress_applymap(lambda x: [get_panther_name(_x) for _x in x] if x is not None else None).applymap(format_family_names))\n",
    "display(family_overlap_lower.progress_applymap(lambda x: [family_to_gene.loc[np.int(family) if isinstance(family, np.float64) else family].gene_symbol for family in x] if x is not None else []).applymap(format_gene_names))\n",
    "display(family_overlap_lower.progress_applymap(lambda x: len(x) if x is not None else np.nan))\n",
    "\n",
    "family_overlap_lower.applymap(format_family_names).to_excel(writer,\"by IDs\")\n",
    "family_overlap_lower.applymap(lambda x: [get_panther_name(_x) for _x in x] if x is not None else None).applymap(format_family_names).to_excel(writer,\"by family names\")\n",
    "family_overlap_lower.applymap(lambda x: [family_to_gene.loc[np.int(family) if isinstance(family, np.float64) else family].gene_symbol for family in x] if x is not None else []).applymap(format_gene_names).to_excel(writer,\"by genes\")\n",
    "family_overlap_lower.applymap(lambda x: len(x) if x is not None else np.nan).to_excel(writer,\"count by families\")\n",
    "writer.save()"
   ]
  },
  {
   "cell_type": "code",
   "execution_count": null,
   "metadata": {},
   "outputs": [],
   "source": [
    "family_overlap_upper = pd.DataFrame([[None if x == y else get_intersection(get_upper(family_dfs[x]),get_upper(family_dfs[y])) for y, _, _ in datasets] for x, _, _ in datasets], index=dataset_names, columns=dataset_names)"
   ]
  },
  {
   "cell_type": "code",
   "execution_count": null,
   "metadata": {},
   "outputs": [],
   "source": [
    "pd.options.display.max_colwidth = 1000\n",
    "pd.options.display.max_seq_items = 5\n",
    "writer = pd.ExcelWriter(\"overlap_family_upper.xlsx\")\n",
    "display(family_overlap_upper.applymap(format_family_names))\n",
    "display(family_overlap_upper.progress_applymap(lambda x: [get_panther_name(_x) for _x in x] if x is not None else None).applymap(format_family_names))\n",
    "display(family_overlap_upper.progress_applymap(lambda x: [family_to_gene.loc[np.int(family) if isinstance(family, np.float64) else family].gene_symbol for family in x] if x is not None else []).applymap(format_gene_names))\n",
    "display(family_overlap_upper.progress_applymap(lambda x: len(x) if x is not None else np.nan))\n",
    "\n",
    "family_overlap_upper.applymap(format_family_names).to_excel(writer,\"by IDs\")\n",
    "family_overlap_upper.applymap(lambda x: [get_panther_name(_x) for _x in x] if x is not None else None).applymap(format_family_names).to_excel(writer,\"by family names\")\n",
    "family_overlap_upper.applymap(lambda x: [family_to_gene.loc[np.int(family) if isinstance(family, np.float64) else family].gene_symbol for family in x] if x is not None else []).applymap(format_gene_names).to_excel(writer,\"by genes\")\n",
    "family_overlap_upper.applymap(lambda x: len(x) if x is not None else np.nan).to_excel(writer,\"count by families\")\n",
    "writer.save()"
   ]
  },
  {
   "cell_type": "code",
   "execution_count": null,
   "metadata": {},
   "outputs": [],
   "source": [
    "# print(\"Pcdh clustered, IC vs. 2.5 percentile\")\n",
    "# display(\"somatosensory_converted_into_tpm\")\n",
    "# display(family_dfs[\"somatosensory_converted_into_tpm\"].loc[\"PTHR24028_clustered\"].ic)\n",
    "# display(family_dfs[\"somatosensory_converted_into_tpm\"].ic.quantile(0.025))\n",
    "\n",
    "# # display(\"somatosensory_rpkm_suppl\")\n",
    "# # display(family_dfs[\"somatosensory_rpkm_suppl\"].loc[\"PTHR24028_clustered\"].ic)\n",
    "# # display(family_dfs[\"somatosensory_rpkm_suppl\"].ic.quantile(0.025))\n",
    "\n",
    "# display(\"dopaminergic\")\n",
    "# display(family_dfs[\"dopaminergic\"].loc[\"PTHR24028_clustered\"].ic)\n",
    "# display(family_dfs[\"dopaminergic\"].ic.quantile(0.025))\n",
    "\n",
    "# display(\"Rbp4_positive_cells\")\n",
    "# display(family_dfs[\"Rbp4_positive_cells\"].loc[\"PTHR24028_clustered\"].ic)\n",
    "# display(family_dfs[\"Rbp4_positive_cells\"].ic.quantile(0.025))"
   ]
  },
  {
   "cell_type": "markdown",
   "metadata": {},
   "source": [
    "# Chromosome-wise\n",
    "\n",
    "* Some Pcdh stretches are overlapping between different sets of neurons (exclusive)\n",
    "* The highest overlap of the co-occurrent in Gaublomme sets (majorly comprised of histone genes) "
   ]
  },
  {
   "cell_type": "code",
   "execution_count": null,
   "metadata": {},
   "outputs": [],
   "source": [
    "from tqdm import tqdm_notebook "
   ]
  },
  {
   "cell_type": "code",
   "execution_count": null,
   "metadata": {},
   "outputs": [],
   "source": [
    "chr_names = list(range(1,20)) + [\"X\", \"Y\"]\n",
    "chrs = {x: pd.read_csv(\"somatosensory_converted_into_tpm/intermediate/chr{}_filtered.csv\".format(x)) for x in chr_names}"
   ]
  },
  {
   "cell_type": "code",
   "execution_count": null,
   "metadata": {},
   "outputs": [],
   "source": [
    "def load_chromosome_wise(dataset, dich_type):\n",
    "#     dich_type = \"geomean\"\n",
    "    chr_names = list(range(1,20)) + [\"X\", \"Y\"]\n",
    "    ic_dfs = [pd.read_csv(\"{}/results/{}/stage1_chr{}_IC.csv\".format(dataset,dich_type,x)) for x in chr_names]\n",
    "    chrs = {x: pd.read_csv(\"{}/intermediate/chr{}_filtered.csv\".format(dataset, x)) for x in chr_names}\n",
    "    filtered_genes = pd.read_csv(\"{}/intermediate/{}/filtered_dichotomised_genes.csv\".format(dataset, dich_type))\n",
    "    for i, name in zip(range(len(ic_dfs)), chr_names):\n",
    "        ic_dfs[i].loc[:,\"chromosome\"] = name\n",
    "\n",
    "    ic_df = pd.concat(ic_dfs, sort=False).reset_index(drop=True)\n",
    "    return ic_df[ic_df.n_genes >= ic_df.stretch * 6 / 7]"
   ]
  },
  {
   "cell_type": "code",
   "execution_count": null,
   "metadata": {},
   "outputs": [],
   "source": [
    "def get_genes(start, end, chromosome):\n",
    "    return chrs[chromosome].loc[start:end, \"Name\"].values\n",
    "\n",
    "def get_all_genes(l):\n",
    "    if l is None:\n",
    "        return set()\n",
    "    return sorted(set(np.concatenate([get_genes(*x) for x in l])))"
   ]
  },
  {
   "cell_type": "code",
   "execution_count": null,
   "metadata": {},
   "outputs": [],
   "source": [
    "chromosome_dfs = {x: load_chromosome_wise(x, dich_type) for x, _, dich_type in tqdm_notebook(datasets)}"
   ]
  },
  {
   "cell_type": "code",
   "execution_count": null,
   "metadata": {},
   "outputs": [],
   "source": [
    "chromosome_dfs[\"Gaublomme_GSE75109_TPM_clean\"]"
   ]
  },
  {
   "cell_type": "code",
   "execution_count": null,
   "metadata": {},
   "outputs": [],
   "source": [
    "def get_lower(df):\n",
    "#     print(df[df.ic <= df.ic.quantile(0.025)].shape[0])\n",
    "    slices = []\n",
    "    for stretch in [7, 14, 21]:\n",
    "        _slice = df[df.stretch == stretch]\n",
    "#         print(_slice[_slice.ic <= _slice.ic.quantile(0.025)].shape[0])\n",
    "        slices += [_slice[_slice.ic <= _slice.ic.quantile(0.025)]]\n",
    "    return pd.concat(slices).loc[:, [\"start\", \"end\", \"chromosome\"]].values\n",
    "\n",
    "def get_upper(df):\n",
    "    slices = []\n",
    "    for stretch in [7, 14, 21]:\n",
    "        _slice = df[df.stretch == stretch]\n",
    "        slices += [_slice[_slice.ic >= _slice.ic.quantile(0.975)]]\n",
    "    return pd.concat(slices).loc[:, [\"start\", \"end\", \"chromosome\"]].values\n",
    "\n",
    "def get_intersection(l1, l2):\n",
    "    intersection = []\n",
    "    for x in l1:\n",
    "        for y in l2:\n",
    "            if np.all(x == y):\n",
    "                intersection += [x]\n",
    "    if len(intersection) == 0:\n",
    "        return None\n",
    "    return np.stack(intersection)\n"
   ]
  },
  {
   "cell_type": "code",
   "execution_count": null,
   "metadata": {},
   "outputs": [],
   "source": [
    "dataset_names = [x for x, _, _ in datasets]"
   ]
  },
  {
   "cell_type": "code",
   "execution_count": null,
   "metadata": {},
   "outputs": [],
   "source": [
    "chromosome_overlap_lower = pd.DataFrame([[None if x == y else get_intersection(get_lower(chromosome_dfs[x]),get_lower(chromosome_dfs[y])) for y in dataset_names] for x in dataset_names], index=dataset_names, columns=dataset_names)"
   ]
  },
  {
   "cell_type": "code",
   "execution_count": null,
   "metadata": {},
   "outputs": [],
   "source": [
    "def format_stretches(x):\n",
    "    if x is None or len(x) == 0:\n",
    "        return \"\"\n",
    "    _x = list(x.copy())\n",
    "    s = \"\\n\".join([str(__x) for __x in _x[:5]])\n",
    "    if(len(_x) > 5):\n",
    "        s += \"\\n+{} stretches\".format(len(_x)-5)\n",
    "    return s\n",
    "\n",
    "def format_stretch_genes(x):\n",
    "    if x is None or len(x) == 0:\n",
    "        return \"\"\n",
    "    _x = list(x.copy())\n",
    "    s = \"\\n\".join([str(__x) for __x in _x[:25]])\n",
    "    if(len(_x) > 25):\n",
    "        s += \"\\n+{} genes\".format(len(_x)-25)\n",
    "    return s\n"
   ]
  },
  {
   "cell_type": "code",
   "execution_count": null,
   "metadata": {},
   "outputs": [],
   "source": [
    "import pickle\n",
    "with open(\"overlap_chromosome_lower_raw.pickle\", \"wb\") as f:\n",
    "    pickle.dump(chromosome_overlap_lower, f)\n",
    "\n",
    "writer = pd.ExcelWriter(\"overlap_chromosome_lower.xlsx\")\n",
    "chromosome_overlap_lower.applymap(get_all_genes).applymap(format_stretch_genes).to_excel(writer,\"by genes\")\n",
    "chromosome_overlap_lower.applymap(lambda x: len(x) if x is not None else np.nan).to_excel(writer,\"by count (stretches)\")\n",
    "chromosome_overlap_lower.applymap(get_all_genes).applymap(lambda x: len(x) if x is not None else np.nan).to_excel(writer,\"by count (genes)\")\n",
    "chromosome_overlap_lower.applymap(format_stretches).to_excel(writer,\"by locations\")\n",
    "writer.save()"
   ]
  },
  {
   "cell_type": "code",
   "execution_count": null,
   "metadata": {},
   "outputs": [],
   "source": [
    "chromosome_overlap_lower.applymap(format_stretches)"
   ]
  },
  {
   "cell_type": "code",
   "execution_count": null,
   "metadata": {},
   "outputs": [],
   "source": [
    "for _x in range(chromosome_overlap_lower.shape[0]):\n",
    "    for _y in range(chromosome_overlap_lower.shape[1]):\n",
    "        x = (chromosome_overlap_lower.iloc[_x,_y])\n",
    "        if x is None:\n",
    "            continue\n",
    "        x = pd.DataFrame(np.hstack([x, np.reshape(x[:,1] - x[:,0], (-1,1))]), columns=[\"a\", \"b\", \"chr\", \"size\"])\n",
    "        x = x.sort_values(\"size\", ascending=False)\n",
    "        for i in range(x.shape[0]):\n",
    "            y = x.iloc[i]\n",
    "            z = x.loc[(x.chr == y.chr) & (x.a <= y.a) & (x.b >= y.b) & (x.size < y.size)]\n",
    "            if(z.shape[0] != 0):\n",
    "                print(_x,_y,i)\n",
    "                print(z)\n",
    "                break"
   ]
  },
  {
   "cell_type": "code",
   "execution_count": null,
   "metadata": {},
   "outputs": [],
   "source": [
    "\n",
    "chromosome_overlap_lower.applymap(get_all_genes).applymap(format_stretch_genes)"
   ]
  },
  {
   "cell_type": "code",
   "execution_count": null,
   "metadata": {},
   "outputs": [],
   "source": [
    "chromosome_overlap_lower.applymap(lambda x: len(x) if x is not None else np.nan)"
   ]
  },
  {
   "cell_type": "code",
   "execution_count": null,
   "metadata": {},
   "outputs": [],
   "source": [
    "chromosome_overlap_upper = pd.DataFrame([[None if x == y else get_intersection(get_upper(chromosome_dfs[x]),get_upper(chromosome_dfs[y])) for y in dataset_names] for x in dataset_names], index=dataset_names, columns=dataset_names)"
   ]
  },
  {
   "cell_type": "code",
   "execution_count": null,
   "metadata": {},
   "outputs": [],
   "source": [
    "writer = pd.ExcelWriter(\"overlap_chromosome_upper.xlsx\")\n",
    "chromosome_overlap_upper.applymap(get_all_genes).applymap(format_stretch_genes).to_excel(writer,\"by genes\")\n",
    "chromosome_overlap_upper.applymap(lambda x: len(x) if x is not None else np.nan).to_excel(writer,\"by count (stretches)\")\n",
    "chromosome_overlap_upper.applymap(get_all_genes).applymap(lambda x: len(x) if x is not None else np.nan).to_excel(writer,\"by count (genes)\")\n",
    "chromosome_overlap_upper.applymap(format_stretches).to_excel(writer,\"by locations\")\n",
    "writer.save()"
   ]
  },
  {
   "cell_type": "code",
   "execution_count": null,
   "metadata": {},
   "outputs": [],
   "source": [
    "# pd.options.display.max_colwidth = 1000\n",
    "pd.options.display.max_seq_items = 100\n",
    "chromosome_overlap_upper.applymap(get_all_genes)"
   ]
  },
  {
   "cell_type": "code",
   "execution_count": null,
   "metadata": {},
   "outputs": [],
   "source": [
    "chromosome_overlap_upper.applymap(lambda x: len(x) if x is not None else np.nan)"
   ]
  }
 ],
 "metadata": {
  "kernelspec": {
   "display_name": "Python 3.7.4 64-bit ('stochastic': conda)",
   "language": "python",
   "name": "python37464bitstochasticcondad3c784986b534aaebb6b91784b827746"
  },
  "language_info": {
   "codemirror_mode": {
    "name": "ipython",
    "version": 3
   },
   "file_extension": ".py",
   "mimetype": "text/x-python",
   "name": "python",
   "nbconvert_exporter": "python",
   "pygments_lexer": "ipython3",
   "version": "3.7.6"
  }
 },
 "nbformat": 4,
 "nbformat_minor": 2
}
