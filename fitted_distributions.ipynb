{
 "cells": [
  {
   "cell_type": "code",
   "execution_count": 1,
   "metadata": {},
   "outputs": [],
   "source": [
    "import pandas as pd\n",
    "import numpy as np"
   ]
  },
  {
   "cell_type": "code",
   "execution_count": 2,
   "metadata": {},
   "outputs": [],
   "source": [
    "dataset = \"Alveolar_cells_Type_II_Merged_Batches\"\n",
    "df = pd.read_csv(\"{}/mathematica/mathematica_results.csv\".format(dataset))"
   ]
  },
  {
   "cell_type": "code",
   "execution_count": 3,
   "metadata": {},
   "outputs": [],
   "source": [
    "df.thresholds[df.thresholds.str.startswith(\"\\\"\\\"\")] = np.nan\n",
    "df.loc[df.thresholds == \"NotFound\", \"thresholds\"] = np.nan"
   ]
  },
  {
   "cell_type": "code",
   "execution_count": 4,
   "metadata": {},
   "outputs": [],
   "source": [
    "df.thresholds = df.thresholds.astype(\"float\")"
   ]
  },
  {
   "cell_type": "code",
   "execution_count": 5,
   "metadata": {},
   "outputs": [
    {
     "data": {
      "text/html": [
       "<div>\n",
       "<style scoped>\n",
       "    .dataframe tbody tr th:only-of-type {\n",
       "        vertical-align: middle;\n",
       "    }\n",
       "\n",
       "    .dataframe tbody tr th {\n",
       "        vertical-align: top;\n",
       "    }\n",
       "\n",
       "    .dataframe thead th {\n",
       "        text-align: right;\n",
       "    }\n",
       "</style>\n",
       "<table border=\"1\" class=\"dataframe\">\n",
       "  <thead>\n",
       "    <tr style=\"text-align: right;\">\n",
       "      <th></th>\n",
       "      <th>Unnamed: 0</th>\n",
       "      <th>distribution</th>\n",
       "      <th>antimode</th>\n",
       "      <th>thresholds</th>\n",
       "    </tr>\n",
       "  </thead>\n",
       "  <tbody>\n",
       "    <tr>\n",
       "      <th>0</th>\n",
       "      <td>0610005C13Rik</td>\n",
       "      <td>PoissonDistribution[0.0012091898428053204]</td>\n",
       "      <td>NotMixture</td>\n",
       "      <td>NaN</td>\n",
       "    </tr>\n",
       "    <tr>\n",
       "      <th>1</th>\n",
       "      <td>0610007N19Rik</td>\n",
       "      <td>WaringYuleDistribution[9.023527549978395]</td>\n",
       "      <td>NotMixture</td>\n",
       "      <td>NaN</td>\n",
       "    </tr>\n",
       "    <tr>\n",
       "      <th>2</th>\n",
       "      <td>0610007P14Rik</td>\n",
       "      <td>WaringYuleDistribution[7.155166729336329]</td>\n",
       "      <td>NotMixture</td>\n",
       "      <td>NaN</td>\n",
       "    </tr>\n",
       "    <tr>\n",
       "      <th>3</th>\n",
       "      <td>0610008F07Rik</td>\n",
       "      <td>WaringYuleDistribution[414.50480192076844]</td>\n",
       "      <td>NotMixture</td>\n",
       "      <td>NaN</td>\n",
       "    </tr>\n",
       "    <tr>\n",
       "      <th>4</th>\n",
       "      <td>0610009B14Rik</td>\n",
       "      <td>GeometricDistribution[0.9892344497607655]</td>\n",
       "      <td>NotMixture</td>\n",
       "      <td>NaN</td>\n",
       "    </tr>\n",
       "    <tr>\n",
       "      <th>...</th>\n",
       "      <td>...</td>\n",
       "      <td>...</td>\n",
       "      <td>...</td>\n",
       "      <td>...</td>\n",
       "    </tr>\n",
       "    <tr>\n",
       "      <th>22439</th>\n",
       "      <td>n-R5s33</td>\n",
       "      <td>PoissonDistribution[0.0012091898428053204]</td>\n",
       "      <td>NotMixture</td>\n",
       "      <td>NaN</td>\n",
       "    </tr>\n",
       "    <tr>\n",
       "      <th>22440</th>\n",
       "      <td>n-R5s62</td>\n",
       "      <td>WaringYuleDistribution[414.50480192076844]</td>\n",
       "      <td>NotMixture</td>\n",
       "      <td>NaN</td>\n",
       "    </tr>\n",
       "    <tr>\n",
       "      <th>22441</th>\n",
       "      <td>n-R5s76</td>\n",
       "      <td>PoissonDistribution[0.015719467956469165]</td>\n",
       "      <td>NotMixture</td>\n",
       "      <td>NaN</td>\n",
       "    </tr>\n",
       "    <tr>\n",
       "      <th>22442</th>\n",
       "      <td>n-R5s89</td>\n",
       "      <td>PoissonDistribution[0.0012091898428053204]</td>\n",
       "      <td>NotMixture</td>\n",
       "      <td>NaN</td>\n",
       "    </tr>\n",
       "    <tr>\n",
       "      <th>22443</th>\n",
       "      <td>n-R5s96</td>\n",
       "      <td>WaringYuleDistribution[414.50480192076844]</td>\n",
       "      <td>NotMixture</td>\n",
       "      <td>NaN</td>\n",
       "    </tr>\n",
       "  </tbody>\n",
       "</table>\n",
       "<p>22444 rows × 4 columns</p>\n",
       "</div>"
      ],
      "text/plain": [
       "          Unnamed: 0                                distribution    antimode  \\\n",
       "0      0610005C13Rik  PoissonDistribution[0.0012091898428053204]  NotMixture   \n",
       "1      0610007N19Rik   WaringYuleDistribution[9.023527549978395]  NotMixture   \n",
       "2      0610007P14Rik   WaringYuleDistribution[7.155166729336329]  NotMixture   \n",
       "3      0610008F07Rik  WaringYuleDistribution[414.50480192076844]  NotMixture   \n",
       "4      0610009B14Rik   GeometricDistribution[0.9892344497607655]  NotMixture   \n",
       "...              ...                                         ...         ...   \n",
       "22439        n-R5s33  PoissonDistribution[0.0012091898428053204]  NotMixture   \n",
       "22440        n-R5s62  WaringYuleDistribution[414.50480192076844]  NotMixture   \n",
       "22441        n-R5s76   PoissonDistribution[0.015719467956469165]  NotMixture   \n",
       "22442        n-R5s89  PoissonDistribution[0.0012091898428053204]  NotMixture   \n",
       "22443        n-R5s96  WaringYuleDistribution[414.50480192076844]  NotMixture   \n",
       "\n",
       "       thresholds  \n",
       "0             NaN  \n",
       "1             NaN  \n",
       "2             NaN  \n",
       "3             NaN  \n",
       "4             NaN  \n",
       "...           ...  \n",
       "22439         NaN  \n",
       "22440         NaN  \n",
       "22441         NaN  \n",
       "22442         NaN  \n",
       "22443         NaN  \n",
       "\n",
       "[22444 rows x 4 columns]"
      ]
     },
     "execution_count": 5,
     "metadata": {},
     "output_type": "execute_result"
    }
   ],
   "source": [
    "df"
   ]
  },
  {
   "cell_type": "code",
   "execution_count": 6,
   "metadata": {},
   "outputs": [
    {
     "data": {
      "text/html": [
       "<div>\n",
       "<style scoped>\n",
       "    .dataframe tbody tr th:only-of-type {\n",
       "        vertical-align: middle;\n",
       "    }\n",
       "\n",
       "    .dataframe tbody tr th {\n",
       "        vertical-align: top;\n",
       "    }\n",
       "\n",
       "    .dataframe thead th {\n",
       "        text-align: right;\n",
       "    }\n",
       "</style>\n",
       "<table border=\"1\" class=\"dataframe\">\n",
       "  <thead>\n",
       "    <tr style=\"text-align: right;\">\n",
       "      <th></th>\n",
       "      <th>Unnamed: 0</th>\n",
       "      <th>distribution</th>\n",
       "      <th>antimode</th>\n",
       "      <th>thresholds</th>\n",
       "    </tr>\n",
       "  </thead>\n",
       "  <tbody>\n",
       "    <tr>\n",
       "      <th>1421</th>\n",
       "      <td>AC167036.1</td>\n",
       "      <td>MixtureDistribution[{0.5401414786859126, 0.459...</td>\n",
       "      <td>ContainsLogSeries</td>\n",
       "      <td>NaN</td>\n",
       "    </tr>\n",
       "    <tr>\n",
       "      <th>1685</th>\n",
       "      <td>Actb</td>\n",
       "      <td>MixtureDistribution[{0.7862016944879495, 0.213...</td>\n",
       "      <td>{{{x -&gt; 4.228966969927115}, \"Mode\"}}</td>\n",
       "      <td>NaN</td>\n",
       "    </tr>\n",
       "    <tr>\n",
       "      <th>2327</th>\n",
       "      <td>Areg</td>\n",
       "      <td>MixtureDistribution[{0.9079494816088617, 0.092...</td>\n",
       "      <td>{}</td>\n",
       "      <td>NaN</td>\n",
       "    </tr>\n",
       "    <tr>\n",
       "      <th>2572</th>\n",
       "      <td>Atf3</td>\n",
       "      <td>MixtureDistribution[{0.9306350111748624, 0.069...</td>\n",
       "      <td>{{{x -&gt; 2.377795257297313}, \"Antimode\"}, {{x -...</td>\n",
       "      <td>2.377795</td>\n",
       "    </tr>\n",
       "    <tr>\n",
       "      <th>2624</th>\n",
       "      <td>Atp1b1</td>\n",
       "      <td>MixtureDistribution[{0.6880458791436712, 0.311...</td>\n",
       "      <td>{{{x -&gt; 3.67322947511148}, \"Mode\"}}</td>\n",
       "      <td>NaN</td>\n",
       "    </tr>\n",
       "    <tr>\n",
       "      <th>...</th>\n",
       "      <td>...</td>\n",
       "      <td>...</td>\n",
       "      <td>...</td>\n",
       "      <td>...</td>\n",
       "    </tr>\n",
       "    <tr>\n",
       "      <th>22386</th>\n",
       "      <td>mt-Co1</td>\n",
       "      <td>MixtureDistribution[{0.866332348989702, 0.1336...</td>\n",
       "      <td>{{{x -&gt; 7.371478372337116}, \"Mode\"}}</td>\n",
       "      <td>NaN</td>\n",
       "    </tr>\n",
       "    <tr>\n",
       "      <th>22387</th>\n",
       "      <td>mt-Co2</td>\n",
       "      <td>MixtureDistribution[{0.7071574673807035, 0.292...</td>\n",
       "      <td>{{{x -&gt; 1.4545536850874003}, \"Mode\"}}</td>\n",
       "      <td>NaN</td>\n",
       "    </tr>\n",
       "    <tr>\n",
       "      <th>22388</th>\n",
       "      <td>mt-Co3</td>\n",
       "      <td>MixtureDistribution[{0.8886651607909138, 0.111...</td>\n",
       "      <td>{{{x -&gt; 3.000909731311978}, \"Mode\"}}</td>\n",
       "      <td>NaN</td>\n",
       "    </tr>\n",
       "    <tr>\n",
       "      <th>22397</th>\n",
       "      <td>mt-Rnr1</td>\n",
       "      <td>MixtureDistribution[{0.817240494667062, 0.1827...</td>\n",
       "      <td>{{{x -&gt; 0.3399707826380639}, \"Mode\"}}</td>\n",
       "      <td>NaN</td>\n",
       "    </tr>\n",
       "    <tr>\n",
       "      <th>22398</th>\n",
       "      <td>mt-Rnr2</td>\n",
       "      <td>MixtureDistribution[{0.5626027487000401, 0.437...</td>\n",
       "      <td>{{{x -&gt; 59.72755215954949}, \"Mode\"}}</td>\n",
       "      <td>NaN</td>\n",
       "    </tr>\n",
       "  </tbody>\n",
       "</table>\n",
       "<p>145 rows × 4 columns</p>\n",
       "</div>"
      ],
      "text/plain": [
       "       Unnamed: 0                                       distribution  \\\n",
       "1421   AC167036.1  MixtureDistribution[{0.5401414786859126, 0.459...   \n",
       "1685         Actb  MixtureDistribution[{0.7862016944879495, 0.213...   \n",
       "2327         Areg  MixtureDistribution[{0.9079494816088617, 0.092...   \n",
       "2572         Atf3  MixtureDistribution[{0.9306350111748624, 0.069...   \n",
       "2624       Atp1b1  MixtureDistribution[{0.6880458791436712, 0.311...   \n",
       "...           ...                                                ...   \n",
       "22386      mt-Co1  MixtureDistribution[{0.866332348989702, 0.1336...   \n",
       "22387      mt-Co2  MixtureDistribution[{0.7071574673807035, 0.292...   \n",
       "22388      mt-Co3  MixtureDistribution[{0.8886651607909138, 0.111...   \n",
       "22397     mt-Rnr1  MixtureDistribution[{0.817240494667062, 0.1827...   \n",
       "22398     mt-Rnr2  MixtureDistribution[{0.5626027487000401, 0.437...   \n",
       "\n",
       "                                                antimode  thresholds  \n",
       "1421                                   ContainsLogSeries         NaN  \n",
       "1685                {{{x -> 4.228966969927115}, \"Mode\"}}         NaN  \n",
       "2327                                                  {}         NaN  \n",
       "2572   {{{x -> 2.377795257297313}, \"Antimode\"}, {{x -...    2.377795  \n",
       "2624                 {{{x -> 3.67322947511148}, \"Mode\"}}         NaN  \n",
       "...                                                  ...         ...  \n",
       "22386               {{{x -> 7.371478372337116}, \"Mode\"}}         NaN  \n",
       "22387              {{{x -> 1.4545536850874003}, \"Mode\"}}         NaN  \n",
       "22388               {{{x -> 3.000909731311978}, \"Mode\"}}         NaN  \n",
       "22397              {{{x -> 0.3399707826380639}, \"Mode\"}}         NaN  \n",
       "22398               {{{x -> 59.72755215954949}, \"Mode\"}}         NaN  \n",
       "\n",
       "[145 rows x 4 columns]"
      ]
     },
     "execution_count": 6,
     "metadata": {},
     "output_type": "execute_result"
    }
   ],
   "source": [
    "df[~df.antimode.str.contains(\"Mixture\")]"
   ]
  },
  {
   "cell_type": "code",
   "execution_count": 7,
   "metadata": {},
   "outputs": [
    {
     "name": "stdout",
     "output_type": "stream",
     "text": [
      "Total genes considered: 22444\n",
      "SystemException: 0\n",
      "Not Mixtures: 22299\n",
      "Contains Laplace: 0\n",
      "Contains Zipf: 26\n",
      "Contains Uniform: 1\n",
      "Contains Benford: 0\n",
      "Contains LogSeries: 15\n",
      "Hand Removed: 0\n",
      "Antimode Found: 3\n",
      "Antimode Found < 0.5: 0\n"
     ]
    }
   ],
   "source": [
    "print(\"Total genes considered:\",df.shape[0])\n",
    "print(\"SystemException:\",df[df.distribution == \"-1\"].shape[0])\n",
    "print(\"Not Mixtures:\",df[df.antimode.str.contains(\"Mixture\")].shape[0])\n",
    "print(\"Contains Laplace:\",df[df.antimode.str.contains(\"Lapla\")].shape[0])\n",
    "print(\"Contains Zipf:\",df[df.antimode.str.contains(\"Zipf\")].shape[0])\n",
    "print(\"Contains Uniform:\",df[df.antimode.str.contains(\"Uniform\")].shape[0])\n",
    "print(\"Contains Benford:\",df[df.antimode.str.contains(\"Benford\")].shape[0])\n",
    "print(\"Contains LogSeries:\",df[df.antimode.str.contains(\"LogSeries\")].shape[0])\n",
    "print(\"Hand Removed:\",df[df.antimode.str.contains(\"HandRemoved\")].shape[0])\n",
    "print(\"Antimode Found:\",df.thresholds.count())\n",
    "print(\"Antimode Found < 0.5:\",(df.thresholds < 0.5).sum())"
   ]
  },
  {
   "cell_type": "code",
   "execution_count": 8,
   "metadata": {},
   "outputs": [
    {
     "data": {
      "text/plain": [
       "PoissonDistribution             8650\n",
       "WaringYuleDistribution          7680\n",
       "GeometricDistribution           5274\n",
       "DataDistribution                 556\n",
       "MixtureDistribution              145\n",
       "NegativeBinomialDistribution     137\n",
       "ExtremeValueDistribution           1\n",
       "LogNormalDistribution              1\n",
       "Name: distribution, dtype: int64"
      ]
     },
     "execution_count": 8,
     "metadata": {},
     "output_type": "execute_result"
    }
   ],
   "source": [
    "df.distribution.str.split(\"[\").apply(lambda x: x[0]).value_counts()"
   ]
  },
  {
   "cell_type": "code",
   "execution_count": 13,
   "metadata": {},
   "outputs": [],
   "source": [
    "df.rename({\"Unnamed: 0\": \"gene_id\"}, axis=1, inplace=True)"
   ]
  },
  {
   "cell_type": "code",
   "execution_count": 14,
   "metadata": {},
   "outputs": [
    {
     "data": {
      "text/html": [
       "<div>\n",
       "<style scoped>\n",
       "    .dataframe tbody tr th:only-of-type {\n",
       "        vertical-align: middle;\n",
       "    }\n",
       "\n",
       "    .dataframe tbody tr th {\n",
       "        vertical-align: top;\n",
       "    }\n",
       "\n",
       "    .dataframe thead th {\n",
       "        text-align: right;\n",
       "    }\n",
       "</style>\n",
       "<table border=\"1\" class=\"dataframe\">\n",
       "  <thead>\n",
       "    <tr style=\"text-align: right;\">\n",
       "      <th></th>\n",
       "      <th>gene_id</th>\n",
       "      <th>distribution</th>\n",
       "      <th>antimode</th>\n",
       "      <th>thresholds</th>\n",
       "    </tr>\n",
       "  </thead>\n",
       "  <tbody>\n",
       "  </tbody>\n",
       "</table>\n",
       "</div>"
      ],
      "text/plain": [
       "Empty DataFrame\n",
       "Columns: [gene_id, distribution, antimode, thresholds]\n",
       "Index: []"
      ]
     },
     "execution_count": 14,
     "metadata": {},
     "output_type": "execute_result"
    }
   ],
   "source": [
    "df[df.gene_id.str.startswith(\"Pcdh\")]"
   ]
  },
  {
   "cell_type": "code",
   "execution_count": 15,
   "metadata": {},
   "outputs": [],
   "source": [
    "_df = df.dropna().drop([\"distribution\", \"antimode\"],axis=1).copy()\n",
    "_df[\"uncorrected_threshold\"] = _df.thresholds.copy()\n",
    "_df[\"threshold\"] = _df.thresholds.copy()\n",
    "_df.loc[_df.threshold < 0.5,\"threshold\"] = 0.5\n",
    "_df.drop(\"thresholds\",inplace=True,axis=1)"
   ]
  },
  {
   "cell_type": "code",
   "execution_count": 16,
   "metadata": {},
   "outputs": [],
   "source": [
    "_df.to_csv(\"{}/mathematica/fitted_distributions_thresholds.csv\".format(dataset),index=False)"
   ]
  },
  {
   "cell_type": "code",
   "execution_count": 17,
   "metadata": {},
   "outputs": [],
   "source": [
    "all_genes_df = pd.read_csv(\"{}.csv\".format(dataset),index_col=\"gene_id\").loc[_df.gene_id]"
   ]
  },
  {
   "cell_type": "code",
   "execution_count": 18,
   "metadata": {},
   "outputs": [],
   "source": [
    "for _, (gene_id, _, threshold) in _df.iterrows():\n",
    "    all_genes_df.loc[gene_id,all_genes_df.loc[gene_id,:] < threshold] = 0\n",
    "    all_genes_df.loc[gene_id,all_genes_df.loc[gene_id,:] >= threshold] = 1"
   ]
  },
  {
   "cell_type": "code",
   "execution_count": 19,
   "metadata": {},
   "outputs": [],
   "source": [
    "all_genes_df.to_csv(\"{}/mathematica/fitted_distributions_dichotomised.csv\".format(dataset))"
   ]
  },
  {
   "cell_type": "code",
   "execution_count": 20,
   "metadata": {},
   "outputs": [
    {
     "data": {
      "text/plain": [
       "count    10.000000\n",
       "mean      0.402285\n",
       "std       0.009734\n",
       "min       0.387475\n",
       "25%       0.397812\n",
       "50%       0.402509\n",
       "75%       0.406376\n",
       "max       0.417335\n",
       "Name: uncorrected_threshold, dtype: float64"
      ]
     },
     "execution_count": 20,
     "metadata": {},
     "output_type": "execute_result"
    }
   ],
   "source": [
    "_df.uncorrected_threshold.describe()"
   ]
  },
  {
   "cell_type": "code",
   "execution_count": 21,
   "metadata": {},
   "outputs": [
    {
     "data": {
      "text/html": [
       "<div>\n",
       "<style scoped>\n",
       "    .dataframe tbody tr th:only-of-type {\n",
       "        vertical-align: middle;\n",
       "    }\n",
       "\n",
       "    .dataframe tbody tr th {\n",
       "        vertical-align: top;\n",
       "    }\n",
       "\n",
       "    .dataframe thead th {\n",
       "        text-align: right;\n",
       "    }\n",
       "</style>\n",
       "<table border=\"1\" class=\"dataframe\">\n",
       "  <thead>\n",
       "    <tr style=\"text-align: right;\">\n",
       "      <th></th>\n",
       "      <th>gene_id</th>\n",
       "      <th>uncorrected_threshold</th>\n",
       "      <th>threshold</th>\n",
       "    </tr>\n",
       "  </thead>\n",
       "  <tbody>\n",
       "    <tr>\n",
       "      <th>1</th>\n",
       "      <td>Trbv13-2</td>\n",
       "      <td>0.403877</td>\n",
       "      <td>0.5</td>\n",
       "    </tr>\n",
       "    <tr>\n",
       "      <th>2</th>\n",
       "      <td>Trbv13-3</td>\n",
       "      <td>0.407209</td>\n",
       "      <td>0.5</td>\n",
       "    </tr>\n",
       "    <tr>\n",
       "      <th>4</th>\n",
       "      <td>Trbv15</td>\n",
       "      <td>0.416052</td>\n",
       "      <td>0.5</td>\n",
       "    </tr>\n",
       "    <tr>\n",
       "      <th>5</th>\n",
       "      <td>Trbv16</td>\n",
       "      <td>0.398348</td>\n",
       "      <td>0.5</td>\n",
       "    </tr>\n",
       "    <tr>\n",
       "      <th>7</th>\n",
       "      <td>Trbv19</td>\n",
       "      <td>0.397633</td>\n",
       "      <td>0.5</td>\n",
       "    </tr>\n",
       "    <tr>\n",
       "      <th>8</th>\n",
       "      <td>Trbv2</td>\n",
       "      <td>0.389903</td>\n",
       "      <td>0.5</td>\n",
       "    </tr>\n",
       "    <tr>\n",
       "      <th>9</th>\n",
       "      <td>Trbv20</td>\n",
       "      <td>0.402567</td>\n",
       "      <td>0.5</td>\n",
       "    </tr>\n",
       "    <tr>\n",
       "      <th>14</th>\n",
       "      <td>Trbv3</td>\n",
       "      <td>0.417335</td>\n",
       "      <td>0.5</td>\n",
       "    </tr>\n",
       "    <tr>\n",
       "      <th>16</th>\n",
       "      <td>Trbv31</td>\n",
       "      <td>0.387475</td>\n",
       "      <td>0.5</td>\n",
       "    </tr>\n",
       "    <tr>\n",
       "      <th>17</th>\n",
       "      <td>Trbv5</td>\n",
       "      <td>0.402451</td>\n",
       "      <td>0.5</td>\n",
       "    </tr>\n",
       "  </tbody>\n",
       "</table>\n",
       "</div>"
      ],
      "text/plain": [
       "     gene_id  uncorrected_threshold  threshold\n",
       "1   Trbv13-2               0.403877        0.5\n",
       "2   Trbv13-3               0.407209        0.5\n",
       "4     Trbv15               0.416052        0.5\n",
       "5     Trbv16               0.398348        0.5\n",
       "7     Trbv19               0.397633        0.5\n",
       "8      Trbv2               0.389903        0.5\n",
       "9     Trbv20               0.402567        0.5\n",
       "14     Trbv3               0.417335        0.5\n",
       "16    Trbv31               0.387475        0.5\n",
       "17     Trbv5               0.402451        0.5"
      ]
     },
     "execution_count": 21,
     "metadata": {},
     "output_type": "execute_result"
    }
   ],
   "source": [
    "_df"
   ]
  }
 ],
 "metadata": {
  "kernelspec": {
   "display_name": "Python 3.7.4 64-bit ('stochastic': conda)",
   "language": "python",
   "name": "python37464bitstochasticcondad3c784986b534aaebb6b91784b827746"
  },
  "language_info": {
   "codemirror_mode": {
    "name": "ipython",
    "version": 3
   },
   "file_extension": ".py",
   "mimetype": "text/x-python",
   "name": "python",
   "nbconvert_exporter": "python",
   "pygments_lexer": "ipython3",
   "version": "3.7.6"
  }
 },
 "nbformat": 4,
 "nbformat_minor": 2
}
