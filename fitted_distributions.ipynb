{
 "cells": [
  {
   "cell_type": "code",
   "execution_count": null,
   "metadata": {},
   "outputs": [],
   "source": [
    "import pandas as pd\n",
    "import numpy as np"
   ]
  },
  {
   "cell_type": "code",
   "execution_count": null,
   "metadata": {},
   "outputs": [],
   "source": [
    "dataset = \"Alveolar_cells_Type_II_Merged_Batches\"\n",
    "df = pd.read_csv(\"{}/mathematica/mathematica_results.csv\".format(dataset))"
   ]
  },
  {
   "cell_type": "code",
   "execution_count": null,
   "metadata": {},
   "outputs": [],
   "source": [
    "df.thresholds[df.thresholds.str.startswith(\"\\\"\\\"\")] = np.nan\n",
    "df.loc[df.thresholds == \"NotFound\", \"thresholds\"] = np.nan"
   ]
  },
  {
   "cell_type": "code",
   "execution_count": null,
   "metadata": {},
   "outputs": [],
   "source": [
    "df.thresholds = df.thresholds.astype(\"float\")"
   ]
  },
  {
   "cell_type": "code",
   "execution_count": null,
   "metadata": {},
   "outputs": [],
   "source": [
    "df"
   ]
  },
  {
   "cell_type": "code",
   "execution_count": null,
   "metadata": {},
   "outputs": [],
   "source": [
    "df[~df.antimode.str.contains(\"Mixture\")]"
   ]
  },
  {
   "cell_type": "code",
   "execution_count": null,
   "metadata": {},
   "outputs": [],
   "source": [
    "print(\"Total genes considered:\",df.shape[0])\n",
    "print(\"SystemException:\",df[df.distribution == \"-1\"].shape[0])\n",
    "print(\"Not Mixtures:\",df[df.antimode.str.contains(\"Mixture\")].shape[0])\n",
    "print(\"Contains Laplace:\",df[df.antimode.str.contains(\"Lapla\")].shape[0])\n",
    "print(\"Contains Zipf:\",df[df.antimode.str.contains(\"Zipf\")].shape[0])\n",
    "print(\"Contains Uniform:\",df[df.antimode.str.contains(\"Uniform\")].shape[0])\n",
    "print(\"Contains Benford:\",df[df.antimode.str.contains(\"Benford\")].shape[0])\n",
    "print(\"Contains LogSeries:\",df[df.antimode.str.contains(\"LogSeries\")].shape[0])\n",
    "print(\"Hand Removed:\",df[df.antimode.str.contains(\"HandRemoved\")].shape[0])\n",
    "print(\"Antimode Found:\",df.thresholds.count())\n",
    "print(\"Antimode Found < 0.5:\",(df.thresholds < 0.5).sum())"
   ]
  },
  {
   "cell_type": "code",
   "execution_count": null,
   "metadata": {},
   "outputs": [],
   "source": [
    "df.distribution.str.split(\"[\").apply(lambda x: x[0]).value_counts()"
   ]
  },
  {
   "cell_type": "code",
   "execution_count": null,
   "metadata": {},
   "outputs": [],
   "source": [
    "df.rename({\"Unnamed: 0\": \"gene_id\"}, axis=1, inplace=True)"
   ]
  },
  {
   "cell_type": "code",
   "execution_count": null,
   "metadata": {},
   "outputs": [],
   "source": [
    "df[df.gene_id.str.startswith(\"Pcdh\")]"
   ]
  },
  {
   "cell_type": "code",
   "execution_count": null,
   "metadata": {},
   "outputs": [],
   "source": [
    "_df = df.dropna().drop([\"distribution\", \"antimode\"],axis=1).copy()\n",
    "_df[\"uncorrected_threshold\"] = _df.thresholds.copy()\n",
    "_df[\"threshold\"] = _df.thresholds.copy()\n",
    "_df.loc[_df.threshold < 0.5,\"threshold\"] = 0.5\n",
    "_df.drop(\"thresholds\",inplace=True,axis=1)"
   ]
  },
  {
   "cell_type": "code",
   "execution_count": null,
   "metadata": {},
   "outputs": [],
   "source": [
    "_df.to_csv(\"{}/mathematica/fitted_distributions_thresholds.csv\".format(dataset),index=False)"
   ]
  },
  {
   "cell_type": "code",
   "execution_count": null,
   "metadata": {},
   "outputs": [],
   "source": [
    "all_genes_df = pd.read_csv(\"{}.csv\".format(dataset),index_col=\"gene_id\").loc[_df.gene_id]"
   ]
  },
  {
   "cell_type": "code",
   "execution_count": null,
   "metadata": {},
   "outputs": [],
   "source": [
    "for _, (gene_id, _, threshold) in _df.iterrows():\n",
    "    all_genes_df.loc[gene_id,all_genes_df.loc[gene_id,:] < threshold] = 0\n",
    "    all_genes_df.loc[gene_id,all_genes_df.loc[gene_id,:] >= threshold] = 1"
   ]
  },
  {
   "cell_type": "code",
   "execution_count": null,
   "metadata": {},
   "outputs": [],
   "source": [
    "all_genes_df.to_csv(\"{}/mathematica/fitted_distributions_dichotomised.csv\".format(dataset))"
   ]
  },
  {
   "cell_type": "code",
   "execution_count": null,
   "metadata": {},
   "outputs": [],
   "source": [
    "_df.uncorrected_threshold.describe()"
   ]
  },
  {
   "cell_type": "code",
   "execution_count": null,
   "metadata": {},
   "outputs": [],
   "source": [
    "_df"
   ]
  }
 ],
 "metadata": {
  "kernelspec": {
   "display_name": "Python 3.7.4 64-bit ('stochastic': conda)",
   "language": "python",
   "name": "python37464bitstochasticcondad3c784986b534aaebb6b91784b827746"
  },
  "language_info": {
   "codemirror_mode": {
    "name": "ipython",
    "version": 3
   },
   "file_extension": ".py",
   "mimetype": "text/x-python",
   "name": "python",
   "nbconvert_exporter": "python",
   "pygments_lexer": "ipython3",
   "version": "3.7.6"
  }
 },
 "nbformat": 4,
 "nbformat_minor": 2
}
